{
  "nbformat": 4,
  "nbformat_minor": 0,
  "metadata": {
    "colab": {
      "provenance": []
    },
    "kernelspec": {
      "name": "python3",
      "display_name": "Python 3"
    },
    "language_info": {
      "name": "python"
    },
    "accelerator": "GPU",
    "gpuClass": "standard",
    "widgets": {
      "application/vnd.jupyter.widget-state+json": {
        "f8a32db43f32413fb0f9b1a8b32d0308": {
          "model_module": "@jupyter-widgets/controls",
          "model_name": "HBoxModel",
          "model_module_version": "1.5.0",
          "state": {
            "_dom_classes": [],
            "_model_module": "@jupyter-widgets/controls",
            "_model_module_version": "1.5.0",
            "_model_name": "HBoxModel",
            "_view_count": null,
            "_view_module": "@jupyter-widgets/controls",
            "_view_module_version": "1.5.0",
            "_view_name": "HBoxView",
            "box_style": "",
            "children": [
              "IPY_MODEL_d19939ee4102401bbc0a96e1f321fa17",
              "IPY_MODEL_b164256d318141078ec8833503fa1c08",
              "IPY_MODEL_e353cc3e1df945bab1c54fcbfbc3c758"
            ],
            "layout": "IPY_MODEL_77cc341f4a88405a819fd1f57d7e5dc9"
          }
        },
        "d19939ee4102401bbc0a96e1f321fa17": {
          "model_module": "@jupyter-widgets/controls",
          "model_name": "HTMLModel",
          "model_module_version": "1.5.0",
          "state": {
            "_dom_classes": [],
            "_model_module": "@jupyter-widgets/controls",
            "_model_module_version": "1.5.0",
            "_model_name": "HTMLModel",
            "_view_count": null,
            "_view_module": "@jupyter-widgets/controls",
            "_view_module_version": "1.5.0",
            "_view_name": "HTMLView",
            "description": "",
            "description_tooltip": null,
            "layout": "IPY_MODEL_730d073cec7c4c09895644728907bce8",
            "placeholder": "​",
            "style": "IPY_MODEL_219986f5f2d149de96f4c3257117fffa",
            "value": "100%"
          }
        },
        "b164256d318141078ec8833503fa1c08": {
          "model_module": "@jupyter-widgets/controls",
          "model_name": "FloatProgressModel",
          "model_module_version": "1.5.0",
          "state": {
            "_dom_classes": [],
            "_model_module": "@jupyter-widgets/controls",
            "_model_module_version": "1.5.0",
            "_model_name": "FloatProgressModel",
            "_view_count": null,
            "_view_module": "@jupyter-widgets/controls",
            "_view_module_version": "1.5.0",
            "_view_name": "ProgressView",
            "bar_style": "success",
            "description": "",
            "description_tooltip": null,
            "layout": "IPY_MODEL_7fd2a1ee160148a59bc79592a788ca4d",
            "max": 1,
            "min": 0,
            "orientation": "horizontal",
            "style": "IPY_MODEL_9c16009561fc4448a349476bc4b28c1e",
            "value": 1
          }
        },
        "e353cc3e1df945bab1c54fcbfbc3c758": {
          "model_module": "@jupyter-widgets/controls",
          "model_name": "HTMLModel",
          "model_module_version": "1.5.0",
          "state": {
            "_dom_classes": [],
            "_model_module": "@jupyter-widgets/controls",
            "_model_module_version": "1.5.0",
            "_model_name": "HTMLModel",
            "_view_count": null,
            "_view_module": "@jupyter-widgets/controls",
            "_view_module_version": "1.5.0",
            "_view_name": "HTMLView",
            "description": "",
            "description_tooltip": null,
            "layout": "IPY_MODEL_d60b3739e0524833a51bd8bf76ec595d",
            "placeholder": "​",
            "style": "IPY_MODEL_2c520f1043424832805e97599b03708d",
            "value": " 1/1 [00:00&lt;00:00, 59.28it/s]"
          }
        },
        "77cc341f4a88405a819fd1f57d7e5dc9": {
          "model_module": "@jupyter-widgets/base",
          "model_name": "LayoutModel",
          "model_module_version": "1.2.0",
          "state": {
            "_model_module": "@jupyter-widgets/base",
            "_model_module_version": "1.2.0",
            "_model_name": "LayoutModel",
            "_view_count": null,
            "_view_module": "@jupyter-widgets/base",
            "_view_module_version": "1.2.0",
            "_view_name": "LayoutView",
            "align_content": null,
            "align_items": null,
            "align_self": null,
            "border": null,
            "bottom": null,
            "display": null,
            "flex": null,
            "flex_flow": null,
            "grid_area": null,
            "grid_auto_columns": null,
            "grid_auto_flow": null,
            "grid_auto_rows": null,
            "grid_column": null,
            "grid_gap": null,
            "grid_row": null,
            "grid_template_areas": null,
            "grid_template_columns": null,
            "grid_template_rows": null,
            "height": null,
            "justify_content": null,
            "justify_items": null,
            "left": null,
            "margin": null,
            "max_height": null,
            "max_width": null,
            "min_height": null,
            "min_width": null,
            "object_fit": null,
            "object_position": null,
            "order": null,
            "overflow": null,
            "overflow_x": null,
            "overflow_y": null,
            "padding": null,
            "right": null,
            "top": null,
            "visibility": null,
            "width": null
          }
        },
        "730d073cec7c4c09895644728907bce8": {
          "model_module": "@jupyter-widgets/base",
          "model_name": "LayoutModel",
          "model_module_version": "1.2.0",
          "state": {
            "_model_module": "@jupyter-widgets/base",
            "_model_module_version": "1.2.0",
            "_model_name": "LayoutModel",
            "_view_count": null,
            "_view_module": "@jupyter-widgets/base",
            "_view_module_version": "1.2.0",
            "_view_name": "LayoutView",
            "align_content": null,
            "align_items": null,
            "align_self": null,
            "border": null,
            "bottom": null,
            "display": null,
            "flex": null,
            "flex_flow": null,
            "grid_area": null,
            "grid_auto_columns": null,
            "grid_auto_flow": null,
            "grid_auto_rows": null,
            "grid_column": null,
            "grid_gap": null,
            "grid_row": null,
            "grid_template_areas": null,
            "grid_template_columns": null,
            "grid_template_rows": null,
            "height": null,
            "justify_content": null,
            "justify_items": null,
            "left": null,
            "margin": null,
            "max_height": null,
            "max_width": null,
            "min_height": null,
            "min_width": null,
            "object_fit": null,
            "object_position": null,
            "order": null,
            "overflow": null,
            "overflow_x": null,
            "overflow_y": null,
            "padding": null,
            "right": null,
            "top": null,
            "visibility": null,
            "width": null
          }
        },
        "219986f5f2d149de96f4c3257117fffa": {
          "model_module": "@jupyter-widgets/controls",
          "model_name": "DescriptionStyleModel",
          "model_module_version": "1.5.0",
          "state": {
            "_model_module": "@jupyter-widgets/controls",
            "_model_module_version": "1.5.0",
            "_model_name": "DescriptionStyleModel",
            "_view_count": null,
            "_view_module": "@jupyter-widgets/base",
            "_view_module_version": "1.2.0",
            "_view_name": "StyleView",
            "description_width": ""
          }
        },
        "7fd2a1ee160148a59bc79592a788ca4d": {
          "model_module": "@jupyter-widgets/base",
          "model_name": "LayoutModel",
          "model_module_version": "1.2.0",
          "state": {
            "_model_module": "@jupyter-widgets/base",
            "_model_module_version": "1.2.0",
            "_model_name": "LayoutModel",
            "_view_count": null,
            "_view_module": "@jupyter-widgets/base",
            "_view_module_version": "1.2.0",
            "_view_name": "LayoutView",
            "align_content": null,
            "align_items": null,
            "align_self": null,
            "border": null,
            "bottom": null,
            "display": null,
            "flex": null,
            "flex_flow": null,
            "grid_area": null,
            "grid_auto_columns": null,
            "grid_auto_flow": null,
            "grid_auto_rows": null,
            "grid_column": null,
            "grid_gap": null,
            "grid_row": null,
            "grid_template_areas": null,
            "grid_template_columns": null,
            "grid_template_rows": null,
            "height": null,
            "justify_content": null,
            "justify_items": null,
            "left": null,
            "margin": null,
            "max_height": null,
            "max_width": null,
            "min_height": null,
            "min_width": null,
            "object_fit": null,
            "object_position": null,
            "order": null,
            "overflow": null,
            "overflow_x": null,
            "overflow_y": null,
            "padding": null,
            "right": null,
            "top": null,
            "visibility": null,
            "width": null
          }
        },
        "9c16009561fc4448a349476bc4b28c1e": {
          "model_module": "@jupyter-widgets/controls",
          "model_name": "ProgressStyleModel",
          "model_module_version": "1.5.0",
          "state": {
            "_model_module": "@jupyter-widgets/controls",
            "_model_module_version": "1.5.0",
            "_model_name": "ProgressStyleModel",
            "_view_count": null,
            "_view_module": "@jupyter-widgets/base",
            "_view_module_version": "1.2.0",
            "_view_name": "StyleView",
            "bar_color": null,
            "description_width": ""
          }
        },
        "d60b3739e0524833a51bd8bf76ec595d": {
          "model_module": "@jupyter-widgets/base",
          "model_name": "LayoutModel",
          "model_module_version": "1.2.0",
          "state": {
            "_model_module": "@jupyter-widgets/base",
            "_model_module_version": "1.2.0",
            "_model_name": "LayoutModel",
            "_view_count": null,
            "_view_module": "@jupyter-widgets/base",
            "_view_module_version": "1.2.0",
            "_view_name": "LayoutView",
            "align_content": null,
            "align_items": null,
            "align_self": null,
            "border": null,
            "bottom": null,
            "display": null,
            "flex": null,
            "flex_flow": null,
            "grid_area": null,
            "grid_auto_columns": null,
            "grid_auto_flow": null,
            "grid_auto_rows": null,
            "grid_column": null,
            "grid_gap": null,
            "grid_row": null,
            "grid_template_areas": null,
            "grid_template_columns": null,
            "grid_template_rows": null,
            "height": null,
            "justify_content": null,
            "justify_items": null,
            "left": null,
            "margin": null,
            "max_height": null,
            "max_width": null,
            "min_height": null,
            "min_width": null,
            "object_fit": null,
            "object_position": null,
            "order": null,
            "overflow": null,
            "overflow_x": null,
            "overflow_y": null,
            "padding": null,
            "right": null,
            "top": null,
            "visibility": null,
            "width": null
          }
        },
        "2c520f1043424832805e97599b03708d": {
          "model_module": "@jupyter-widgets/controls",
          "model_name": "DescriptionStyleModel",
          "model_module_version": "1.5.0",
          "state": {
            "_model_module": "@jupyter-widgets/controls",
            "_model_module_version": "1.5.0",
            "_model_name": "DescriptionStyleModel",
            "_view_count": null,
            "_view_module": "@jupyter-widgets/base",
            "_view_module_version": "1.2.0",
            "_view_name": "StyleView",
            "description_width": ""
          }
        },
        "f5f6ef6856e94a839c99a8d66cdb83bc": {
          "model_module": "@jupyter-widgets/controls",
          "model_name": "HBoxModel",
          "model_module_version": "1.5.0",
          "state": {
            "_dom_classes": [],
            "_model_module": "@jupyter-widgets/controls",
            "_model_module_version": "1.5.0",
            "_model_name": "HBoxModel",
            "_view_count": null,
            "_view_module": "@jupyter-widgets/controls",
            "_view_module_version": "1.5.0",
            "_view_name": "HBoxView",
            "box_style": "",
            "children": [
              "IPY_MODEL_b212d0db4a954de5b801a186de4d30bb",
              "IPY_MODEL_6741d6ec55ef4a19a70303125c9614f5",
              "IPY_MODEL_fd0e1a13179941949a3aa6a101c5733d"
            ],
            "layout": "IPY_MODEL_9aa9d49fe8aa4c1ead21471d753a75a1"
          }
        },
        "b212d0db4a954de5b801a186de4d30bb": {
          "model_module": "@jupyter-widgets/controls",
          "model_name": "HTMLModel",
          "model_module_version": "1.5.0",
          "state": {
            "_dom_classes": [],
            "_model_module": "@jupyter-widgets/controls",
            "_model_module_version": "1.5.0",
            "_model_name": "HTMLModel",
            "_view_count": null,
            "_view_module": "@jupyter-widgets/controls",
            "_view_module_version": "1.5.0",
            "_view_name": "HTMLView",
            "description": "",
            "description_tooltip": null,
            "layout": "IPY_MODEL_4e36cdce11f04242a952299c6d57efee",
            "placeholder": "​",
            "style": "IPY_MODEL_97771e03ec794221a9d7a5b4b2dc4012",
            "value": "100%"
          }
        },
        "6741d6ec55ef4a19a70303125c9614f5": {
          "model_module": "@jupyter-widgets/controls",
          "model_name": "FloatProgressModel",
          "model_module_version": "1.5.0",
          "state": {
            "_dom_classes": [],
            "_model_module": "@jupyter-widgets/controls",
            "_model_module_version": "1.5.0",
            "_model_name": "FloatProgressModel",
            "_view_count": null,
            "_view_module": "@jupyter-widgets/controls",
            "_view_module_version": "1.5.0",
            "_view_name": "ProgressView",
            "bar_style": "success",
            "description": "",
            "description_tooltip": null,
            "layout": "IPY_MODEL_1765ffb89bce467b889ac1b44a529c56",
            "max": 1,
            "min": 0,
            "orientation": "horizontal",
            "style": "IPY_MODEL_d1e4ca6eebc54edf93bfeceb5caed350",
            "value": 1
          }
        },
        "fd0e1a13179941949a3aa6a101c5733d": {
          "model_module": "@jupyter-widgets/controls",
          "model_name": "HTMLModel",
          "model_module_version": "1.5.0",
          "state": {
            "_dom_classes": [],
            "_model_module": "@jupyter-widgets/controls",
            "_model_module_version": "1.5.0",
            "_model_name": "HTMLModel",
            "_view_count": null,
            "_view_module": "@jupyter-widgets/controls",
            "_view_module_version": "1.5.0",
            "_view_name": "HTMLView",
            "description": "",
            "description_tooltip": null,
            "layout": "IPY_MODEL_20a4f95c54b2494eb8f4ea6b302fe022",
            "placeholder": "​",
            "style": "IPY_MODEL_dbeaee3f8e8e41d8b0160e95887fbc4f",
            "value": " 1/1 [00:00&lt;00:00, 31.01it/s]"
          }
        },
        "9aa9d49fe8aa4c1ead21471d753a75a1": {
          "model_module": "@jupyter-widgets/base",
          "model_name": "LayoutModel",
          "model_module_version": "1.2.0",
          "state": {
            "_model_module": "@jupyter-widgets/base",
            "_model_module_version": "1.2.0",
            "_model_name": "LayoutModel",
            "_view_count": null,
            "_view_module": "@jupyter-widgets/base",
            "_view_module_version": "1.2.0",
            "_view_name": "LayoutView",
            "align_content": null,
            "align_items": null,
            "align_self": null,
            "border": null,
            "bottom": null,
            "display": null,
            "flex": null,
            "flex_flow": null,
            "grid_area": null,
            "grid_auto_columns": null,
            "grid_auto_flow": null,
            "grid_auto_rows": null,
            "grid_column": null,
            "grid_gap": null,
            "grid_row": null,
            "grid_template_areas": null,
            "grid_template_columns": null,
            "grid_template_rows": null,
            "height": null,
            "justify_content": null,
            "justify_items": null,
            "left": null,
            "margin": null,
            "max_height": null,
            "max_width": null,
            "min_height": null,
            "min_width": null,
            "object_fit": null,
            "object_position": null,
            "order": null,
            "overflow": null,
            "overflow_x": null,
            "overflow_y": null,
            "padding": null,
            "right": null,
            "top": null,
            "visibility": null,
            "width": null
          }
        },
        "4e36cdce11f04242a952299c6d57efee": {
          "model_module": "@jupyter-widgets/base",
          "model_name": "LayoutModel",
          "model_module_version": "1.2.0",
          "state": {
            "_model_module": "@jupyter-widgets/base",
            "_model_module_version": "1.2.0",
            "_model_name": "LayoutModel",
            "_view_count": null,
            "_view_module": "@jupyter-widgets/base",
            "_view_module_version": "1.2.0",
            "_view_name": "LayoutView",
            "align_content": null,
            "align_items": null,
            "align_self": null,
            "border": null,
            "bottom": null,
            "display": null,
            "flex": null,
            "flex_flow": null,
            "grid_area": null,
            "grid_auto_columns": null,
            "grid_auto_flow": null,
            "grid_auto_rows": null,
            "grid_column": null,
            "grid_gap": null,
            "grid_row": null,
            "grid_template_areas": null,
            "grid_template_columns": null,
            "grid_template_rows": null,
            "height": null,
            "justify_content": null,
            "justify_items": null,
            "left": null,
            "margin": null,
            "max_height": null,
            "max_width": null,
            "min_height": null,
            "min_width": null,
            "object_fit": null,
            "object_position": null,
            "order": null,
            "overflow": null,
            "overflow_x": null,
            "overflow_y": null,
            "padding": null,
            "right": null,
            "top": null,
            "visibility": null,
            "width": null
          }
        },
        "97771e03ec794221a9d7a5b4b2dc4012": {
          "model_module": "@jupyter-widgets/controls",
          "model_name": "DescriptionStyleModel",
          "model_module_version": "1.5.0",
          "state": {
            "_model_module": "@jupyter-widgets/controls",
            "_model_module_version": "1.5.0",
            "_model_name": "DescriptionStyleModel",
            "_view_count": null,
            "_view_module": "@jupyter-widgets/base",
            "_view_module_version": "1.2.0",
            "_view_name": "StyleView",
            "description_width": ""
          }
        },
        "1765ffb89bce467b889ac1b44a529c56": {
          "model_module": "@jupyter-widgets/base",
          "model_name": "LayoutModel",
          "model_module_version": "1.2.0",
          "state": {
            "_model_module": "@jupyter-widgets/base",
            "_model_module_version": "1.2.0",
            "_model_name": "LayoutModel",
            "_view_count": null,
            "_view_module": "@jupyter-widgets/base",
            "_view_module_version": "1.2.0",
            "_view_name": "LayoutView",
            "align_content": null,
            "align_items": null,
            "align_self": null,
            "border": null,
            "bottom": null,
            "display": null,
            "flex": null,
            "flex_flow": null,
            "grid_area": null,
            "grid_auto_columns": null,
            "grid_auto_flow": null,
            "grid_auto_rows": null,
            "grid_column": null,
            "grid_gap": null,
            "grid_row": null,
            "grid_template_areas": null,
            "grid_template_columns": null,
            "grid_template_rows": null,
            "height": null,
            "justify_content": null,
            "justify_items": null,
            "left": null,
            "margin": null,
            "max_height": null,
            "max_width": null,
            "min_height": null,
            "min_width": null,
            "object_fit": null,
            "object_position": null,
            "order": null,
            "overflow": null,
            "overflow_x": null,
            "overflow_y": null,
            "padding": null,
            "right": null,
            "top": null,
            "visibility": null,
            "width": null
          }
        },
        "d1e4ca6eebc54edf93bfeceb5caed350": {
          "model_module": "@jupyter-widgets/controls",
          "model_name": "ProgressStyleModel",
          "model_module_version": "1.5.0",
          "state": {
            "_model_module": "@jupyter-widgets/controls",
            "_model_module_version": "1.5.0",
            "_model_name": "ProgressStyleModel",
            "_view_count": null,
            "_view_module": "@jupyter-widgets/base",
            "_view_module_version": "1.2.0",
            "_view_name": "StyleView",
            "bar_color": null,
            "description_width": ""
          }
        },
        "20a4f95c54b2494eb8f4ea6b302fe022": {
          "model_module": "@jupyter-widgets/base",
          "model_name": "LayoutModel",
          "model_module_version": "1.2.0",
          "state": {
            "_model_module": "@jupyter-widgets/base",
            "_model_module_version": "1.2.0",
            "_model_name": "LayoutModel",
            "_view_count": null,
            "_view_module": "@jupyter-widgets/base",
            "_view_module_version": "1.2.0",
            "_view_name": "LayoutView",
            "align_content": null,
            "align_items": null,
            "align_self": null,
            "border": null,
            "bottom": null,
            "display": null,
            "flex": null,
            "flex_flow": null,
            "grid_area": null,
            "grid_auto_columns": null,
            "grid_auto_flow": null,
            "grid_auto_rows": null,
            "grid_column": null,
            "grid_gap": null,
            "grid_row": null,
            "grid_template_areas": null,
            "grid_template_columns": null,
            "grid_template_rows": null,
            "height": null,
            "justify_content": null,
            "justify_items": null,
            "left": null,
            "margin": null,
            "max_height": null,
            "max_width": null,
            "min_height": null,
            "min_width": null,
            "object_fit": null,
            "object_position": null,
            "order": null,
            "overflow": null,
            "overflow_x": null,
            "overflow_y": null,
            "padding": null,
            "right": null,
            "top": null,
            "visibility": null,
            "width": null
          }
        },
        "dbeaee3f8e8e41d8b0160e95887fbc4f": {
          "model_module": "@jupyter-widgets/controls",
          "model_name": "DescriptionStyleModel",
          "model_module_version": "1.5.0",
          "state": {
            "_model_module": "@jupyter-widgets/controls",
            "_model_module_version": "1.5.0",
            "_model_name": "DescriptionStyleModel",
            "_view_count": null,
            "_view_module": "@jupyter-widgets/base",
            "_view_module_version": "1.2.0",
            "_view_name": "StyleView",
            "description_width": ""
          }
        }
      }
    }
  },
  "cells": [
    {
      "cell_type": "code",
      "source": [],
      "metadata": {
        "id": "e_3RV8C9ascz"
      },
      "execution_count": null,
      "outputs": []
    },
    {
      "cell_type": "code",
      "execution_count": 16,
      "metadata": {
        "id": "k5L3q82Ddn9_"
      },
      "outputs": [],
      "source": [
        "#!pip install transformers -q\n",
        "#!pip install datasets -q\n",
        "#!pip install langchain -q\n",
        "#!pip install huggingface_hub -q\n",
        "#!pip install accelerate -q#\n",
        "#!pip install openai -q\n",
        "#!pip install ftfy -q\n",
        "#!pip install pyserini -q\n",
        "!pip install faiss-cpu -q"
      ]
    },
    {
      "cell_type": "code",
      "source": [
        "import os\n",
        "os.chdir('/content/drive/MyDrive/doutorado/P_IA368DD_2023S/aula8_9')\n",
        "\n",
        "import numpy as np\n",
        "\n",
        "np.random.seed(42)\n",
        "\n",
        "path_data = \"./data\""
      ],
      "metadata": {
        "id": "DdETiJzhk2_l"
      },
      "execution_count": 4,
      "outputs": []
    },
    {
      "cell_type": "code",
      "source": [
        "import torch\n",
        "\n",
        "device = torch.device(\"cuda\" if torch.cuda.is_available() else \"cpu\")\n",
        "device"
      ],
      "metadata": {
        "colab": {
          "base_uri": "https://localhost:8080/"
        },
        "id": "c-sR9vnGkt4B",
        "outputId": "01df2dc8-9c86-4d61-c81e-db2a6d2b7547"
      },
      "execution_count": null,
      "outputs": [
        {
          "output_type": "execute_result",
          "data": {
            "text/plain": [
              "device(type='cuda')"
            ]
          },
          "metadata": {},
          "execution_count": 33
        }
      ]
    },
    {
      "cell_type": "code",
      "source": [
        "# get a token: https://huggingface.co/docs/api-inference/quicktour#get-your-api-token\n",
        "\n",
        "from getpass import getpass\n",
        "\n",
        "HUGGINGFACEHUB_API_TOKEN = getpass()\n",
        "OPENAI_API_KEY = getpass()"
      ],
      "metadata": {
        "colab": {
          "base_uri": "https://localhost:8080/"
        },
        "id": "vlpBx5hUkwvR",
        "outputId": "a235f23b-0271-4008-a5b3-d0a25bd2e5cd"
      },
      "execution_count": null,
      "outputs": [
        {
          "name": "stdout",
          "output_type": "stream",
          "text": [
            "··········\n",
            "··········\n"
          ]
        }
      ]
    },
    {
      "cell_type": "code",
      "source": [
        "os.environ[\"HUGGINGFACEHUB_API_TOKEN\"] = HUGGINGFACEHUB_API_TOKEN\n",
        "os.environ[\"OPENAI_API_KEY\"] = OPENAI_API_KEY\n",
        "#workdir = '/content/gdrive/MyDrive/Unicamp/DL_applied_to_IR/Notebooks'\n"
      ],
      "metadata": {
        "id": "PLcoPnzkffWf"
      },
      "execution_count": null,
      "outputs": []
    },
    {
      "cell_type": "code",
      "source": [
        "import pandas as pd\n",
        "# import torch.nn.functional as F\n",
        "import json\n",
        "import time\n",
        "#import ftfy"
      ],
      "metadata": {
        "id": "0bZlJT8Xk8lT"
      },
      "execution_count": 3,
      "outputs": []
    },
    {
      "cell_type": "code",
      "source": [
        "from datasets import load_dataset\n",
        "from langchain import (\n",
        "    HuggingFacePipeline,\n",
        "    HuggingFaceHub,\n",
        "    PromptTemplate, \n",
        "    LLMChain\n",
        ")\n",
        "from transformers import (\n",
        "    AutoTokenizer,\n",
        "    AutoModelForCausalLM\n",
        ")\n",
        "from langchain.llms import OpenAI\n",
        "from langchain.chat_models import ChatOpenAI\n",
        "# from torch.utils.data import DataLoader, Dataset\n",
        "from tqdm.auto import tqdm\n",
        "from collections import defaultdict\n",
        "from pyserini.search.lucene import LuceneSearcher\n",
        "# from evaluate import load"
      ],
      "metadata": {
        "id": "cwvzcKGEk8YN"
      },
      "execution_count": null,
      "outputs": []
    },
    {
      "cell_type": "code",
      "source": [
        "from pyserini.search.lucene import LuceneSearcher"
      ],
      "metadata": {
        "id": "9R7a50Lne1WN"
      },
      "execution_count": 17,
      "outputs": []
    },
    {
      "cell_type": "code",
      "source": [
        "trec_covid_queries = load_dataset(\"BeIR/trec-covid\", 'queries')\n",
        "trec_covid_corpus = load_dataset(\"BeIR/trec-covid\", 'corpus')"
      ],
      "metadata": {
        "colab": {
          "base_uri": "https://localhost:8080/",
          "height": 116,
          "referenced_widgets": [
            "f8a32db43f32413fb0f9b1a8b32d0308",
            "d19939ee4102401bbc0a96e1f321fa17",
            "b164256d318141078ec8833503fa1c08",
            "e353cc3e1df945bab1c54fcbfbc3c758",
            "77cc341f4a88405a819fd1f57d7e5dc9",
            "730d073cec7c4c09895644728907bce8",
            "219986f5f2d149de96f4c3257117fffa",
            "7fd2a1ee160148a59bc79592a788ca4d",
            "9c16009561fc4448a349476bc4b28c1e",
            "d60b3739e0524833a51bd8bf76ec595d",
            "2c520f1043424832805e97599b03708d",
            "f5f6ef6856e94a839c99a8d66cdb83bc",
            "b212d0db4a954de5b801a186de4d30bb",
            "6741d6ec55ef4a19a70303125c9614f5",
            "fd0e1a13179941949a3aa6a101c5733d",
            "9aa9d49fe8aa4c1ead21471d753a75a1",
            "4e36cdce11f04242a952299c6d57efee",
            "97771e03ec794221a9d7a5b4b2dc4012",
            "1765ffb89bce467b889ac1b44a529c56",
            "d1e4ca6eebc54edf93bfeceb5caed350",
            "20a4f95c54b2494eb8f4ea6b302fe022",
            "dbeaee3f8e8e41d8b0160e95887fbc4f"
          ]
        },
        "id": "4obc9rRpff1s",
        "outputId": "2b68f636-0097-4955-b593-526ad5350445"
      },
      "execution_count": null,
      "outputs": [
        {
          "output_type": "stream",
          "name": "stderr",
          "text": [
            "WARNING:datasets.builder:Found cached dataset trec-covid (/root/.cache/huggingface/datasets/BeIR___trec-covid/queries/0.0.0/093f1fe2ffa7a9c72fa48239c8f279b51d6b171abd77737c7fd1406125307599)\n"
          ]
        },
        {
          "output_type": "display_data",
          "data": {
            "text/plain": [
              "  0%|          | 0/1 [00:00<?, ?it/s]"
            ],
            "application/vnd.jupyter.widget-view+json": {
              "version_major": 2,
              "version_minor": 0,
              "model_id": "f8a32db43f32413fb0f9b1a8b32d0308"
            }
          },
          "metadata": {}
        },
        {
          "output_type": "stream",
          "name": "stderr",
          "text": [
            "WARNING:datasets.builder:Found cached dataset trec-covid (/root/.cache/huggingface/datasets/BeIR___trec-covid/corpus/0.0.0/093f1fe2ffa7a9c72fa48239c8f279b51d6b171abd77737c7fd1406125307599)\n"
          ]
        },
        {
          "output_type": "display_data",
          "data": {
            "text/plain": [
              "  0%|          | 0/1 [00:00<?, ?it/s]"
            ],
            "application/vnd.jupyter.widget-view+json": {
              "version_major": 2,
              "version_minor": 0,
              "model_id": "f5f6ef6856e94a839c99a8d66cdb83bc"
            }
          },
          "metadata": {}
        }
      ]
    },
    {
      "cell_type": "code",
      "source": [
        "queries_ids = np.random.randint(len(trec_covid_corpus['corpus']), \n",
        "                                size = 1000)\n",
        "test_queries_ids = np.random.randint(len(trec_covid_corpus['corpus']), \n",
        "                                size = 5)"
      ],
      "metadata": {
        "id": "rJStK36yfh1l"
      },
      "execution_count": null,
      "outputs": []
    },
    {
      "cell_type": "code",
      "source": [
        "llm = ChatOpenAI(model_name = 'gpt-3.5-turbo',\n",
        "                 model_kwargs={'temperature':1e-10})\n",
        "#llama_model = 'decapoda-research/llama-7b-hf'\n",
        "#flan_model = \"google/flan-t5-xl\"\n",
        "#llm = HuggingFaceHub(repo_id=flan_model,\n",
        "#                          model_kwargs={'temperature':1e-10,\n",
        "#                                        \"max_length\": 64})\n",
        "\n",
        "template = \"\"\"Given this document, formulate one query for it.\n",
        "\n",
        "{text}\"\"\"\n",
        "\n",
        "\n",
        "prompt = PromptTemplate(template = template, \n",
        "                        input_variables = [\"text\"])\n",
        "\n",
        "llm_chain = LLMChain(prompt = prompt, llm = llm)"
      ],
      "metadata": {
        "id": "zmQuOcU9fpv2"
      },
      "execution_count": null,
      "outputs": []
    },
    {
      "cell_type": "code",
      "source": [
        "text = trec_covid_corpus['corpus']['text'][0]\n",
        "\n",
        "print(llm_chain.run({'text': text}))"
      ],
      "metadata": {
        "colab": {
          "base_uri": "https://localhost:8080/"
        },
        "id": "fbFsMv52sVCX",
        "outputId": "5e03a0b8-adf5-4f45-9d3b-440be44c7b11"
      },
      "execution_count": null,
      "outputs": [
        {
          "output_type": "stream",
          "name": "stdout",
          "text": [
            "What were the epidemiology and clinical features of patients with culture-proven Mycoplasma pneumoniae infections at King Abdulaziz University Hospital in Jeddah, Saudi Arabia from January 1997 to December 1998?\n"
          ]
        }
      ]
    },
    {
      "cell_type": "code",
      "source": [
        "MAX_REQUEST_PER_MINUTE = 50\n",
        "\n",
        "def generate_queries(llm_model, text):\n",
        "\n",
        "  generated_query = llm_model.run({'text': text})\n",
        "  return generated_query\n",
        "\n",
        "def call_generate_queries(llm_model, samples, save_file_path):\n",
        "  \n",
        "  request_count = 0\n",
        "  df = pd.DataFrame()\n",
        "  generated_queries = []\n",
        "  pos_doc_ids = []\n",
        "\n",
        "  with open(f\"{save_file_path}.jsonl\", 'a', encoding='utf-8') as arquivo:\n",
        "\n",
        "    for sample in tqdm(samples[335+187:]):\n",
        "      #title = ftfy.fix_text(trec_covid_corpus['corpus']['title'][sample])\n",
        "      text = ftfy.fix_text(trec_covid_corpus['corpus']['text'][sample])\n",
        "      \n",
        "      generated_query = generate_queries(llm_model, text)\n",
        "      generated_queries.append(generated_query)\n",
        "      pos_doc_ids.append(trec_covid_corpus['corpus']['_id'][sample])\n",
        "\n",
        "      doc = {\"positive_doc_id\": trec_covid_corpus['corpus']['_id'][sample], \"query\": generated_query}\n",
        "      arquivo.write(f\"{json.dumps(doc)}\\n\")\n",
        "      request_count += 1\n",
        "\n",
        "      if request_count == MAX_REQUEST_PER_MINUTE:\n",
        "        print(f\"{request_count} requests. Sleep\")\n",
        "        time.sleep(5)\n",
        "        request_count = 0\n",
        "\n",
        "  df['query'] = generated_queries\n",
        "  df['positive_doc_id'] = pos_doc_ids\n",
        "\n",
        "  df.to_csv(f\"{save_file_path}.csv\")\n",
        "  print(f'Saved to {save_file_path}')\n",
        "  return df\n",
        "\n",
        "\n",
        "if not os.path.exists(f\"{path_data}\"):\n",
        "    os.mkdir(path_data)\n",
        "    print(\"Pasta criada!\")\n",
        "else:\n",
        "    print(\"Pasta já existe\")\n",
        "\n",
        "#test_generated_queries = call_generate_queries(llm_chain, test_queries_ids, f'{path_data}/test_queries.csv')\n",
        "generated_queries = call_generate_queries(llm_chain, queries_ids, f'{path_data}/generated_queries')"
      ],
      "metadata": {
        "id": "X4xRU_lFgSP4"
      },
      "execution_count": null,
      "outputs": []
    },
    {
      "cell_type": "code",
      "source": [
        "generated_queries = pd.read_json(f'{path_data}/generated_queries.jsonl',lines=True)"
      ],
      "metadata": {
        "id": "VgRMDmmDOIlZ"
      },
      "execution_count": 8,
      "outputs": []
    },
    {
      "cell_type": "code",
      "source": [
        "generated_queries"
      ],
      "metadata": {
        "id": "Umu9gwouat_O",
        "colab": {
          "base_uri": "https://localhost:8080/",
          "height": 424
        },
        "outputId": "a3a3e705-27ff-4d7b-d751-2b7a374f76dc"
      },
      "execution_count": 9,
      "outputs": [
        {
          "output_type": "execute_result",
          "data": {
            "text/plain": [
              "    positive_doc_id                                              query\n",
              "0          v8zyecxz  What compounds from Curcuma longa L. were foun...\n",
              "1          tthrpxx6  What is the prevalence of RSV subtypes and dis...\n",
              "2          tb0wl19x  What are the factors that contribute to the em...\n",
              "3          b72m9x9j  What is the risk status of patients of a natio...\n",
              "4          v8zyecxz  What compounds from Curcuma longa L. were foun...\n",
              "..              ...                                                ...\n",
              "540        g2eqaizz  I'm sorry, but I cannot formulate a query with...\n",
              "541        4q9jrpop  What is the prevalence of human parainfluenza ...\n",
              "542        hcknigdu  I'm sorry, but I cannot formulate a query with...\n",
              "543        vdzvj0vx  What are the clinical characteristics, prevent...\n",
              "544        lp4lczn4  What is the success rate and peri-procedural r...\n",
              "\n",
              "[545 rows x 2 columns]"
            ],
            "text/html": [
              "\n",
              "  <div id=\"df-8e8385c0-7883-4b7e-a669-1c99f1d3ec0b\">\n",
              "    <div class=\"colab-df-container\">\n",
              "      <div>\n",
              "<style scoped>\n",
              "    .dataframe tbody tr th:only-of-type {\n",
              "        vertical-align: middle;\n",
              "    }\n",
              "\n",
              "    .dataframe tbody tr th {\n",
              "        vertical-align: top;\n",
              "    }\n",
              "\n",
              "    .dataframe thead th {\n",
              "        text-align: right;\n",
              "    }\n",
              "</style>\n",
              "<table border=\"1\" class=\"dataframe\">\n",
              "  <thead>\n",
              "    <tr style=\"text-align: right;\">\n",
              "      <th></th>\n",
              "      <th>positive_doc_id</th>\n",
              "      <th>query</th>\n",
              "    </tr>\n",
              "  </thead>\n",
              "  <tbody>\n",
              "    <tr>\n",
              "      <th>0</th>\n",
              "      <td>v8zyecxz</td>\n",
              "      <td>What compounds from Curcuma longa L. were foun...</td>\n",
              "    </tr>\n",
              "    <tr>\n",
              "      <th>1</th>\n",
              "      <td>tthrpxx6</td>\n",
              "      <td>What is the prevalence of RSV subtypes and dis...</td>\n",
              "    </tr>\n",
              "    <tr>\n",
              "      <th>2</th>\n",
              "      <td>tb0wl19x</td>\n",
              "      <td>What are the factors that contribute to the em...</td>\n",
              "    </tr>\n",
              "    <tr>\n",
              "      <th>3</th>\n",
              "      <td>b72m9x9j</td>\n",
              "      <td>What is the risk status of patients of a natio...</td>\n",
              "    </tr>\n",
              "    <tr>\n",
              "      <th>4</th>\n",
              "      <td>v8zyecxz</td>\n",
              "      <td>What compounds from Curcuma longa L. were foun...</td>\n",
              "    </tr>\n",
              "    <tr>\n",
              "      <th>...</th>\n",
              "      <td>...</td>\n",
              "      <td>...</td>\n",
              "    </tr>\n",
              "    <tr>\n",
              "      <th>540</th>\n",
              "      <td>g2eqaizz</td>\n",
              "      <td>I'm sorry, but I cannot formulate a query with...</td>\n",
              "    </tr>\n",
              "    <tr>\n",
              "      <th>541</th>\n",
              "      <td>4q9jrpop</td>\n",
              "      <td>What is the prevalence of human parainfluenza ...</td>\n",
              "    </tr>\n",
              "    <tr>\n",
              "      <th>542</th>\n",
              "      <td>hcknigdu</td>\n",
              "      <td>I'm sorry, but I cannot formulate a query with...</td>\n",
              "    </tr>\n",
              "    <tr>\n",
              "      <th>543</th>\n",
              "      <td>vdzvj0vx</td>\n",
              "      <td>What are the clinical characteristics, prevent...</td>\n",
              "    </tr>\n",
              "    <tr>\n",
              "      <th>544</th>\n",
              "      <td>lp4lczn4</td>\n",
              "      <td>What is the success rate and peri-procedural r...</td>\n",
              "    </tr>\n",
              "  </tbody>\n",
              "</table>\n",
              "<p>545 rows × 2 columns</p>\n",
              "</div>\n",
              "      <button class=\"colab-df-convert\" onclick=\"convertToInteractive('df-8e8385c0-7883-4b7e-a669-1c99f1d3ec0b')\"\n",
              "              title=\"Convert this dataframe to an interactive table.\"\n",
              "              style=\"display:none;\">\n",
              "        \n",
              "  <svg xmlns=\"http://www.w3.org/2000/svg\" height=\"24px\"viewBox=\"0 0 24 24\"\n",
              "       width=\"24px\">\n",
              "    <path d=\"M0 0h24v24H0V0z\" fill=\"none\"/>\n",
              "    <path d=\"M18.56 5.44l.94 2.06.94-2.06 2.06-.94-2.06-.94-.94-2.06-.94 2.06-2.06.94zm-11 1L8.5 8.5l.94-2.06 2.06-.94-2.06-.94L8.5 2.5l-.94 2.06-2.06.94zm10 10l.94 2.06.94-2.06 2.06-.94-2.06-.94-.94-2.06-.94 2.06-2.06.94z\"/><path d=\"M17.41 7.96l-1.37-1.37c-.4-.4-.92-.59-1.43-.59-.52 0-1.04.2-1.43.59L10.3 9.45l-7.72 7.72c-.78.78-.78 2.05 0 2.83L4 21.41c.39.39.9.59 1.41.59.51 0 1.02-.2 1.41-.59l7.78-7.78 2.81-2.81c.8-.78.8-2.07 0-2.86zM5.41 20L4 18.59l7.72-7.72 1.47 1.35L5.41 20z\"/>\n",
              "  </svg>\n",
              "      </button>\n",
              "      \n",
              "  <style>\n",
              "    .colab-df-container {\n",
              "      display:flex;\n",
              "      flex-wrap:wrap;\n",
              "      gap: 12px;\n",
              "    }\n",
              "\n",
              "    .colab-df-convert {\n",
              "      background-color: #E8F0FE;\n",
              "      border: none;\n",
              "      border-radius: 50%;\n",
              "      cursor: pointer;\n",
              "      display: none;\n",
              "      fill: #1967D2;\n",
              "      height: 32px;\n",
              "      padding: 0 0 0 0;\n",
              "      width: 32px;\n",
              "    }\n",
              "\n",
              "    .colab-df-convert:hover {\n",
              "      background-color: #E2EBFA;\n",
              "      box-shadow: 0px 1px 2px rgba(60, 64, 67, 0.3), 0px 1px 3px 1px rgba(60, 64, 67, 0.15);\n",
              "      fill: #174EA6;\n",
              "    }\n",
              "\n",
              "    [theme=dark] .colab-df-convert {\n",
              "      background-color: #3B4455;\n",
              "      fill: #D2E3FC;\n",
              "    }\n",
              "\n",
              "    [theme=dark] .colab-df-convert:hover {\n",
              "      background-color: #434B5C;\n",
              "      box-shadow: 0px 1px 3px 1px rgba(0, 0, 0, 0.15);\n",
              "      filter: drop-shadow(0px 1px 2px rgba(0, 0, 0, 0.3));\n",
              "      fill: #FFFFFF;\n",
              "    }\n",
              "  </style>\n",
              "\n",
              "      <script>\n",
              "        const buttonEl =\n",
              "          document.querySelector('#df-8e8385c0-7883-4b7e-a669-1c99f1d3ec0b button.colab-df-convert');\n",
              "        buttonEl.style.display =\n",
              "          google.colab.kernel.accessAllowed ? 'block' : 'none';\n",
              "\n",
              "        async function convertToInteractive(key) {\n",
              "          const element = document.querySelector('#df-8e8385c0-7883-4b7e-a669-1c99f1d3ec0b');\n",
              "          const dataTable =\n",
              "            await google.colab.kernel.invokeFunction('convertToInteractive',\n",
              "                                                     [key], {});\n",
              "          if (!dataTable) return;\n",
              "\n",
              "          const docLinkHtml = 'Like what you see? Visit the ' +\n",
              "            '<a target=\"_blank\" href=https://colab.research.google.com/notebooks/data_table.ipynb>data table notebook</a>'\n",
              "            + ' to learn more about interactive tables.';\n",
              "          element.innerHTML = '';\n",
              "          dataTable['output_type'] = 'display_data';\n",
              "          await google.colab.output.renderOutput(dataTable, element);\n",
              "          const docLink = document.createElement('div');\n",
              "          docLink.innerHTML = docLinkHtml;\n",
              "          element.appendChild(docLink);\n",
              "        }\n",
              "      </script>\n",
              "    </div>\n",
              "  </div>\n",
              "  "
            ]
          },
          "metadata": {},
          "execution_count": 9
        }
      ]
    },
    {
      "cell_type": "code",
      "source": [
        "# Inspired by Manoel Veríssimo dos Santos Neto\n",
        "# https://github.com/verissimomanoel/P_IA368DD_2023S1/blob/main/Exercicio8/generate_dataset.py\n",
        "\n",
        "def generate_ramdom_numbers(max = 5, k = 1000):\n",
        "    random_list = []\n",
        "    while len(random_list) < max:\n",
        "        n = np.random.randint(0, k)\n",
        "\n",
        "        # Prevent duplicated index\n",
        "        if n not in random_list:\n",
        "            random_list.append(n)\n",
        "\n",
        "    return random_list\n",
        "\n",
        "def search_with_bm25(query, max = 5, k = 1000):\n",
        "    searcher = LuceneSearcher.from_prebuilt_index('beir-v1.0.0-trec-covid.flat')\n",
        "    hits = searcher.search(query, k)\n",
        "    random_list = generate_ramdom_numbers(max = max, k = k)\n",
        "    random_ids = []\n",
        "\n",
        "    for index in random_list:\n",
        "        jsondoc = json.loads(hits[index].raw)\n",
        "        random_ids.append(jsondoc[\"_id\"])\n",
        "\n",
        "    return random_ids"
      ],
      "metadata": {
        "id": "Tde2eI99eNhT"
      },
      "execution_count": 11,
      "outputs": []
    },
    {
      "cell_type": "code",
      "source": [
        "generated_queries['negative_doc_ids'] = generated_queries['query'].apply(search_with_bm25)"
      ],
      "metadata": {
        "colab": {
          "base_uri": "https://localhost:8080/"
        },
        "id": "3dBlXdRXel2a",
        "outputId": "7483bbcf-637e-4737-bfc8-cb1161d26f47"
      },
      "execution_count": 18,
      "outputs": [
        {
          "output_type": "stream",
          "name": "stdout",
          "text": [
            "Downloading index at https://rgw.cs.uwaterloo.ca/pyserini/indexes/lucene-index.beir-v1.0.0-trec-covid.flat.20221116.505594.tar.gz...\n"
          ]
        },
        {
          "output_type": "stream",
          "name": "stderr",
          "text": [
            "lucene-index.beir-v1.0.0-trec-covid.flat.20221116.505594.tar.gz: 216MB [00:03, 57.3MB/s]                           \n"
          ]
        }
      ]
    },
    {
      "cell_type": "code",
      "source": [
        "#generated_queries.drop('Unnamed: 0', axis = 1, inplace = True)\n",
        "generated_queries"
      ],
      "metadata": {
        "colab": {
          "base_uri": "https://localhost:8080/",
          "height": 424
        },
        "id": "7i76So0yes4U",
        "outputId": "544bf788-d465-4107-e012-eae6aa7514cf"
      },
      "execution_count": 24,
      "outputs": [
        {
          "output_type": "execute_result",
          "data": {
            "text/plain": [
              "    positive_doc_id                                              query  \\\n",
              "0          v8zyecxz  What compounds from Curcuma longa L. were foun...   \n",
              "1          tthrpxx6  What is the prevalence of RSV subtypes and dis...   \n",
              "2          tb0wl19x  What are the factors that contribute to the em...   \n",
              "3          b72m9x9j  What is the risk status of patients of a natio...   \n",
              "4          v8zyecxz  What compounds from Curcuma longa L. were foun...   \n",
              "..              ...                                                ...   \n",
              "540        g2eqaizz  I'm sorry, but I cannot formulate a query with...   \n",
              "541        4q9jrpop  What is the prevalence of human parainfluenza ...   \n",
              "542        hcknigdu  I'm sorry, but I cannot formulate a query with...   \n",
              "543        vdzvj0vx  What are the clinical characteristics, prevent...   \n",
              "544        lp4lczn4  What is the success rate and peri-procedural r...   \n",
              "\n",
              "                                      negative_doc_ids  \n",
              "0    [i0mlsxkn, s71naf96, h23iqb7s, 6zk0ioep, wevcm...  \n",
              "1    [csjowuwt, oxsocl1c, mrxgcg6z, 3i90blvy, 1c630...  \n",
              "2    [ymwqp6e2, tzv2ntev, hvvyeeuj, 49it5pha, t3iou...  \n",
              "3    [t1xf06tl, v5tlpp4b, ou7hpqjd, eaac0cem, zbjgr...  \n",
              "4    [p77lyofz, mj2t1iwb, 6rs95axb, kcyao9i9, v48tl...  \n",
              "..                                                 ...  \n",
              "540  [uyk76b3t, hlhhvmtu, x3o3a45b, tqn9j322, iwk60...  \n",
              "541  [e32nybra, birsn4kx, 08kqtw8s, zipc9zxw, qrdhh...  \n",
              "542  [pb2ydrt4, xyqzp4h1, wboueeti, em7pg8mj, 6frnb...  \n",
              "543  [w8gjy2nk, 2gbxtt7l, 41ycjpt9, aiel1i0u, 5jsch...  \n",
              "544  [ovyirgoy, 6coookt6, y8egpokv, 5fya8f2g, k6o54...  \n",
              "\n",
              "[545 rows x 3 columns]"
            ],
            "text/html": [
              "\n",
              "  <div id=\"df-43006d66-bcf4-4842-b04c-2a918bc962d3\">\n",
              "    <div class=\"colab-df-container\">\n",
              "      <div>\n",
              "<style scoped>\n",
              "    .dataframe tbody tr th:only-of-type {\n",
              "        vertical-align: middle;\n",
              "    }\n",
              "\n",
              "    .dataframe tbody tr th {\n",
              "        vertical-align: top;\n",
              "    }\n",
              "\n",
              "    .dataframe thead th {\n",
              "        text-align: right;\n",
              "    }\n",
              "</style>\n",
              "<table border=\"1\" class=\"dataframe\">\n",
              "  <thead>\n",
              "    <tr style=\"text-align: right;\">\n",
              "      <th></th>\n",
              "      <th>positive_doc_id</th>\n",
              "      <th>query</th>\n",
              "      <th>negative_doc_ids</th>\n",
              "    </tr>\n",
              "  </thead>\n",
              "  <tbody>\n",
              "    <tr>\n",
              "      <th>0</th>\n",
              "      <td>v8zyecxz</td>\n",
              "      <td>What compounds from Curcuma longa L. were foun...</td>\n",
              "      <td>[i0mlsxkn, s71naf96, h23iqb7s, 6zk0ioep, wevcm...</td>\n",
              "    </tr>\n",
              "    <tr>\n",
              "      <th>1</th>\n",
              "      <td>tthrpxx6</td>\n",
              "      <td>What is the prevalence of RSV subtypes and dis...</td>\n",
              "      <td>[csjowuwt, oxsocl1c, mrxgcg6z, 3i90blvy, 1c630...</td>\n",
              "    </tr>\n",
              "    <tr>\n",
              "      <th>2</th>\n",
              "      <td>tb0wl19x</td>\n",
              "      <td>What are the factors that contribute to the em...</td>\n",
              "      <td>[ymwqp6e2, tzv2ntev, hvvyeeuj, 49it5pha, t3iou...</td>\n",
              "    </tr>\n",
              "    <tr>\n",
              "      <th>3</th>\n",
              "      <td>b72m9x9j</td>\n",
              "      <td>What is the risk status of patients of a natio...</td>\n",
              "      <td>[t1xf06tl, v5tlpp4b, ou7hpqjd, eaac0cem, zbjgr...</td>\n",
              "    </tr>\n",
              "    <tr>\n",
              "      <th>4</th>\n",
              "      <td>v8zyecxz</td>\n",
              "      <td>What compounds from Curcuma longa L. were foun...</td>\n",
              "      <td>[p77lyofz, mj2t1iwb, 6rs95axb, kcyao9i9, v48tl...</td>\n",
              "    </tr>\n",
              "    <tr>\n",
              "      <th>...</th>\n",
              "      <td>...</td>\n",
              "      <td>...</td>\n",
              "      <td>...</td>\n",
              "    </tr>\n",
              "    <tr>\n",
              "      <th>540</th>\n",
              "      <td>g2eqaizz</td>\n",
              "      <td>I'm sorry, but I cannot formulate a query with...</td>\n",
              "      <td>[uyk76b3t, hlhhvmtu, x3o3a45b, tqn9j322, iwk60...</td>\n",
              "    </tr>\n",
              "    <tr>\n",
              "      <th>541</th>\n",
              "      <td>4q9jrpop</td>\n",
              "      <td>What is the prevalence of human parainfluenza ...</td>\n",
              "      <td>[e32nybra, birsn4kx, 08kqtw8s, zipc9zxw, qrdhh...</td>\n",
              "    </tr>\n",
              "    <tr>\n",
              "      <th>542</th>\n",
              "      <td>hcknigdu</td>\n",
              "      <td>I'm sorry, but I cannot formulate a query with...</td>\n",
              "      <td>[pb2ydrt4, xyqzp4h1, wboueeti, em7pg8mj, 6frnb...</td>\n",
              "    </tr>\n",
              "    <tr>\n",
              "      <th>543</th>\n",
              "      <td>vdzvj0vx</td>\n",
              "      <td>What are the clinical characteristics, prevent...</td>\n",
              "      <td>[w8gjy2nk, 2gbxtt7l, 41ycjpt9, aiel1i0u, 5jsch...</td>\n",
              "    </tr>\n",
              "    <tr>\n",
              "      <th>544</th>\n",
              "      <td>lp4lczn4</td>\n",
              "      <td>What is the success rate and peri-procedural r...</td>\n",
              "      <td>[ovyirgoy, 6coookt6, y8egpokv, 5fya8f2g, k6o54...</td>\n",
              "    </tr>\n",
              "  </tbody>\n",
              "</table>\n",
              "<p>545 rows × 3 columns</p>\n",
              "</div>\n",
              "      <button class=\"colab-df-convert\" onclick=\"convertToInteractive('df-43006d66-bcf4-4842-b04c-2a918bc962d3')\"\n",
              "              title=\"Convert this dataframe to an interactive table.\"\n",
              "              style=\"display:none;\">\n",
              "        \n",
              "  <svg xmlns=\"http://www.w3.org/2000/svg\" height=\"24px\"viewBox=\"0 0 24 24\"\n",
              "       width=\"24px\">\n",
              "    <path d=\"M0 0h24v24H0V0z\" fill=\"none\"/>\n",
              "    <path d=\"M18.56 5.44l.94 2.06.94-2.06 2.06-.94-2.06-.94-.94-2.06-.94 2.06-2.06.94zm-11 1L8.5 8.5l.94-2.06 2.06-.94-2.06-.94L8.5 2.5l-.94 2.06-2.06.94zm10 10l.94 2.06.94-2.06 2.06-.94-2.06-.94-.94-2.06-.94 2.06-2.06.94z\"/><path d=\"M17.41 7.96l-1.37-1.37c-.4-.4-.92-.59-1.43-.59-.52 0-1.04.2-1.43.59L10.3 9.45l-7.72 7.72c-.78.78-.78 2.05 0 2.83L4 21.41c.39.39.9.59 1.41.59.51 0 1.02-.2 1.41-.59l7.78-7.78 2.81-2.81c.8-.78.8-2.07 0-2.86zM5.41 20L4 18.59l7.72-7.72 1.47 1.35L5.41 20z\"/>\n",
              "  </svg>\n",
              "      </button>\n",
              "      \n",
              "  <style>\n",
              "    .colab-df-container {\n",
              "      display:flex;\n",
              "      flex-wrap:wrap;\n",
              "      gap: 12px;\n",
              "    }\n",
              "\n",
              "    .colab-df-convert {\n",
              "      background-color: #E8F0FE;\n",
              "      border: none;\n",
              "      border-radius: 50%;\n",
              "      cursor: pointer;\n",
              "      display: none;\n",
              "      fill: #1967D2;\n",
              "      height: 32px;\n",
              "      padding: 0 0 0 0;\n",
              "      width: 32px;\n",
              "    }\n",
              "\n",
              "    .colab-df-convert:hover {\n",
              "      background-color: #E2EBFA;\n",
              "      box-shadow: 0px 1px 2px rgba(60, 64, 67, 0.3), 0px 1px 3px 1px rgba(60, 64, 67, 0.15);\n",
              "      fill: #174EA6;\n",
              "    }\n",
              "\n",
              "    [theme=dark] .colab-df-convert {\n",
              "      background-color: #3B4455;\n",
              "      fill: #D2E3FC;\n",
              "    }\n",
              "\n",
              "    [theme=dark] .colab-df-convert:hover {\n",
              "      background-color: #434B5C;\n",
              "      box-shadow: 0px 1px 3px 1px rgba(0, 0, 0, 0.15);\n",
              "      filter: drop-shadow(0px 1px 2px rgba(0, 0, 0, 0.3));\n",
              "      fill: #FFFFFF;\n",
              "    }\n",
              "  </style>\n",
              "\n",
              "      <script>\n",
              "        const buttonEl =\n",
              "          document.querySelector('#df-43006d66-bcf4-4842-b04c-2a918bc962d3 button.colab-df-convert');\n",
              "        buttonEl.style.display =\n",
              "          google.colab.kernel.accessAllowed ? 'block' : 'none';\n",
              "\n",
              "        async function convertToInteractive(key) {\n",
              "          const element = document.querySelector('#df-43006d66-bcf4-4842-b04c-2a918bc962d3');\n",
              "          const dataTable =\n",
              "            await google.colab.kernel.invokeFunction('convertToInteractive',\n",
              "                                                     [key], {});\n",
              "          if (!dataTable) return;\n",
              "\n",
              "          const docLinkHtml = 'Like what you see? Visit the ' +\n",
              "            '<a target=\"_blank\" href=https://colab.research.google.com/notebooks/data_table.ipynb>data table notebook</a>'\n",
              "            + ' to learn more about interactive tables.';\n",
              "          element.innerHTML = '';\n",
              "          dataTable['output_type'] = 'display_data';\n",
              "          await google.colab.output.renderOutput(dataTable, element);\n",
              "          const docLink = document.createElement('div');\n",
              "          docLink.innerHTML = docLinkHtml;\n",
              "          element.appendChild(docLink);\n",
              "        }\n",
              "      </script>\n",
              "    </div>\n",
              "  </div>\n",
              "  "
            ]
          },
          "metadata": {},
          "execution_count": 24
        }
      ]
    },
    {
      "cell_type": "code",
      "source": [
        "generated_queries.to_json(f'{path_data}/leodeciobraz_545_queries.jsonl', lines = True, orient = 'records')"
      ],
      "metadata": {
        "id": "8SA7hHcFhmPF"
      },
      "execution_count": 23,
      "outputs": []
    },
    {
      "cell_type": "code",
      "source": [],
      "metadata": {
        "id": "69WEtDFGii4y"
      },
      "execution_count": null,
      "outputs": []
    }
  ]
}