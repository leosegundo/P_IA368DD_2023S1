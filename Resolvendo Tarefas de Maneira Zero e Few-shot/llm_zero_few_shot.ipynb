{
  "nbformat": 4,
  "nbformat_minor": 0,
  "metadata": {
    "colab": {
      "provenance": []
    },
    "kernelspec": {
      "name": "python3",
      "display_name": "Python 3"
    },
    "language_info": {
      "name": "python"
    },
    "widgets": {
      "application/vnd.jupyter.widget-state+json": {
        "fee6a14547204448a936bee7b954e0f8": {
          "model_module": "@jupyter-widgets/controls",
          "model_name": "HBoxModel",
          "model_module_version": "1.5.0",
          "state": {
            "_dom_classes": [],
            "_model_module": "@jupyter-widgets/controls",
            "_model_module_version": "1.5.0",
            "_model_name": "HBoxModel",
            "_view_count": null,
            "_view_module": "@jupyter-widgets/controls",
            "_view_module_version": "1.5.0",
            "_view_name": "HBoxView",
            "box_style": "",
            "children": [
              "IPY_MODEL_31c4d410b41c4ff397c3d813a24b6568",
              "IPY_MODEL_835e8f9a666a4287bc33bb94105adc2f",
              "IPY_MODEL_cb5a9bd403b349cebb21ea8e8f1130fe"
            ],
            "layout": "IPY_MODEL_fa4f716edc154271b9e23b524123cf20"
          }
        },
        "31c4d410b41c4ff397c3d813a24b6568": {
          "model_module": "@jupyter-widgets/controls",
          "model_name": "HTMLModel",
          "model_module_version": "1.5.0",
          "state": {
            "_dom_classes": [],
            "_model_module": "@jupyter-widgets/controls",
            "_model_module_version": "1.5.0",
            "_model_name": "HTMLModel",
            "_view_count": null,
            "_view_module": "@jupyter-widgets/controls",
            "_view_module_version": "1.5.0",
            "_view_name": "HTMLView",
            "description": "",
            "description_tooltip": null,
            "layout": "IPY_MODEL_4623aeb3494242bea40b7ec3d63c0a31",
            "placeholder": "​",
            "style": "IPY_MODEL_97fbd0c293fa4307b9b9530a2397a38c",
            "value": "100%"
          }
        },
        "835e8f9a666a4287bc33bb94105adc2f": {
          "model_module": "@jupyter-widgets/controls",
          "model_name": "FloatProgressModel",
          "model_module_version": "1.5.0",
          "state": {
            "_dom_classes": [],
            "_model_module": "@jupyter-widgets/controls",
            "_model_module_version": "1.5.0",
            "_model_name": "FloatProgressModel",
            "_view_count": null,
            "_view_module": "@jupyter-widgets/controls",
            "_view_module_version": "1.5.0",
            "_view_name": "ProgressView",
            "bar_style": "success",
            "description": "",
            "description_tooltip": null,
            "layout": "IPY_MODEL_1fb9fe6fbbbc4315a0f82e98f4d46ef6",
            "max": 10,
            "min": 0,
            "orientation": "horizontal",
            "style": "IPY_MODEL_b0360868489741ec8f334da8f163de7f",
            "value": 10
          }
        },
        "cb5a9bd403b349cebb21ea8e8f1130fe": {
          "model_module": "@jupyter-widgets/controls",
          "model_name": "HTMLModel",
          "model_module_version": "1.5.0",
          "state": {
            "_dom_classes": [],
            "_model_module": "@jupyter-widgets/controls",
            "_model_module_version": "1.5.0",
            "_model_name": "HTMLModel",
            "_view_count": null,
            "_view_module": "@jupyter-widgets/controls",
            "_view_module_version": "1.5.0",
            "_view_name": "HTMLView",
            "description": "",
            "description_tooltip": null,
            "layout": "IPY_MODEL_5526eec477b44a8e8cb838e50e1b6e1d",
            "placeholder": "​",
            "style": "IPY_MODEL_e898ed5551df405587ac1811e7ed4453",
            "value": " 10/10 [07:13&lt;00:00, 29.09s/it]"
          }
        },
        "fa4f716edc154271b9e23b524123cf20": {
          "model_module": "@jupyter-widgets/base",
          "model_name": "LayoutModel",
          "model_module_version": "1.2.0",
          "state": {
            "_model_module": "@jupyter-widgets/base",
            "_model_module_version": "1.2.0",
            "_model_name": "LayoutModel",
            "_view_count": null,
            "_view_module": "@jupyter-widgets/base",
            "_view_module_version": "1.2.0",
            "_view_name": "LayoutView",
            "align_content": null,
            "align_items": null,
            "align_self": null,
            "border": null,
            "bottom": null,
            "display": null,
            "flex": null,
            "flex_flow": null,
            "grid_area": null,
            "grid_auto_columns": null,
            "grid_auto_flow": null,
            "grid_auto_rows": null,
            "grid_column": null,
            "grid_gap": null,
            "grid_row": null,
            "grid_template_areas": null,
            "grid_template_columns": null,
            "grid_template_rows": null,
            "height": null,
            "justify_content": null,
            "justify_items": null,
            "left": null,
            "margin": null,
            "max_height": null,
            "max_width": null,
            "min_height": null,
            "min_width": null,
            "object_fit": null,
            "object_position": null,
            "order": null,
            "overflow": null,
            "overflow_x": null,
            "overflow_y": null,
            "padding": null,
            "right": null,
            "top": null,
            "visibility": null,
            "width": null
          }
        },
        "4623aeb3494242bea40b7ec3d63c0a31": {
          "model_module": "@jupyter-widgets/base",
          "model_name": "LayoutModel",
          "model_module_version": "1.2.0",
          "state": {
            "_model_module": "@jupyter-widgets/base",
            "_model_module_version": "1.2.0",
            "_model_name": "LayoutModel",
            "_view_count": null,
            "_view_module": "@jupyter-widgets/base",
            "_view_module_version": "1.2.0",
            "_view_name": "LayoutView",
            "align_content": null,
            "align_items": null,
            "align_self": null,
            "border": null,
            "bottom": null,
            "display": null,
            "flex": null,
            "flex_flow": null,
            "grid_area": null,
            "grid_auto_columns": null,
            "grid_auto_flow": null,
            "grid_auto_rows": null,
            "grid_column": null,
            "grid_gap": null,
            "grid_row": null,
            "grid_template_areas": null,
            "grid_template_columns": null,
            "grid_template_rows": null,
            "height": null,
            "justify_content": null,
            "justify_items": null,
            "left": null,
            "margin": null,
            "max_height": null,
            "max_width": null,
            "min_height": null,
            "min_width": null,
            "object_fit": null,
            "object_position": null,
            "order": null,
            "overflow": null,
            "overflow_x": null,
            "overflow_y": null,
            "padding": null,
            "right": null,
            "top": null,
            "visibility": null,
            "width": null
          }
        },
        "97fbd0c293fa4307b9b9530a2397a38c": {
          "model_module": "@jupyter-widgets/controls",
          "model_name": "DescriptionStyleModel",
          "model_module_version": "1.5.0",
          "state": {
            "_model_module": "@jupyter-widgets/controls",
            "_model_module_version": "1.5.0",
            "_model_name": "DescriptionStyleModel",
            "_view_count": null,
            "_view_module": "@jupyter-widgets/base",
            "_view_module_version": "1.2.0",
            "_view_name": "StyleView",
            "description_width": ""
          }
        },
        "1fb9fe6fbbbc4315a0f82e98f4d46ef6": {
          "model_module": "@jupyter-widgets/base",
          "model_name": "LayoutModel",
          "model_module_version": "1.2.0",
          "state": {
            "_model_module": "@jupyter-widgets/base",
            "_model_module_version": "1.2.0",
            "_model_name": "LayoutModel",
            "_view_count": null,
            "_view_module": "@jupyter-widgets/base",
            "_view_module_version": "1.2.0",
            "_view_name": "LayoutView",
            "align_content": null,
            "align_items": null,
            "align_self": null,
            "border": null,
            "bottom": null,
            "display": null,
            "flex": null,
            "flex_flow": null,
            "grid_area": null,
            "grid_auto_columns": null,
            "grid_auto_flow": null,
            "grid_auto_rows": null,
            "grid_column": null,
            "grid_gap": null,
            "grid_row": null,
            "grid_template_areas": null,
            "grid_template_columns": null,
            "grid_template_rows": null,
            "height": null,
            "justify_content": null,
            "justify_items": null,
            "left": null,
            "margin": null,
            "max_height": null,
            "max_width": null,
            "min_height": null,
            "min_width": null,
            "object_fit": null,
            "object_position": null,
            "order": null,
            "overflow": null,
            "overflow_x": null,
            "overflow_y": null,
            "padding": null,
            "right": null,
            "top": null,
            "visibility": null,
            "width": null
          }
        },
        "b0360868489741ec8f334da8f163de7f": {
          "model_module": "@jupyter-widgets/controls",
          "model_name": "ProgressStyleModel",
          "model_module_version": "1.5.0",
          "state": {
            "_model_module": "@jupyter-widgets/controls",
            "_model_module_version": "1.5.0",
            "_model_name": "ProgressStyleModel",
            "_view_count": null,
            "_view_module": "@jupyter-widgets/base",
            "_view_module_version": "1.2.0",
            "_view_name": "StyleView",
            "bar_color": null,
            "description_width": ""
          }
        },
        "5526eec477b44a8e8cb838e50e1b6e1d": {
          "model_module": "@jupyter-widgets/base",
          "model_name": "LayoutModel",
          "model_module_version": "1.2.0",
          "state": {
            "_model_module": "@jupyter-widgets/base",
            "_model_module_version": "1.2.0",
            "_model_name": "LayoutModel",
            "_view_count": null,
            "_view_module": "@jupyter-widgets/base",
            "_view_module_version": "1.2.0",
            "_view_name": "LayoutView",
            "align_content": null,
            "align_items": null,
            "align_self": null,
            "border": null,
            "bottom": null,
            "display": null,
            "flex": null,
            "flex_flow": null,
            "grid_area": null,
            "grid_auto_columns": null,
            "grid_auto_flow": null,
            "grid_auto_rows": null,
            "grid_column": null,
            "grid_gap": null,
            "grid_row": null,
            "grid_template_areas": null,
            "grid_template_columns": null,
            "grid_template_rows": null,
            "height": null,
            "justify_content": null,
            "justify_items": null,
            "left": null,
            "margin": null,
            "max_height": null,
            "max_width": null,
            "min_height": null,
            "min_width": null,
            "object_fit": null,
            "object_position": null,
            "order": null,
            "overflow": null,
            "overflow_x": null,
            "overflow_y": null,
            "padding": null,
            "right": null,
            "top": null,
            "visibility": null,
            "width": null
          }
        },
        "e898ed5551df405587ac1811e7ed4453": {
          "model_module": "@jupyter-widgets/controls",
          "model_name": "DescriptionStyleModel",
          "model_module_version": "1.5.0",
          "state": {
            "_model_module": "@jupyter-widgets/controls",
            "_model_module_version": "1.5.0",
            "_model_name": "DescriptionStyleModel",
            "_view_count": null,
            "_view_module": "@jupyter-widgets/base",
            "_view_module_version": "1.2.0",
            "_view_name": "StyleView",
            "description_width": ""
          }
        },
        "035973237a8343d4aad326dcff025fc9": {
          "model_module": "@jupyter-widgets/controls",
          "model_name": "HBoxModel",
          "model_module_version": "1.5.0",
          "state": {
            "_dom_classes": [],
            "_model_module": "@jupyter-widgets/controls",
            "_model_module_version": "1.5.0",
            "_model_name": "HBoxModel",
            "_view_count": null,
            "_view_module": "@jupyter-widgets/controls",
            "_view_module_version": "1.5.0",
            "_view_name": "HBoxView",
            "box_style": "",
            "children": [
              "IPY_MODEL_6931a065072e4ae4ad7c0ca93a1faa96",
              "IPY_MODEL_b4d16203ae3b4f3395b1fd907e21ea07",
              "IPY_MODEL_a37bdee7f0bf4d378ff35eda7ebfcc9c"
            ],
            "layout": "IPY_MODEL_af133c1d33e7482c93841770d3617eea"
          }
        },
        "6931a065072e4ae4ad7c0ca93a1faa96": {
          "model_module": "@jupyter-widgets/controls",
          "model_name": "HTMLModel",
          "model_module_version": "1.5.0",
          "state": {
            "_dom_classes": [],
            "_model_module": "@jupyter-widgets/controls",
            "_model_module_version": "1.5.0",
            "_model_name": "HTMLModel",
            "_view_count": null,
            "_view_module": "@jupyter-widgets/controls",
            "_view_module_version": "1.5.0",
            "_view_name": "HTMLView",
            "description": "",
            "description_tooltip": null,
            "layout": "IPY_MODEL_ad6f36c28d55479e9b4a8b038a223bdc",
            "placeholder": "​",
            "style": "IPY_MODEL_39470082b4b04dfdaa4a2d68db01f4ec",
            "value": "100%"
          }
        },
        "b4d16203ae3b4f3395b1fd907e21ea07": {
          "model_module": "@jupyter-widgets/controls",
          "model_name": "FloatProgressModel",
          "model_module_version": "1.5.0",
          "state": {
            "_dom_classes": [],
            "_model_module": "@jupyter-widgets/controls",
            "_model_module_version": "1.5.0",
            "_model_name": "FloatProgressModel",
            "_view_count": null,
            "_view_module": "@jupyter-widgets/controls",
            "_view_module_version": "1.5.0",
            "_view_name": "ProgressView",
            "bar_style": "success",
            "description": "",
            "description_tooltip": null,
            "layout": "IPY_MODEL_19e3020da1584b1280045d4e9960d12b",
            "max": 10,
            "min": 0,
            "orientation": "horizontal",
            "style": "IPY_MODEL_9e94b652f8f544608c21fb07558f4b61",
            "value": 10
          }
        },
        "a37bdee7f0bf4d378ff35eda7ebfcc9c": {
          "model_module": "@jupyter-widgets/controls",
          "model_name": "HTMLModel",
          "model_module_version": "1.5.0",
          "state": {
            "_dom_classes": [],
            "_model_module": "@jupyter-widgets/controls",
            "_model_module_version": "1.5.0",
            "_model_name": "HTMLModel",
            "_view_count": null,
            "_view_module": "@jupyter-widgets/controls",
            "_view_module_version": "1.5.0",
            "_view_name": "HTMLView",
            "description": "",
            "description_tooltip": null,
            "layout": "IPY_MODEL_aa7123c88e9c46d9bda140680d076a29",
            "placeholder": "​",
            "style": "IPY_MODEL_50aaeba8dea8485eb32be3128ce282d9",
            "value": " 10/10 [13:22&lt;00:00, 79.59s/it]"
          }
        },
        "af133c1d33e7482c93841770d3617eea": {
          "model_module": "@jupyter-widgets/base",
          "model_name": "LayoutModel",
          "model_module_version": "1.2.0",
          "state": {
            "_model_module": "@jupyter-widgets/base",
            "_model_module_version": "1.2.0",
            "_model_name": "LayoutModel",
            "_view_count": null,
            "_view_module": "@jupyter-widgets/base",
            "_view_module_version": "1.2.0",
            "_view_name": "LayoutView",
            "align_content": null,
            "align_items": null,
            "align_self": null,
            "border": null,
            "bottom": null,
            "display": null,
            "flex": null,
            "flex_flow": null,
            "grid_area": null,
            "grid_auto_columns": null,
            "grid_auto_flow": null,
            "grid_auto_rows": null,
            "grid_column": null,
            "grid_gap": null,
            "grid_row": null,
            "grid_template_areas": null,
            "grid_template_columns": null,
            "grid_template_rows": null,
            "height": null,
            "justify_content": null,
            "justify_items": null,
            "left": null,
            "margin": null,
            "max_height": null,
            "max_width": null,
            "min_height": null,
            "min_width": null,
            "object_fit": null,
            "object_position": null,
            "order": null,
            "overflow": null,
            "overflow_x": null,
            "overflow_y": null,
            "padding": null,
            "right": null,
            "top": null,
            "visibility": null,
            "width": null
          }
        },
        "ad6f36c28d55479e9b4a8b038a223bdc": {
          "model_module": "@jupyter-widgets/base",
          "model_name": "LayoutModel",
          "model_module_version": "1.2.0",
          "state": {
            "_model_module": "@jupyter-widgets/base",
            "_model_module_version": "1.2.0",
            "_model_name": "LayoutModel",
            "_view_count": null,
            "_view_module": "@jupyter-widgets/base",
            "_view_module_version": "1.2.0",
            "_view_name": "LayoutView",
            "align_content": null,
            "align_items": null,
            "align_self": null,
            "border": null,
            "bottom": null,
            "display": null,
            "flex": null,
            "flex_flow": null,
            "grid_area": null,
            "grid_auto_columns": null,
            "grid_auto_flow": null,
            "grid_auto_rows": null,
            "grid_column": null,
            "grid_gap": null,
            "grid_row": null,
            "grid_template_areas": null,
            "grid_template_columns": null,
            "grid_template_rows": null,
            "height": null,
            "justify_content": null,
            "justify_items": null,
            "left": null,
            "margin": null,
            "max_height": null,
            "max_width": null,
            "min_height": null,
            "min_width": null,
            "object_fit": null,
            "object_position": null,
            "order": null,
            "overflow": null,
            "overflow_x": null,
            "overflow_y": null,
            "padding": null,
            "right": null,
            "top": null,
            "visibility": null,
            "width": null
          }
        },
        "39470082b4b04dfdaa4a2d68db01f4ec": {
          "model_module": "@jupyter-widgets/controls",
          "model_name": "DescriptionStyleModel",
          "model_module_version": "1.5.0",
          "state": {
            "_model_module": "@jupyter-widgets/controls",
            "_model_module_version": "1.5.0",
            "_model_name": "DescriptionStyleModel",
            "_view_count": null,
            "_view_module": "@jupyter-widgets/base",
            "_view_module_version": "1.2.0",
            "_view_name": "StyleView",
            "description_width": ""
          }
        },
        "19e3020da1584b1280045d4e9960d12b": {
          "model_module": "@jupyter-widgets/base",
          "model_name": "LayoutModel",
          "model_module_version": "1.2.0",
          "state": {
            "_model_module": "@jupyter-widgets/base",
            "_model_module_version": "1.2.0",
            "_model_name": "LayoutModel",
            "_view_count": null,
            "_view_module": "@jupyter-widgets/base",
            "_view_module_version": "1.2.0",
            "_view_name": "LayoutView",
            "align_content": null,
            "align_items": null,
            "align_self": null,
            "border": null,
            "bottom": null,
            "display": null,
            "flex": null,
            "flex_flow": null,
            "grid_area": null,
            "grid_auto_columns": null,
            "grid_auto_flow": null,
            "grid_auto_rows": null,
            "grid_column": null,
            "grid_gap": null,
            "grid_row": null,
            "grid_template_areas": null,
            "grid_template_columns": null,
            "grid_template_rows": null,
            "height": null,
            "justify_content": null,
            "justify_items": null,
            "left": null,
            "margin": null,
            "max_height": null,
            "max_width": null,
            "min_height": null,
            "min_width": null,
            "object_fit": null,
            "object_position": null,
            "order": null,
            "overflow": null,
            "overflow_x": null,
            "overflow_y": null,
            "padding": null,
            "right": null,
            "top": null,
            "visibility": null,
            "width": null
          }
        },
        "9e94b652f8f544608c21fb07558f4b61": {
          "model_module": "@jupyter-widgets/controls",
          "model_name": "ProgressStyleModel",
          "model_module_version": "1.5.0",
          "state": {
            "_model_module": "@jupyter-widgets/controls",
            "_model_module_version": "1.5.0",
            "_model_name": "ProgressStyleModel",
            "_view_count": null,
            "_view_module": "@jupyter-widgets/base",
            "_view_module_version": "1.2.0",
            "_view_name": "StyleView",
            "bar_color": null,
            "description_width": ""
          }
        },
        "aa7123c88e9c46d9bda140680d076a29": {
          "model_module": "@jupyter-widgets/base",
          "model_name": "LayoutModel",
          "model_module_version": "1.2.0",
          "state": {
            "_model_module": "@jupyter-widgets/base",
            "_model_module_version": "1.2.0",
            "_model_name": "LayoutModel",
            "_view_count": null,
            "_view_module": "@jupyter-widgets/base",
            "_view_module_version": "1.2.0",
            "_view_name": "LayoutView",
            "align_content": null,
            "align_items": null,
            "align_self": null,
            "border": null,
            "bottom": null,
            "display": null,
            "flex": null,
            "flex_flow": null,
            "grid_area": null,
            "grid_auto_columns": null,
            "grid_auto_flow": null,
            "grid_auto_rows": null,
            "grid_column": null,
            "grid_gap": null,
            "grid_row": null,
            "grid_template_areas": null,
            "grid_template_columns": null,
            "grid_template_rows": null,
            "height": null,
            "justify_content": null,
            "justify_items": null,
            "left": null,
            "margin": null,
            "max_height": null,
            "max_width": null,
            "min_height": null,
            "min_width": null,
            "object_fit": null,
            "object_position": null,
            "order": null,
            "overflow": null,
            "overflow_x": null,
            "overflow_y": null,
            "padding": null,
            "right": null,
            "top": null,
            "visibility": null,
            "width": null
          }
        },
        "50aaeba8dea8485eb32be3128ce282d9": {
          "model_module": "@jupyter-widgets/controls",
          "model_name": "DescriptionStyleModel",
          "model_module_version": "1.5.0",
          "state": {
            "_model_module": "@jupyter-widgets/controls",
            "_model_module_version": "1.5.0",
            "_model_name": "DescriptionStyleModel",
            "_view_count": null,
            "_view_module": "@jupyter-widgets/base",
            "_view_module_version": "1.2.0",
            "_view_name": "StyleView",
            "description_width": ""
          }
        },
        "4d8ed1523c7446cebd8b490b01348809": {
          "model_module": "@jupyter-widgets/controls",
          "model_name": "HBoxModel",
          "model_module_version": "1.5.0",
          "state": {
            "_dom_classes": [],
            "_model_module": "@jupyter-widgets/controls",
            "_model_module_version": "1.5.0",
            "_model_name": "HBoxModel",
            "_view_count": null,
            "_view_module": "@jupyter-widgets/controls",
            "_view_module_version": "1.5.0",
            "_view_name": "HBoxView",
            "box_style": "",
            "children": [
              "IPY_MODEL_0aead8a8a8a6448d9b73aaeb68c90b72",
              "IPY_MODEL_56304286025243c7bc09a035d6c31746",
              "IPY_MODEL_5849b0c2d1884421af0171b3982eebc4"
            ],
            "layout": "IPY_MODEL_3f4961c1467c41e2a2133f65ef0bcf06"
          }
        },
        "0aead8a8a8a6448d9b73aaeb68c90b72": {
          "model_module": "@jupyter-widgets/controls",
          "model_name": "HTMLModel",
          "model_module_version": "1.5.0",
          "state": {
            "_dom_classes": [],
            "_model_module": "@jupyter-widgets/controls",
            "_model_module_version": "1.5.0",
            "_model_name": "HTMLModel",
            "_view_count": null,
            "_view_module": "@jupyter-widgets/controls",
            "_view_module_version": "1.5.0",
            "_view_name": "HTMLView",
            "description": "",
            "description_tooltip": null,
            "layout": "IPY_MODEL_0c75656347b84773bf9293c788b2d9d4",
            "placeholder": "​",
            "style": "IPY_MODEL_aebf060dcfff4d81b681e83510e97bd7",
            "value": "100%"
          }
        },
        "56304286025243c7bc09a035d6c31746": {
          "model_module": "@jupyter-widgets/controls",
          "model_name": "FloatProgressModel",
          "model_module_version": "1.5.0",
          "state": {
            "_dom_classes": [],
            "_model_module": "@jupyter-widgets/controls",
            "_model_module_version": "1.5.0",
            "_model_name": "FloatProgressModel",
            "_view_count": null,
            "_view_module": "@jupyter-widgets/controls",
            "_view_module_version": "1.5.0",
            "_view_name": "ProgressView",
            "bar_style": "success",
            "description": "",
            "description_tooltip": null,
            "layout": "IPY_MODEL_ec4c583fc2ab42c2850c6fc325afc3d4",
            "max": 50,
            "min": 0,
            "orientation": "horizontal",
            "style": "IPY_MODEL_e05c2d7e8a1941db855c1fa69ae9ad44",
            "value": 50
          }
        },
        "5849b0c2d1884421af0171b3982eebc4": {
          "model_module": "@jupyter-widgets/controls",
          "model_name": "HTMLModel",
          "model_module_version": "1.5.0",
          "state": {
            "_dom_classes": [],
            "_model_module": "@jupyter-widgets/controls",
            "_model_module_version": "1.5.0",
            "_model_name": "HTMLModel",
            "_view_count": null,
            "_view_module": "@jupyter-widgets/controls",
            "_view_module_version": "1.5.0",
            "_view_name": "HTMLView",
            "description": "",
            "description_tooltip": null,
            "layout": "IPY_MODEL_3494609724ab4431b3a5bf4af03b6e05",
            "placeholder": "​",
            "style": "IPY_MODEL_91fd429be8c2481aa4942fabfda4b476",
            "value": " 50/50 [17:18&lt;00:00, 20.78s/it]"
          }
        },
        "3f4961c1467c41e2a2133f65ef0bcf06": {
          "model_module": "@jupyter-widgets/base",
          "model_name": "LayoutModel",
          "model_module_version": "1.2.0",
          "state": {
            "_model_module": "@jupyter-widgets/base",
            "_model_module_version": "1.2.0",
            "_model_name": "LayoutModel",
            "_view_count": null,
            "_view_module": "@jupyter-widgets/base",
            "_view_module_version": "1.2.0",
            "_view_name": "LayoutView",
            "align_content": null,
            "align_items": null,
            "align_self": null,
            "border": null,
            "bottom": null,
            "display": null,
            "flex": null,
            "flex_flow": null,
            "grid_area": null,
            "grid_auto_columns": null,
            "grid_auto_flow": null,
            "grid_auto_rows": null,
            "grid_column": null,
            "grid_gap": null,
            "grid_row": null,
            "grid_template_areas": null,
            "grid_template_columns": null,
            "grid_template_rows": null,
            "height": null,
            "justify_content": null,
            "justify_items": null,
            "left": null,
            "margin": null,
            "max_height": null,
            "max_width": null,
            "min_height": null,
            "min_width": null,
            "object_fit": null,
            "object_position": null,
            "order": null,
            "overflow": null,
            "overflow_x": null,
            "overflow_y": null,
            "padding": null,
            "right": null,
            "top": null,
            "visibility": null,
            "width": null
          }
        },
        "0c75656347b84773bf9293c788b2d9d4": {
          "model_module": "@jupyter-widgets/base",
          "model_name": "LayoutModel",
          "model_module_version": "1.2.0",
          "state": {
            "_model_module": "@jupyter-widgets/base",
            "_model_module_version": "1.2.0",
            "_model_name": "LayoutModel",
            "_view_count": null,
            "_view_module": "@jupyter-widgets/base",
            "_view_module_version": "1.2.0",
            "_view_name": "LayoutView",
            "align_content": null,
            "align_items": null,
            "align_self": null,
            "border": null,
            "bottom": null,
            "display": null,
            "flex": null,
            "flex_flow": null,
            "grid_area": null,
            "grid_auto_columns": null,
            "grid_auto_flow": null,
            "grid_auto_rows": null,
            "grid_column": null,
            "grid_gap": null,
            "grid_row": null,
            "grid_template_areas": null,
            "grid_template_columns": null,
            "grid_template_rows": null,
            "height": null,
            "justify_content": null,
            "justify_items": null,
            "left": null,
            "margin": null,
            "max_height": null,
            "max_width": null,
            "min_height": null,
            "min_width": null,
            "object_fit": null,
            "object_position": null,
            "order": null,
            "overflow": null,
            "overflow_x": null,
            "overflow_y": null,
            "padding": null,
            "right": null,
            "top": null,
            "visibility": null,
            "width": null
          }
        },
        "aebf060dcfff4d81b681e83510e97bd7": {
          "model_module": "@jupyter-widgets/controls",
          "model_name": "DescriptionStyleModel",
          "model_module_version": "1.5.0",
          "state": {
            "_model_module": "@jupyter-widgets/controls",
            "_model_module_version": "1.5.0",
            "_model_name": "DescriptionStyleModel",
            "_view_count": null,
            "_view_module": "@jupyter-widgets/base",
            "_view_module_version": "1.2.0",
            "_view_name": "StyleView",
            "description_width": ""
          }
        },
        "ec4c583fc2ab42c2850c6fc325afc3d4": {
          "model_module": "@jupyter-widgets/base",
          "model_name": "LayoutModel",
          "model_module_version": "1.2.0",
          "state": {
            "_model_module": "@jupyter-widgets/base",
            "_model_module_version": "1.2.0",
            "_model_name": "LayoutModel",
            "_view_count": null,
            "_view_module": "@jupyter-widgets/base",
            "_view_module_version": "1.2.0",
            "_view_name": "LayoutView",
            "align_content": null,
            "align_items": null,
            "align_self": null,
            "border": null,
            "bottom": null,
            "display": null,
            "flex": null,
            "flex_flow": null,
            "grid_area": null,
            "grid_auto_columns": null,
            "grid_auto_flow": null,
            "grid_auto_rows": null,
            "grid_column": null,
            "grid_gap": null,
            "grid_row": null,
            "grid_template_areas": null,
            "grid_template_columns": null,
            "grid_template_rows": null,
            "height": null,
            "justify_content": null,
            "justify_items": null,
            "left": null,
            "margin": null,
            "max_height": null,
            "max_width": null,
            "min_height": null,
            "min_width": null,
            "object_fit": null,
            "object_position": null,
            "order": null,
            "overflow": null,
            "overflow_x": null,
            "overflow_y": null,
            "padding": null,
            "right": null,
            "top": null,
            "visibility": null,
            "width": null
          }
        },
        "e05c2d7e8a1941db855c1fa69ae9ad44": {
          "model_module": "@jupyter-widgets/controls",
          "model_name": "ProgressStyleModel",
          "model_module_version": "1.5.0",
          "state": {
            "_model_module": "@jupyter-widgets/controls",
            "_model_module_version": "1.5.0",
            "_model_name": "ProgressStyleModel",
            "_view_count": null,
            "_view_module": "@jupyter-widgets/base",
            "_view_module_version": "1.2.0",
            "_view_name": "StyleView",
            "bar_color": null,
            "description_width": ""
          }
        },
        "3494609724ab4431b3a5bf4af03b6e05": {
          "model_module": "@jupyter-widgets/base",
          "model_name": "LayoutModel",
          "model_module_version": "1.2.0",
          "state": {
            "_model_module": "@jupyter-widgets/base",
            "_model_module_version": "1.2.0",
            "_model_name": "LayoutModel",
            "_view_count": null,
            "_view_module": "@jupyter-widgets/base",
            "_view_module_version": "1.2.0",
            "_view_name": "LayoutView",
            "align_content": null,
            "align_items": null,
            "align_self": null,
            "border": null,
            "bottom": null,
            "display": null,
            "flex": null,
            "flex_flow": null,
            "grid_area": null,
            "grid_auto_columns": null,
            "grid_auto_flow": null,
            "grid_auto_rows": null,
            "grid_column": null,
            "grid_gap": null,
            "grid_row": null,
            "grid_template_areas": null,
            "grid_template_columns": null,
            "grid_template_rows": null,
            "height": null,
            "justify_content": null,
            "justify_items": null,
            "left": null,
            "margin": null,
            "max_height": null,
            "max_width": null,
            "min_height": null,
            "min_width": null,
            "object_fit": null,
            "object_position": null,
            "order": null,
            "overflow": null,
            "overflow_x": null,
            "overflow_y": null,
            "padding": null,
            "right": null,
            "top": null,
            "visibility": null,
            "width": null
          }
        },
        "91fd429be8c2481aa4942fabfda4b476": {
          "model_module": "@jupyter-widgets/controls",
          "model_name": "DescriptionStyleModel",
          "model_module_version": "1.5.0",
          "state": {
            "_model_module": "@jupyter-widgets/controls",
            "_model_module_version": "1.5.0",
            "_model_name": "DescriptionStyleModel",
            "_view_count": null,
            "_view_module": "@jupyter-widgets/base",
            "_view_module_version": "1.2.0",
            "_view_name": "StyleView",
            "description_width": ""
          }
        }
      }
    }
  },
  "cells": [
    {
      "cell_type": "code",
      "execution_count": 185,
      "metadata": {
        "id": "4NziQ3t6YF8o"
      },
      "outputs": [],
      "source": [
        "from tqdm.notebook import tqdm\n",
        "\n",
        "import random\n",
        "import numpy as np\n",
        "import torch\n",
        "\n",
        "import pandas as pd\n",
        "import os\n",
        "\n",
        "\n",
        "import requests\n",
        "import time"
      ]
    },
    {
      "cell_type": "code",
      "source": [
        "from sklearn.metrics import f1_score\n",
        "\n",
        "from sklearn.preprocessing import MultiLabelBinarizer"
      ],
      "metadata": {
        "id": "oLHaKTzQtjcH"
      },
      "execution_count": 186,
      "outputs": []
    },
    {
      "cell_type": "code",
      "source": [
        "dataset_path = \"/content/drive/MyDrive/doutorado/P_IA368DD_2023S/aula4/data/\"\n",
        "end_file_name = \"_title_max.csv\"\n",
        "def load_dataset(phase, path = dataset_path, end_file_name = \"_title_max.csv\"):\n",
        "  df = pd.read_csv(f\"{path}{phase}{end_file_name}\",sep=\"|\",\n",
        "                   converters={\"classes\": lambda x: x.lower().strip(\"[]\").replace(\"'\",\"\").split(\", \")})\n",
        "  df = df[[\"caption\",\"classes\"]]\n",
        "  df = df.rename(columns={\"caption\":\"synopsis\",\"classes\":\"genres\"})\n",
        "  return df\n",
        "\n",
        "train_data =  load_dataset(\"train\")\n",
        "test_data  = load_dataset(\"test\")\n",
        "#train_data['genres'] = train_data['genres'].apply(lambda x: x.lower)\n",
        "#test_data['genres'] = test_data['genres'].apply(lambda x: x.lower)\n",
        "\n",
        "mlb = MultiLabelBinarizer()\n",
        "mlb.fit(train_data.genres)"
      ],
      "metadata": {
        "colab": {
          "base_uri": "https://localhost:8080/",
          "height": 75
        },
        "id": "a-woxTKWsb4q",
        "outputId": "a5787aa4-6ec9-4cb7-b98f-361ff167b844"
      },
      "execution_count": 187,
      "outputs": [
        {
          "output_type": "execute_result",
          "data": {
            "text/plain": [
              "MultiLabelBinarizer()"
            ],
            "text/html": [
              "<style>#sk-container-id-3 {color: black;background-color: white;}#sk-container-id-3 pre{padding: 0;}#sk-container-id-3 div.sk-toggleable {background-color: white;}#sk-container-id-3 label.sk-toggleable__label {cursor: pointer;display: block;width: 100%;margin-bottom: 0;padding: 0.3em;box-sizing: border-box;text-align: center;}#sk-container-id-3 label.sk-toggleable__label-arrow:before {content: \"▸\";float: left;margin-right: 0.25em;color: #696969;}#sk-container-id-3 label.sk-toggleable__label-arrow:hover:before {color: black;}#sk-container-id-3 div.sk-estimator:hover label.sk-toggleable__label-arrow:before {color: black;}#sk-container-id-3 div.sk-toggleable__content {max-height: 0;max-width: 0;overflow: hidden;text-align: left;background-color: #f0f8ff;}#sk-container-id-3 div.sk-toggleable__content pre {margin: 0.2em;color: black;border-radius: 0.25em;background-color: #f0f8ff;}#sk-container-id-3 input.sk-toggleable__control:checked~div.sk-toggleable__content {max-height: 200px;max-width: 100%;overflow: auto;}#sk-container-id-3 input.sk-toggleable__control:checked~label.sk-toggleable__label-arrow:before {content: \"▾\";}#sk-container-id-3 div.sk-estimator input.sk-toggleable__control:checked~label.sk-toggleable__label {background-color: #d4ebff;}#sk-container-id-3 div.sk-label input.sk-toggleable__control:checked~label.sk-toggleable__label {background-color: #d4ebff;}#sk-container-id-3 input.sk-hidden--visually {border: 0;clip: rect(1px 1px 1px 1px);clip: rect(1px, 1px, 1px, 1px);height: 1px;margin: -1px;overflow: hidden;padding: 0;position: absolute;width: 1px;}#sk-container-id-3 div.sk-estimator {font-family: monospace;background-color: #f0f8ff;border: 1px dotted black;border-radius: 0.25em;box-sizing: border-box;margin-bottom: 0.5em;}#sk-container-id-3 div.sk-estimator:hover {background-color: #d4ebff;}#sk-container-id-3 div.sk-parallel-item::after {content: \"\";width: 100%;border-bottom: 1px solid gray;flex-grow: 1;}#sk-container-id-3 div.sk-label:hover label.sk-toggleable__label {background-color: #d4ebff;}#sk-container-id-3 div.sk-serial::before {content: \"\";position: absolute;border-left: 1px solid gray;box-sizing: border-box;top: 0;bottom: 0;left: 50%;z-index: 0;}#sk-container-id-3 div.sk-serial {display: flex;flex-direction: column;align-items: center;background-color: white;padding-right: 0.2em;padding-left: 0.2em;position: relative;}#sk-container-id-3 div.sk-item {position: relative;z-index: 1;}#sk-container-id-3 div.sk-parallel {display: flex;align-items: stretch;justify-content: center;background-color: white;position: relative;}#sk-container-id-3 div.sk-item::before, #sk-container-id-3 div.sk-parallel-item::before {content: \"\";position: absolute;border-left: 1px solid gray;box-sizing: border-box;top: 0;bottom: 0;left: 50%;z-index: -1;}#sk-container-id-3 div.sk-parallel-item {display: flex;flex-direction: column;z-index: 1;position: relative;background-color: white;}#sk-container-id-3 div.sk-parallel-item:first-child::after {align-self: flex-end;width: 50%;}#sk-container-id-3 div.sk-parallel-item:last-child::after {align-self: flex-start;width: 50%;}#sk-container-id-3 div.sk-parallel-item:only-child::after {width: 0;}#sk-container-id-3 div.sk-dashed-wrapped {border: 1px dashed gray;margin: 0 0.4em 0.5em 0.4em;box-sizing: border-box;padding-bottom: 0.4em;background-color: white;}#sk-container-id-3 div.sk-label label {font-family: monospace;font-weight: bold;display: inline-block;line-height: 1.2em;}#sk-container-id-3 div.sk-label-container {text-align: center;}#sk-container-id-3 div.sk-container {/* jupyter's `normalize.less` sets `[hidden] { display: none; }` but bootstrap.min.css set `[hidden] { display: none !important; }` so we also need the `!important` here to be able to override the default hidden behavior on the sphinx rendered scikit-learn.org. See: https://github.com/scikit-learn/scikit-learn/issues/21755 */display: inline-block !important;position: relative;}#sk-container-id-3 div.sk-text-repr-fallback {display: none;}</style><div id=\"sk-container-id-3\" class=\"sk-top-container\"><div class=\"sk-text-repr-fallback\"><pre>MultiLabelBinarizer()</pre><b>In a Jupyter environment, please rerun this cell to show the HTML representation or trust the notebook. <br />On GitHub, the HTML representation is unable to render, please try loading this page with nbviewer.org.</b></div><div class=\"sk-container\" hidden><div class=\"sk-item\"><div class=\"sk-estimator sk-toggleable\"><input class=\"sk-toggleable__control sk-hidden--visually\" id=\"sk-estimator-id-3\" type=\"checkbox\" checked><label for=\"sk-estimator-id-3\" class=\"sk-toggleable__label sk-toggleable__label-arrow\">MultiLabelBinarizer</label><div class=\"sk-toggleable__content\"><pre>MultiLabelBinarizer()</pre></div></div></div></div></div>"
            ]
          },
          "metadata": {},
          "execution_count": 187
        }
      ]
    },
    {
      "cell_type": "code",
      "source": [
        "class Llama_LLM_Model():\n",
        "    def __init__(self, train_data, test_data ,question = \"\"):\n",
        "        \n",
        "        self.base_url=\"http://143.106.167.108/api\"\n",
        "\n",
        "        self.train_data = train_data\n",
        "        self.test_data = test_data \n",
        "        self.temperature = 0.0\n",
        "        self.top_p = 1\n",
        "        self.max_length = 250\n",
        "        self.wait_time = 10\n",
        "        \n",
        "        self.question = question\n",
        "        \n",
        "    def make_prompt(self,index_test, is_few_shot=True, few_number=3):\n",
        "      prompt = f\"\"\"{self.question}.\"\"\"\n",
        "      count = 0\n",
        "      if is_few_shot:\n",
        "        FEW_SHOT_TEMPLATE=\"\\n\\nExample {}: {}\\nAnswer:{}\"\n",
        "        index_train = np.random.randint(0, high=len(self.train_data), size=few_number)\n",
        "        for count, i in enumerate(index_train):\n",
        "          aux = self.train_data.iloc[[2]]\n",
        "          example = FEW_SHOT_TEMPLATE.format(count+1,aux.synopsis.values[0],aux.genres.values[0])\n",
        "          prompt = prompt + example\n",
        "\n",
        "      else:\n",
        "        prompt = prompt + \" Answer in just one list separated by ';' \"\n",
        "\n",
        "      test = self.test_data.iloc[[index_test]]\n",
        "      text = f\"\\nExample: {test.synopsis.values[0]}\"\n",
        "\n",
        "      end_prompt = \"\\nAnswer:\"\n",
        "      \n",
        "      prompt = prompt + text + end_prompt\n",
        "\n",
        "      return prompt, test.genres.values[0]\n",
        "\n",
        "    def answer_one_synopsis(self, index_test=0, is_few_shot=True, few_number=3):\n",
        "        \"\"\"\n",
        "        Chama o modelo passando parm_prompt\n",
        "        \"\"\"\n",
        "        prompt, y_true = self.make_prompt(index_test=index_test, is_few_shot = is_few_shot, few_number = few_number)\n",
        "        data={\n",
        "            \"prompt\": prompt,\n",
        "            \"temperature\": self.temperature,\n",
        "            \"top_p\": self.top_p,\n",
        "            \"max_length\": self.max_length\n",
        "          }\n",
        "\n",
        "        r = requests.post(f\"{self.base_url}/complete\", json=data)\n",
        "        if r.ok:\n",
        "          response=r.json()\n",
        "          request_uuid=response[\"request_uuid\"]\n",
        "\n",
        "          ready = False\n",
        "          while not ready:\n",
        "            \n",
        "            r = requests.get(f\"{self.base_url}/get_result/{request_uuid}\")\n",
        "            \n",
        "            response = r.json()\n",
        "            ready = response['ready']\n",
        "            if ready:\n",
        "              break\n",
        "            # Wait 10 seconds before checking again\n",
        "            time.sleep(self.wait_time)\n",
        "        resposta = response[\"generated_text\"]\n",
        "        resposta = resposta.lower()\n",
        "        resposta = resposta.replace(\"science fiction\",\"sci-fi\")\n",
        "        \n",
        "        if is_few_shot:\n",
        "          resposta = resposta.split(\"\\\\\")[0]\n",
        "          resposta = resposta[resposta.find(\"[\")+1:resposta.find(\"]\")].strip().replace(\"'\",\"\")\n",
        "          resposta = resposta.replace(\" \",\"\")\n",
        "          resposta = resposta.split(',')\n",
        "        else:\n",
        "          resposta = resposta.split(\"\\n\")[0]\n",
        "          resposta = resposta.strip()#.replace(\"'\",\"\")\n",
        "          resposta = resposta.split(';')\n",
        "        return resposta, y_true\n",
        "\n",
        "    def run_test(self, size = 10 ,is_few_shot=True, few_number=3):\n",
        "      df_pred = []\n",
        "      for row_id in tqdm(range(0,size)):\n",
        "        resposta, y_true = self.answer_one_synopsis(index_test=row_id, is_few_shot=is_few_shot, few_number=few_number)\n",
        "        df_pred.append((resposta, y_true))\n",
        "        time.sleep(self.wait_time)\n",
        "      df  = pd.DataFrame(df_pred,columns=['pred_genres','y_true'])\n",
        "      return df"
      ],
      "metadata": {
        "id": "899Ck8G7us8D"
      },
      "execution_count": 188,
      "outputs": []
    },
    {
      "cell_type": "code",
      "source": [
        "%%markdown\n",
        "# Declare Llama"
      ],
      "metadata": {
        "colab": {
          "base_uri": "https://localhost:8080/",
          "height": 74
        },
        "id": "adtmGfqtgAg-",
        "outputId": "23394841-dedd-4fed-9ad3-cbe37f9bd22e"
      },
      "execution_count": 189,
      "outputs": [
        {
          "output_type": "display_data",
          "data": {
            "text/plain": [
              "<IPython.core.display.Markdown object>"
            ],
            "text/markdown": "# Declare Llama\n"
          },
          "metadata": {}
        }
      ]
    },
    {
      "cell_type": "code",
      "source": [
        "llama_model = Llama_LLM_Model(train_data=train_data, test_data=test_data, \n",
        "                              question= \"Given movie synopsis, answer the genres of the movie\")"
      ],
      "metadata": {
        "id": "tWZiweLIWxjY"
      },
      "execution_count": 190,
      "outputs": []
    },
    {
      "cell_type": "code",
      "source": [
        "%%markdown\n",
        "# Few-shot Llama\n",
        "## 1 exemplos\n",
        "## size 10"
      ],
      "metadata": {
        "colab": {
          "base_uri": "https://localhost:8080/",
          "height": 161
        },
        "id": "p25WAvBAv_Mq",
        "outputId": "29cbc5ef-9797-4019-ecfa-776c1c2cad03"
      },
      "execution_count": 196,
      "outputs": [
        {
          "output_type": "display_data",
          "data": {
            "text/plain": [
              "<IPython.core.display.Markdown object>"
            ],
            "text/markdown": "# Few-shot Llama\n## 1 exemplos\n## size 10\n"
          },
          "metadata": {}
        }
      ]
    },
    {
      "cell_type": "code",
      "source": [
        "%%time\n",
        "df_fewshot_1 = llama_model.run_test(size=10, is_few_shot=True, few_number=1)"
      ],
      "metadata": {
        "colab": {
          "base_uri": "https://localhost:8080/",
          "height": 431,
          "referenced_widgets": [
            "fee6a14547204448a936bee7b954e0f8",
            "31c4d410b41c4ff397c3d813a24b6568",
            "835e8f9a666a4287bc33bb94105adc2f",
            "cb5a9bd403b349cebb21ea8e8f1130fe",
            "fa4f716edc154271b9e23b524123cf20",
            "4623aeb3494242bea40b7ec3d63c0a31",
            "97fbd0c293fa4307b9b9530a2397a38c",
            "1fb9fe6fbbbc4315a0f82e98f4d46ef6",
            "b0360868489741ec8f334da8f163de7f",
            "5526eec477b44a8e8cb838e50e1b6e1d",
            "e898ed5551df405587ac1811e7ed4453"
          ]
        },
        "id": "cd7F_8UOfJhJ",
        "outputId": "c72597dd-5520-4337-df87-67a38c693076"
      },
      "execution_count": 161,
      "outputs": [
        {
          "output_type": "display_data",
          "data": {
            "text/plain": [
              "  0%|          | 0/10 [00:00<?, ?it/s]"
            ],
            "application/vnd.jupyter.widget-view+json": {
              "version_major": 2,
              "version_minor": 0,
              "model_id": "fee6a14547204448a936bee7b954e0f8"
            }
          },
          "metadata": {}
        },
        {
          "output_type": "stream",
          "name": "stdout",
          "text": [
            "['Crime', 'Thriller']\n",
            "+++++++\n",
            "['Action', 'Crime', 'Thriller']\n",
            "+++++++\n",
            "['Horror', 'Comedy']\n",
            "+++++++\n",
            "['Sci-Fi', 'Horror']\n",
            "+++++++\n",
            "['Documentary', 'History']\n",
            "+++++++\n",
            "['Western', 'Action']\n",
            "+++++++\n",
            "['Documentary', 'Sports']\n",
            "+++++++\n",
            "['Documentary', 'LGBTQ']\n",
            "+++++++\n",
            "['Romance', 'Comedy']\n",
            "+++++++\n",
            "['Animation', 'Adventure', 'Comedy', 'Family', 'Fantasy']\n",
            "+++++++\n",
            "CPU times: user 2.64 s, sys: 335 ms, total: 2.98 s\n",
            "Wall time: 7min 13s\n"
          ]
        }
      ]
    },
    {
      "cell_type": "code",
      "source": [
        "print(f1_score(mlb.transform(df_fewshot_1['y_true']), mlb.transform(df_fewshot_1['pred_genres']),average='weighted'))\n",
        "print(f1_score(mlb.transform(df_fewshot_1['y_true']), mlb.transform(df_fewshot_1['pred_genres']),average='micro'))\n",
        "print(f1_score(mlb.transform(df_fewshot_1['y_true']), mlb.transform(df_fewshot_1['pred_genres']),average='macro'))\n",
        "print(f1_score(mlb.transform(df_fewshot_1['y_true']), mlb.transform(df_fewshot_1['pred_genres']),average=None))"
      ],
      "metadata": {
        "colab": {
          "base_uri": "https://localhost:8080/"
        },
        "id": "V70RdmyJuDVM",
        "outputId": "c358f444-d198-4dd0-d327-c01db9706134"
      },
      "execution_count": 162,
      "outputs": [
        {
          "output_type": "stream",
          "name": "stdout",
          "text": [
            "0.7354497354497355\n",
            "0.7755102040816326\n",
            "0.42967032967032964\n",
            "[1.         1.         1.         0.         0.8        0.8\n",
            " 1.         0.         1.         0.         0.         0.\n",
            " 1.         0.         0.         0.         0.         0.\n",
            " 1.         1.         0.         0.         0.         0.57142857\n",
            " 0.         1.        ]\n"
          ]
        },
        {
          "output_type": "stream",
          "name": "stderr",
          "text": [
            "/usr/local/lib/python3.9/dist-packages/sklearn/preprocessing/_label.py:895: UserWarning: unknown class(es) ['LGBTQ', 'Sports'] will be ignored\n",
            "  warnings.warn(\n",
            "/usr/local/lib/python3.9/dist-packages/sklearn/metrics/_classification.py:1609: UndefinedMetricWarning: F-score is ill-defined and being set to 0.0 in labels with no true nor predicted samples. Use `zero_division` parameter to control this behavior.\n",
            "  _warn_prf(average, \"true nor predicted\", \"F-score is\", len(true_sum))\n",
            "/usr/local/lib/python3.9/dist-packages/sklearn/preprocessing/_label.py:895: UserWarning: unknown class(es) ['LGBTQ', 'Sports'] will be ignored\n",
            "  warnings.warn(\n",
            "/usr/local/lib/python3.9/dist-packages/sklearn/preprocessing/_label.py:895: UserWarning: unknown class(es) ['LGBTQ', 'Sports'] will be ignored\n",
            "  warnings.warn(\n",
            "/usr/local/lib/python3.9/dist-packages/sklearn/metrics/_classification.py:1609: UndefinedMetricWarning: F-score is ill-defined and being set to 0.0 in labels with no true nor predicted samples. Use `zero_division` parameter to control this behavior.\n",
            "  _warn_prf(average, \"true nor predicted\", \"F-score is\", len(true_sum))\n",
            "/usr/local/lib/python3.9/dist-packages/sklearn/preprocessing/_label.py:895: UserWarning: unknown class(es) ['LGBTQ', 'Sports'] will be ignored\n",
            "  warnings.warn(\n",
            "/usr/local/lib/python3.9/dist-packages/sklearn/metrics/_classification.py:1609: UndefinedMetricWarning: F-score is ill-defined and being set to 0.0 in labels with no true nor predicted samples. Use `zero_division` parameter to control this behavior.\n",
            "  _warn_prf(average, \"true nor predicted\", \"F-score is\", len(true_sum))\n"
          ]
        }
      ]
    },
    {
      "cell_type": "code",
      "source": [
        "%%markdown\n",
        "# zero-shot Llama\n",
        "## size 10"
      ],
      "metadata": {
        "colab": {
          "base_uri": "https://localhost:8080/",
          "height": 118
        },
        "id": "qydAcVVp6nPX",
        "outputId": "fb9bdfe7-6e1d-4f6f-a523-350ed7114c15"
      },
      "execution_count": 195,
      "outputs": [
        {
          "output_type": "display_data",
          "data": {
            "text/plain": [
              "<IPython.core.display.Markdown object>"
            ],
            "text/markdown": "# zero-shot Llama\n## size 10\n"
          },
          "metadata": {}
        }
      ]
    },
    {
      "cell_type": "code",
      "source": [
        "%%time\n",
        "df_zeroshot = llama_model.run_test(size=10, is_few_shot=False)"
      ],
      "metadata": {
        "colab": {
          "base_uri": "https://localhost:8080/",
          "height": 431,
          "referenced_widgets": [
            "035973237a8343d4aad326dcff025fc9",
            "6931a065072e4ae4ad7c0ca93a1faa96",
            "b4d16203ae3b4f3395b1fd907e21ea07",
            "a37bdee7f0bf4d378ff35eda7ebfcc9c",
            "af133c1d33e7482c93841770d3617eea",
            "ad6f36c28d55479e9b4a8b038a223bdc",
            "39470082b4b04dfdaa4a2d68db01f4ec",
            "19e3020da1584b1280045d4e9960d12b",
            "9e94b652f8f544608c21fb07558f4b61",
            "aa7123c88e9c46d9bda140680d076a29",
            "50aaeba8dea8485eb32be3128ce282d9"
          ]
        },
        "id": "WX4DW9-jwvs_",
        "outputId": "158d0b16-6e6f-4b0d-8bb6-8febdcda7c76"
      },
      "execution_count": 164,
      "outputs": [
        {
          "output_type": "display_data",
          "data": {
            "text/plain": [
              "  0%|          | 0/10 [00:00<?, ?it/s]"
            ],
            "application/vnd.jupyter.widget-view+json": {
              "version_major": 2,
              "version_minor": 0,
              "model_id": "035973237a8343d4aad326dcff025fc9"
            }
          },
          "metadata": {}
        },
        {
          "output_type": "stream",
          "name": "stdout",
          "text": [
            "['Drama', ' Crime', ' Thriller']\n",
            "+++++++\n",
            "['Action', 'Crime', 'Drama', 'Thriller']\n",
            "+++++++\n",
            "['Horror', 'Comedy']\n",
            "+++++++\n",
            "['Science Fiction', ' Horror', ' Thriller']\n",
            "+++++++\n",
            "['Documentary', 'History']\n",
            "+++++++\n",
            "['western', 'drama', 'biography']\n",
            "+++++++\n",
            "['Documentary', 'Sports']\n",
            "+++++++\n",
            "['Documentary', 'LGBTQ']\n",
            "+++++++\n",
            "['Comedy', 'Romance']\n",
            "+++++++\n",
            "['Animation', 'Adventure', 'Comedy', 'Family', 'Fantasy']\n",
            "+++++++\n",
            "CPU times: user 4.95 s, sys: 625 ms, total: 5.57 s\n",
            "Wall time: 13min 22s\n"
          ]
        }
      ]
    },
    {
      "cell_type": "code",
      "source": [
        "print(f1_score(mlb.transform(df_zeroshot['y_true']), mlb.transform(df_zeroshot['pred_genres']),average='weighted'))\n",
        "print(f1_score(mlb.transform(df_zeroshot['y_true']), mlb.transform(df_zeroshot['pred_genres']),average='micro'))\n",
        "print(f1_score(mlb.transform(df_zeroshot['y_true']), mlb.transform(df_zeroshot['pred_genres']),average='macro'))\n",
        "print(f1_score(mlb.transform(df_zeroshot['y_true']), mlb.transform(df_zeroshot['pred_genres']),average=None))"
      ],
      "metadata": {
        "colab": {
          "base_uri": "https://localhost:8080/"
        },
        "id": "25Kd466Z5_lV",
        "outputId": "3f60e4d1-4cf2-4a1e-b6cc-5c1f6eb99dd1"
      },
      "execution_count": 165,
      "outputs": [
        {
          "output_type": "stream",
          "name": "stdout",
          "text": [
            "0.6234567901234568\n",
            "0.6666666666666667\n",
            "0.33717948717948715\n",
            "[0.66666667 1.         1.         0.         0.8        0.5\n",
            " 1.         0.8        1.         0.         0.         0.\n",
            " 0.66666667 0.         0.         0.         0.         0.\n",
            " 1.         0.         0.         0.         0.         0.33333333\n",
            " 0.         0.        ]\n"
          ]
        },
        {
          "output_type": "stream",
          "name": "stderr",
          "text": [
            "/usr/local/lib/python3.9/dist-packages/sklearn/preprocessing/_label.py:895: UserWarning: unknown class(es) [' Crime', ' Horror', ' Thriller', 'LGBTQ', 'Science Fiction', 'Sports', 'biography', 'drama', 'western'] will be ignored\n",
            "  warnings.warn(\n",
            "/usr/local/lib/python3.9/dist-packages/sklearn/metrics/_classification.py:1609: UndefinedMetricWarning: F-score is ill-defined and being set to 0.0 in labels with no true nor predicted samples. Use `zero_division` parameter to control this behavior.\n",
            "  _warn_prf(average, \"true nor predicted\", \"F-score is\", len(true_sum))\n",
            "/usr/local/lib/python3.9/dist-packages/sklearn/preprocessing/_label.py:895: UserWarning: unknown class(es) [' Crime', ' Horror', ' Thriller', 'LGBTQ', 'Science Fiction', 'Sports', 'biography', 'drama', 'western'] will be ignored\n",
            "  warnings.warn(\n",
            "/usr/local/lib/python3.9/dist-packages/sklearn/preprocessing/_label.py:895: UserWarning: unknown class(es) [' Crime', ' Horror', ' Thriller', 'LGBTQ', 'Science Fiction', 'Sports', 'biography', 'drama', 'western'] will be ignored\n",
            "  warnings.warn(\n",
            "/usr/local/lib/python3.9/dist-packages/sklearn/metrics/_classification.py:1609: UndefinedMetricWarning: F-score is ill-defined and being set to 0.0 in labels with no true nor predicted samples. Use `zero_division` parameter to control this behavior.\n",
            "  _warn_prf(average, \"true nor predicted\", \"F-score is\", len(true_sum))\n",
            "/usr/local/lib/python3.9/dist-packages/sklearn/preprocessing/_label.py:895: UserWarning: unknown class(es) [' Crime', ' Horror', ' Thriller', 'LGBTQ', 'Science Fiction', 'Sports', 'biography', 'drama', 'western'] will be ignored\n",
            "  warnings.warn(\n",
            "/usr/local/lib/python3.9/dist-packages/sklearn/metrics/_classification.py:1609: UndefinedMetricWarning: F-score is ill-defined and being set to 0.0 in labels with no true nor predicted samples. Use `zero_division` parameter to control this behavior.\n",
            "  _warn_prf(average, \"true nor predicted\", \"F-score is\", len(true_sum))\n"
          ]
        }
      ]
    },
    {
      "cell_type": "code",
      "source": [
        "df_zeroshot"
      ],
      "metadata": {
        "colab": {
          "base_uri": "https://localhost:8080/",
          "height": 363
        },
        "id": "Ml7fHeY5AkBt",
        "outputId": "6d9d8441-f672-4ec0-cef2-7e5d9e040e9d"
      },
      "execution_count": 166,
      "outputs": [
        {
          "output_type": "execute_result",
          "data": {
            "text/plain": [
              "                                       pred_genres  \\\n",
              "0                       [Drama,  Crime,  Thriller]   \n",
              "1                 [Action, Crime, Drama, Thriller]   \n",
              "2                                 [Horror, Comedy]   \n",
              "3            [Science Fiction,  Horror,  Thriller]   \n",
              "4                           [Documentary, History]   \n",
              "5                      [western, drama, biography]   \n",
              "6                            [Documentary, Sports]   \n",
              "7                             [Documentary, LGBTQ]   \n",
              "8                                [Comedy, Romance]   \n",
              "9  [Animation, Adventure, Comedy, Family, Fantasy]   \n",
              "\n",
              "                                      y_true  \n",
              "0                   [Crime, Drama, Thriller]  \n",
              "1           [Action, Crime, Drama, Thriller]  \n",
              "2                 [Comedy, Horror, Thriller]  \n",
              "3                 [Horror, Sci-Fi, Thriller]  \n",
              "4                              [Documentary]  \n",
              "5  [Action, Crime, Drama, Thriller, Western]  \n",
              "6                              [Documentary]  \n",
              "7                              [Documentary]  \n",
              "8                          [Comedy, Romance]  \n",
              "9    [Animation, Adventure, Family, Musical]  "
            ],
            "text/html": [
              "\n",
              "  <div id=\"df-bc0c209f-c34e-4a74-afa9-bea7eb002477\">\n",
              "    <div class=\"colab-df-container\">\n",
              "      <div>\n",
              "<style scoped>\n",
              "    .dataframe tbody tr th:only-of-type {\n",
              "        vertical-align: middle;\n",
              "    }\n",
              "\n",
              "    .dataframe tbody tr th {\n",
              "        vertical-align: top;\n",
              "    }\n",
              "\n",
              "    .dataframe thead th {\n",
              "        text-align: right;\n",
              "    }\n",
              "</style>\n",
              "<table border=\"1\" class=\"dataframe\">\n",
              "  <thead>\n",
              "    <tr style=\"text-align: right;\">\n",
              "      <th></th>\n",
              "      <th>pred_genres</th>\n",
              "      <th>y_true</th>\n",
              "    </tr>\n",
              "  </thead>\n",
              "  <tbody>\n",
              "    <tr>\n",
              "      <th>0</th>\n",
              "      <td>[Drama,  Crime,  Thriller]</td>\n",
              "      <td>[Crime, Drama, Thriller]</td>\n",
              "    </tr>\n",
              "    <tr>\n",
              "      <th>1</th>\n",
              "      <td>[Action, Crime, Drama, Thriller]</td>\n",
              "      <td>[Action, Crime, Drama, Thriller]</td>\n",
              "    </tr>\n",
              "    <tr>\n",
              "      <th>2</th>\n",
              "      <td>[Horror, Comedy]</td>\n",
              "      <td>[Comedy, Horror, Thriller]</td>\n",
              "    </tr>\n",
              "    <tr>\n",
              "      <th>3</th>\n",
              "      <td>[Science Fiction,  Horror,  Thriller]</td>\n",
              "      <td>[Horror, Sci-Fi, Thriller]</td>\n",
              "    </tr>\n",
              "    <tr>\n",
              "      <th>4</th>\n",
              "      <td>[Documentary, History]</td>\n",
              "      <td>[Documentary]</td>\n",
              "    </tr>\n",
              "    <tr>\n",
              "      <th>5</th>\n",
              "      <td>[western, drama, biography]</td>\n",
              "      <td>[Action, Crime, Drama, Thriller, Western]</td>\n",
              "    </tr>\n",
              "    <tr>\n",
              "      <th>6</th>\n",
              "      <td>[Documentary, Sports]</td>\n",
              "      <td>[Documentary]</td>\n",
              "    </tr>\n",
              "    <tr>\n",
              "      <th>7</th>\n",
              "      <td>[Documentary, LGBTQ]</td>\n",
              "      <td>[Documentary]</td>\n",
              "    </tr>\n",
              "    <tr>\n",
              "      <th>8</th>\n",
              "      <td>[Comedy, Romance]</td>\n",
              "      <td>[Comedy, Romance]</td>\n",
              "    </tr>\n",
              "    <tr>\n",
              "      <th>9</th>\n",
              "      <td>[Animation, Adventure, Comedy, Family, Fantasy]</td>\n",
              "      <td>[Animation, Adventure, Family, Musical]</td>\n",
              "    </tr>\n",
              "  </tbody>\n",
              "</table>\n",
              "</div>\n",
              "      <button class=\"colab-df-convert\" onclick=\"convertToInteractive('df-bc0c209f-c34e-4a74-afa9-bea7eb002477')\"\n",
              "              title=\"Convert this dataframe to an interactive table.\"\n",
              "              style=\"display:none;\">\n",
              "        \n",
              "  <svg xmlns=\"http://www.w3.org/2000/svg\" height=\"24px\"viewBox=\"0 0 24 24\"\n",
              "       width=\"24px\">\n",
              "    <path d=\"M0 0h24v24H0V0z\" fill=\"none\"/>\n",
              "    <path d=\"M18.56 5.44l.94 2.06.94-2.06 2.06-.94-2.06-.94-.94-2.06-.94 2.06-2.06.94zm-11 1L8.5 8.5l.94-2.06 2.06-.94-2.06-.94L8.5 2.5l-.94 2.06-2.06.94zm10 10l.94 2.06.94-2.06 2.06-.94-2.06-.94-.94-2.06-.94 2.06-2.06.94z\"/><path d=\"M17.41 7.96l-1.37-1.37c-.4-.4-.92-.59-1.43-.59-.52 0-1.04.2-1.43.59L10.3 9.45l-7.72 7.72c-.78.78-.78 2.05 0 2.83L4 21.41c.39.39.9.59 1.41.59.51 0 1.02-.2 1.41-.59l7.78-7.78 2.81-2.81c.8-.78.8-2.07 0-2.86zM5.41 20L4 18.59l7.72-7.72 1.47 1.35L5.41 20z\"/>\n",
              "  </svg>\n",
              "      </button>\n",
              "      \n",
              "  <style>\n",
              "    .colab-df-container {\n",
              "      display:flex;\n",
              "      flex-wrap:wrap;\n",
              "      gap: 12px;\n",
              "    }\n",
              "\n",
              "    .colab-df-convert {\n",
              "      background-color: #E8F0FE;\n",
              "      border: none;\n",
              "      border-radius: 50%;\n",
              "      cursor: pointer;\n",
              "      display: none;\n",
              "      fill: #1967D2;\n",
              "      height: 32px;\n",
              "      padding: 0 0 0 0;\n",
              "      width: 32px;\n",
              "    }\n",
              "\n",
              "    .colab-df-convert:hover {\n",
              "      background-color: #E2EBFA;\n",
              "      box-shadow: 0px 1px 2px rgba(60, 64, 67, 0.3), 0px 1px 3px 1px rgba(60, 64, 67, 0.15);\n",
              "      fill: #174EA6;\n",
              "    }\n",
              "\n",
              "    [theme=dark] .colab-df-convert {\n",
              "      background-color: #3B4455;\n",
              "      fill: #D2E3FC;\n",
              "    }\n",
              "\n",
              "    [theme=dark] .colab-df-convert:hover {\n",
              "      background-color: #434B5C;\n",
              "      box-shadow: 0px 1px 3px 1px rgba(0, 0, 0, 0.15);\n",
              "      filter: drop-shadow(0px 1px 2px rgba(0, 0, 0, 0.3));\n",
              "      fill: #FFFFFF;\n",
              "    }\n",
              "  </style>\n",
              "\n",
              "      <script>\n",
              "        const buttonEl =\n",
              "          document.querySelector('#df-bc0c209f-c34e-4a74-afa9-bea7eb002477 button.colab-df-convert');\n",
              "        buttonEl.style.display =\n",
              "          google.colab.kernel.accessAllowed ? 'block' : 'none';\n",
              "\n",
              "        async function convertToInteractive(key) {\n",
              "          const element = document.querySelector('#df-bc0c209f-c34e-4a74-afa9-bea7eb002477');\n",
              "          const dataTable =\n",
              "            await google.colab.kernel.invokeFunction('convertToInteractive',\n",
              "                                                     [key], {});\n",
              "          if (!dataTable) return;\n",
              "\n",
              "          const docLinkHtml = 'Like what you see? Visit the ' +\n",
              "            '<a target=\"_blank\" href=https://colab.research.google.com/notebooks/data_table.ipynb>data table notebook</a>'\n",
              "            + ' to learn more about interactive tables.';\n",
              "          element.innerHTML = '';\n",
              "          dataTable['output_type'] = 'display_data';\n",
              "          await google.colab.output.renderOutput(dataTable, element);\n",
              "          const docLink = document.createElement('div');\n",
              "          docLink.innerHTML = docLinkHtml;\n",
              "          element.appendChild(docLink);\n",
              "        }\n",
              "      </script>\n",
              "    </div>\n",
              "  </div>\n",
              "  "
            ]
          },
          "metadata": {},
          "execution_count": 166
        }
      ]
    },
    {
      "cell_type": "code",
      "source": [
        "%%markdown\n",
        "# Few-shot Llama\n",
        "## 2 exemplos\n",
        "## size 50"
      ],
      "metadata": {
        "colab": {
          "base_uri": "https://localhost:8080/",
          "height": 161
        },
        "id": "zI4uofMeAtN6",
        "outputId": "9a1adc98-e421-4558-97d6-8ca954734c34"
      },
      "execution_count": 194,
      "outputs": [
        {
          "output_type": "display_data",
          "data": {
            "text/plain": [
              "<IPython.core.display.Markdown object>"
            ],
            "text/markdown": "# Few-shot Llama\n## 2 exemplos\n## size 50\n"
          },
          "metadata": {}
        }
      ]
    },
    {
      "cell_type": "code",
      "source": [
        "%%time\n",
        "df_fewshot_2 = llama_model.run_test(size=50, is_few_shot=True, few_number=2)"
      ],
      "metadata": {
        "colab": {
          "base_uri": "https://localhost:8080/",
          "height": 1000,
          "referenced_widgets": [
            "4d8ed1523c7446cebd8b490b01348809",
            "0aead8a8a8a6448d9b73aaeb68c90b72",
            "56304286025243c7bc09a035d6c31746",
            "5849b0c2d1884421af0171b3982eebc4",
            "3f4961c1467c41e2a2133f65ef0bcf06",
            "0c75656347b84773bf9293c788b2d9d4",
            "aebf060dcfff4d81b681e83510e97bd7",
            "ec4c583fc2ab42c2850c6fc325afc3d4",
            "e05c2d7e8a1941db855c1fa69ae9ad44",
            "3494609724ab4431b3a5bf4af03b6e05",
            "91fd429be8c2481aa4942fabfda4b476"
          ]
        },
        "id": "ysNJ7-ycAs9z",
        "outputId": "7674b46b-dd14-4ddf-e89f-1b8fff237261"
      },
      "execution_count": 181,
      "outputs": [
        {
          "data": {
            "application/vnd.jupyter.widget-view+json": {
              "model_id": "4d8ed1523c7446cebd8b490b01348809",
              "version_major": 2,
              "version_minor": 0
            },
            "text/plain": [
              "  0%|          | 0/50 [00:00<?, ?it/s]"
            ]
          },
          "metadata": {},
          "output_type": "display_data"
        },
        {
          "output_type": "stream",
          "name": "stdout",
          "text": [
            "['crime', 'drama']\n",
            "+++++++\n",
            "['action', 'crime', 'thriller']\n",
            "+++++++\n",
            "['horror', 'comedy']\n",
            "+++++++\n",
            "['horror', 'sci-fi']\n",
            "+++++++\n",
            "['documentary', 'history']\n",
            "+++++++\n",
            "['western', 'biography', 'crime']\n",
            "+++++++\n",
            "['documentary', 'sports']\n",
            "+++++++\n",
            "['documentary', 'lgbtq+']\n",
            "+++++++\n",
            "['romance', 'comedy']\n",
            "+++++++\n",
            "['animation', 'adventure', 'comedy', 'family', 'fantasy']\n",
            "+++++++\n",
            "['drama', 'romance']\n",
            "+++++++\n",
            "['horror', 'thriller']\n",
            "+++++++\n",
            "['drama', 'history']\n",
            "+++++++\n",
            "['drama', 'history']\n",
            "+++++++\n",
            "['crime', 'filmnoir']\n",
            "+++++++\n",
            "['drama', 'war']\n",
            "+++++++\n",
            "['adventure', 'action']\n",
            "+++++++\n",
            "['documentary', 'crime']\n",
            "+++++++\n",
            "['horror', 'sci-fi']\n",
            "+++++++\n",
            "['crime', 'thriller']\n",
            "+++++++\n",
            "['comedy', 'romance']\n",
            "+++++++\n",
            "['documentary', 'biography']\n",
            "+++++++\n",
            "['comedy', 'drama']\n",
            "+++++++\n",
            "['crime', 'thriller']\n",
            "+++++++\n",
            "['drama', 'romance']\n",
            "+++++++\n",
            "['crime', 'thriller']\n",
            "+++++++\n",
            "['horror', 'romance']\n",
            "+++++++\n",
            "['documentary', 'biography']\n",
            "+++++++\n",
            "['crime', 'mystery']\n",
            "+++++++\n",
            "['comedy', 'fantasy']\n",
            "+++++++\n",
            "['adventure', 'animation', 'family', 'fantasy']\n",
            "+++++++\n",
            "['crime', 'thriller']\n",
            "+++++++\n",
            "['mystery', 'thriller']\n",
            "+++++++\n",
            "['comedy', 'crime']\n",
            "+++++++\n",
            "['action', 'thriller']\n",
            "+++++++\n",
            "['horror', 'comedy']\n",
            "+++++++\n",
            "['sci-fi', 'mystery']\n",
            "+++++++\n",
            "['romance', 'drama']\n",
            "+++++++\n",
            "['comedy', 'action']\n",
            "+++++++\n",
            "['horror', 'thriller']\n",
            "+++++++\n",
            "['mystery', 'thriller']\n",
            "+++++++\n",
            "['comedy', 'documentary']\n",
            "+++++++\n",
            "['romance', 'drama']\n",
            "+++++++\n",
            "['action', 'thriller']\n",
            "+++++++\n",
            "['animation', 'comedy']\n",
            "+++++++\n",
            "['comedy', 'romance']\n",
            "+++++++\n",
            "['horror', 'thriller']\n",
            "+++++++\n",
            "['crime', 'thriller']\n",
            "+++++++\n",
            "['comedy', 'romance']\n",
            "+++++++\n",
            "['sci-fi', 'action']\n",
            "+++++++\n",
            "CPU times: user 5.42 s, sys: 675 ms, total: 6.09 s\n",
            "Wall time: 17min 18s\n"
          ]
        }
      ]
    },
    {
      "cell_type": "code",
      "source": [
        "print(f1_score(mlb.transform(df_fewshot_2['y_true']), mlb.transform(df_fewshot_2['pred_genres']),average='weighted'))\n",
        "print(f1_score(mlb.transform(df_fewshot_2['y_true']), mlb.transform(df_fewshot_2['pred_genres']),average='micro'))\n",
        "print(f1_score(mlb.transform(df_fewshot_2['y_true']), mlb.transform(df_fewshot_2['pred_genres']),average='macro'))\n",
        "print(f1_score(mlb.transform(df_fewshot_2['y_true']), mlb.transform(df_fewshot_2['pred_genres']),average=None))"
      ],
      "metadata": {
        "colab": {
          "base_uri": "https://localhost:8080/"
        },
        "id": "s4ffDaoaAsob",
        "outputId": "b174d05a-8f8c-45c3-b300-b2983f120788"
      },
      "execution_count": 182,
      "outputs": [
        {
          "output_type": "stream",
          "name": "stdout",
          "text": [
            "0.6933327120274023\n",
            "0.6912442396313364\n",
            "0.47486040668732976\n",
            "[0.5        0.75       0.8        0.         0.88       0.88\n",
            " 0.92307692 0.5625     0.8        0.66666667 0.         0.\n",
            " 0.93333333 0.         0.         0.85714286 0.         0.\n",
            " 0.33333333 0.88888889 0.         0.         0.         0.57142857\n",
            " 1.         1.        ]\n"
          ]
        },
        {
          "output_type": "stream",
          "name": "stderr",
          "text": [
            "/usr/local/lib/python3.9/dist-packages/sklearn/preprocessing/_label.py:895: UserWarning: unknown class(es) ['filmnoir', 'lgbtq+', 'sports'] will be ignored\n",
            "  warnings.warn(\n",
            "/usr/local/lib/python3.9/dist-packages/sklearn/metrics/_classification.py:1609: UndefinedMetricWarning: F-score is ill-defined and being set to 0.0 in labels with no true nor predicted samples. Use `zero_division` parameter to control this behavior.\n",
            "  _warn_prf(average, \"true nor predicted\", \"F-score is\", len(true_sum))\n",
            "/usr/local/lib/python3.9/dist-packages/sklearn/preprocessing/_label.py:895: UserWarning: unknown class(es) ['filmnoir', 'lgbtq+', 'sports'] will be ignored\n",
            "  warnings.warn(\n",
            "/usr/local/lib/python3.9/dist-packages/sklearn/preprocessing/_label.py:895: UserWarning: unknown class(es) ['filmnoir', 'lgbtq+', 'sports'] will be ignored\n",
            "  warnings.warn(\n",
            "/usr/local/lib/python3.9/dist-packages/sklearn/metrics/_classification.py:1609: UndefinedMetricWarning: F-score is ill-defined and being set to 0.0 in labels with no true nor predicted samples. Use `zero_division` parameter to control this behavior.\n",
            "  _warn_prf(average, \"true nor predicted\", \"F-score is\", len(true_sum))\n",
            "/usr/local/lib/python3.9/dist-packages/sklearn/preprocessing/_label.py:895: UserWarning: unknown class(es) ['filmnoir', 'lgbtq+', 'sports'] will be ignored\n",
            "  warnings.warn(\n",
            "/usr/local/lib/python3.9/dist-packages/sklearn/metrics/_classification.py:1609: UndefinedMetricWarning: F-score is ill-defined and being set to 0.0 in labels with no true nor predicted samples. Use `zero_division` parameter to control this behavior.\n",
            "  _warn_prf(average, \"true nor predicted\", \"F-score is\", len(true_sum))\n"
          ]
        }
      ]
    },
    {
      "cell_type": "code",
      "source": [
        "%%markdown\n",
        "# zero-shot Llama\n",
        "## size 50"
      ],
      "metadata": {
        "colab": {
          "base_uri": "https://localhost:8080/",
          "height": 118
        },
        "id": "VascLWB2fu4x",
        "outputId": "06c87685-aa6f-4107-ccbc-8cff3832c0af"
      },
      "execution_count": 191,
      "outputs": [
        {
          "output_type": "display_data",
          "data": {
            "text/plain": [
              "<IPython.core.display.Markdown object>"
            ],
            "text/markdown": "# zero-shot Llama\n## size 50\n"
          },
          "metadata": {}
        }
      ]
    },
    {
      "cell_type": "code",
      "source": [
        "%%time\n",
        "df_zeroshot_50 = llama_model.run_test(size=50, is_few_shot=False)"
      ],
      "metadata": {
        "id": "nc4pLB8TfwbU"
      },
      "execution_count": null,
      "outputs": []
    },
    {
      "cell_type": "code",
      "source": [
        "print(f1_score(mlb.transform(df_zeroshot_50['y_true']), mlb.transform(df_zeroshot_50['pred_genres']),average='weighted'))\n",
        "print(f1_score(mlb.transform(df_zeroshot_50['y_true']), mlb.transform(df_zeroshot_50['pred_genres']),average='micro'))\n",
        "print(f1_score(mlb.transform(df_zeroshot_50['y_true']), mlb.transform(df_zeroshot_50['pred_genres']),average='macro'))\n",
        "print(f1_score(mlb.transform(df_zeroshot_50['y_true']), mlb.transform(df_zeroshot_50['pred_genres']),average=None))"
      ],
      "metadata": {
        "id": "484P4Kmxf58X"
      },
      "execution_count": null,
      "outputs": []
    },
    {
      "cell_type": "code",
      "source": [],
      "metadata": {
        "id": "06_la-7AgO8v"
      },
      "execution_count": null,
      "outputs": []
    }
  ]
}