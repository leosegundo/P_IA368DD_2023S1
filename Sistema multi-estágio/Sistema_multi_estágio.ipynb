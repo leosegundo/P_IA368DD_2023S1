{
  "nbformat": 4,
  "nbformat_minor": 0,
  "metadata": {
    "colab": {
      "provenance": [],
      "gpuType": "T4"
    },
    "kernelspec": {
      "name": "python3",
      "display_name": "Python 3"
    },
    "language_info": {
      "name": "python"
    },
    "gpuClass": "standard",
    "widgets": {
      "application/vnd.jupyter.widget-state+json": {
        "46f81a204be74c3a9dac42ef86ffb45c": {
          "model_module": "@jupyter-widgets/controls",
          "model_name": "HBoxModel",
          "model_module_version": "1.5.0",
          "state": {
            "_dom_classes": [],
            "_model_module": "@jupyter-widgets/controls",
            "_model_module_version": "1.5.0",
            "_model_name": "HBoxModel",
            "_view_count": null,
            "_view_module": "@jupyter-widgets/controls",
            "_view_module_version": "1.5.0",
            "_view_name": "HBoxView",
            "box_style": "",
            "children": [
              "IPY_MODEL_659fad477b7247fdb1d0cf02a1a84bee",
              "IPY_MODEL_6cd257008a1047838cfa8c69bf756dd3",
              "IPY_MODEL_19fe7df97bc34675abda4f07f1f0806e"
            ],
            "layout": "IPY_MODEL_4fcfabd396824dddaef1b019dbe35b44"
          }
        },
        "659fad477b7247fdb1d0cf02a1a84bee": {
          "model_module": "@jupyter-widgets/controls",
          "model_name": "HTMLModel",
          "model_module_version": "1.5.0",
          "state": {
            "_dom_classes": [],
            "_model_module": "@jupyter-widgets/controls",
            "_model_module_version": "1.5.0",
            "_model_name": "HTMLModel",
            "_view_count": null,
            "_view_module": "@jupyter-widgets/controls",
            "_view_module_version": "1.5.0",
            "_view_name": "HTMLView",
            "description": "",
            "description_tooltip": null,
            "layout": "IPY_MODEL_4b68822b414d4b5ca747878c2112e11d",
            "placeholder": "​",
            "style": "IPY_MODEL_3a0cc252753444878468306181df2dbd",
            "value": "Downloading builder script: 100%"
          }
        },
        "6cd257008a1047838cfa8c69bf756dd3": {
          "model_module": "@jupyter-widgets/controls",
          "model_name": "FloatProgressModel",
          "model_module_version": "1.5.0",
          "state": {
            "_dom_classes": [],
            "_model_module": "@jupyter-widgets/controls",
            "_model_module_version": "1.5.0",
            "_model_name": "FloatProgressModel",
            "_view_count": null,
            "_view_module": "@jupyter-widgets/controls",
            "_view_module_version": "1.5.0",
            "_view_name": "ProgressView",
            "bar_style": "success",
            "description": "",
            "description_tooltip": null,
            "layout": "IPY_MODEL_7125574f361c4c50b411ae5dd318eaeb",
            "max": 5514,
            "min": 0,
            "orientation": "horizontal",
            "style": "IPY_MODEL_530e1e20c04c421e975e305798af3a33",
            "value": 5514
          }
        },
        "19fe7df97bc34675abda4f07f1f0806e": {
          "model_module": "@jupyter-widgets/controls",
          "model_name": "HTMLModel",
          "model_module_version": "1.5.0",
          "state": {
            "_dom_classes": [],
            "_model_module": "@jupyter-widgets/controls",
            "_model_module_version": "1.5.0",
            "_model_name": "HTMLModel",
            "_view_count": null,
            "_view_module": "@jupyter-widgets/controls",
            "_view_module_version": "1.5.0",
            "_view_name": "HTMLView",
            "description": "",
            "description_tooltip": null,
            "layout": "IPY_MODEL_d40b99adcfa643afa35dc209ecc8b54a",
            "placeholder": "​",
            "style": "IPY_MODEL_976cf40f42b748b2b8004e015f6752f5",
            "value": " 5.51k/5.51k [00:00&lt;00:00, 301kB/s]"
          }
        },
        "4fcfabd396824dddaef1b019dbe35b44": {
          "model_module": "@jupyter-widgets/base",
          "model_name": "LayoutModel",
          "model_module_version": "1.2.0",
          "state": {
            "_model_module": "@jupyter-widgets/base",
            "_model_module_version": "1.2.0",
            "_model_name": "LayoutModel",
            "_view_count": null,
            "_view_module": "@jupyter-widgets/base",
            "_view_module_version": "1.2.0",
            "_view_name": "LayoutView",
            "align_content": null,
            "align_items": null,
            "align_self": null,
            "border": null,
            "bottom": null,
            "display": null,
            "flex": null,
            "flex_flow": null,
            "grid_area": null,
            "grid_auto_columns": null,
            "grid_auto_flow": null,
            "grid_auto_rows": null,
            "grid_column": null,
            "grid_gap": null,
            "grid_row": null,
            "grid_template_areas": null,
            "grid_template_columns": null,
            "grid_template_rows": null,
            "height": null,
            "justify_content": null,
            "justify_items": null,
            "left": null,
            "margin": null,
            "max_height": null,
            "max_width": null,
            "min_height": null,
            "min_width": null,
            "object_fit": null,
            "object_position": null,
            "order": null,
            "overflow": null,
            "overflow_x": null,
            "overflow_y": null,
            "padding": null,
            "right": null,
            "top": null,
            "visibility": null,
            "width": null
          }
        },
        "4b68822b414d4b5ca747878c2112e11d": {
          "model_module": "@jupyter-widgets/base",
          "model_name": "LayoutModel",
          "model_module_version": "1.2.0",
          "state": {
            "_model_module": "@jupyter-widgets/base",
            "_model_module_version": "1.2.0",
            "_model_name": "LayoutModel",
            "_view_count": null,
            "_view_module": "@jupyter-widgets/base",
            "_view_module_version": "1.2.0",
            "_view_name": "LayoutView",
            "align_content": null,
            "align_items": null,
            "align_self": null,
            "border": null,
            "bottom": null,
            "display": null,
            "flex": null,
            "flex_flow": null,
            "grid_area": null,
            "grid_auto_columns": null,
            "grid_auto_flow": null,
            "grid_auto_rows": null,
            "grid_column": null,
            "grid_gap": null,
            "grid_row": null,
            "grid_template_areas": null,
            "grid_template_columns": null,
            "grid_template_rows": null,
            "height": null,
            "justify_content": null,
            "justify_items": null,
            "left": null,
            "margin": null,
            "max_height": null,
            "max_width": null,
            "min_height": null,
            "min_width": null,
            "object_fit": null,
            "object_position": null,
            "order": null,
            "overflow": null,
            "overflow_x": null,
            "overflow_y": null,
            "padding": null,
            "right": null,
            "top": null,
            "visibility": null,
            "width": null
          }
        },
        "3a0cc252753444878468306181df2dbd": {
          "model_module": "@jupyter-widgets/controls",
          "model_name": "DescriptionStyleModel",
          "model_module_version": "1.5.0",
          "state": {
            "_model_module": "@jupyter-widgets/controls",
            "_model_module_version": "1.5.0",
            "_model_name": "DescriptionStyleModel",
            "_view_count": null,
            "_view_module": "@jupyter-widgets/base",
            "_view_module_version": "1.2.0",
            "_view_name": "StyleView",
            "description_width": ""
          }
        },
        "7125574f361c4c50b411ae5dd318eaeb": {
          "model_module": "@jupyter-widgets/base",
          "model_name": "LayoutModel",
          "model_module_version": "1.2.0",
          "state": {
            "_model_module": "@jupyter-widgets/base",
            "_model_module_version": "1.2.0",
            "_model_name": "LayoutModel",
            "_view_count": null,
            "_view_module": "@jupyter-widgets/base",
            "_view_module_version": "1.2.0",
            "_view_name": "LayoutView",
            "align_content": null,
            "align_items": null,
            "align_self": null,
            "border": null,
            "bottom": null,
            "display": null,
            "flex": null,
            "flex_flow": null,
            "grid_area": null,
            "grid_auto_columns": null,
            "grid_auto_flow": null,
            "grid_auto_rows": null,
            "grid_column": null,
            "grid_gap": null,
            "grid_row": null,
            "grid_template_areas": null,
            "grid_template_columns": null,
            "grid_template_rows": null,
            "height": null,
            "justify_content": null,
            "justify_items": null,
            "left": null,
            "margin": null,
            "max_height": null,
            "max_width": null,
            "min_height": null,
            "min_width": null,
            "object_fit": null,
            "object_position": null,
            "order": null,
            "overflow": null,
            "overflow_x": null,
            "overflow_y": null,
            "padding": null,
            "right": null,
            "top": null,
            "visibility": null,
            "width": null
          }
        },
        "530e1e20c04c421e975e305798af3a33": {
          "model_module": "@jupyter-widgets/controls",
          "model_name": "ProgressStyleModel",
          "model_module_version": "1.5.0",
          "state": {
            "_model_module": "@jupyter-widgets/controls",
            "_model_module_version": "1.5.0",
            "_model_name": "ProgressStyleModel",
            "_view_count": null,
            "_view_module": "@jupyter-widgets/base",
            "_view_module_version": "1.2.0",
            "_view_name": "StyleView",
            "bar_color": null,
            "description_width": ""
          }
        },
        "d40b99adcfa643afa35dc209ecc8b54a": {
          "model_module": "@jupyter-widgets/base",
          "model_name": "LayoutModel",
          "model_module_version": "1.2.0",
          "state": {
            "_model_module": "@jupyter-widgets/base",
            "_model_module_version": "1.2.0",
            "_model_name": "LayoutModel",
            "_view_count": null,
            "_view_module": "@jupyter-widgets/base",
            "_view_module_version": "1.2.0",
            "_view_name": "LayoutView",
            "align_content": null,
            "align_items": null,
            "align_self": null,
            "border": null,
            "bottom": null,
            "display": null,
            "flex": null,
            "flex_flow": null,
            "grid_area": null,
            "grid_auto_columns": null,
            "grid_auto_flow": null,
            "grid_auto_rows": null,
            "grid_column": null,
            "grid_gap": null,
            "grid_row": null,
            "grid_template_areas": null,
            "grid_template_columns": null,
            "grid_template_rows": null,
            "height": null,
            "justify_content": null,
            "justify_items": null,
            "left": null,
            "margin": null,
            "max_height": null,
            "max_width": null,
            "min_height": null,
            "min_width": null,
            "object_fit": null,
            "object_position": null,
            "order": null,
            "overflow": null,
            "overflow_x": null,
            "overflow_y": null,
            "padding": null,
            "right": null,
            "top": null,
            "visibility": null,
            "width": null
          }
        },
        "976cf40f42b748b2b8004e015f6752f5": {
          "model_module": "@jupyter-widgets/controls",
          "model_name": "DescriptionStyleModel",
          "model_module_version": "1.5.0",
          "state": {
            "_model_module": "@jupyter-widgets/controls",
            "_model_module_version": "1.5.0",
            "_model_name": "DescriptionStyleModel",
            "_view_count": null,
            "_view_module": "@jupyter-widgets/base",
            "_view_module_version": "1.2.0",
            "_view_name": "StyleView",
            "description_width": ""
          }
        }
      }
    },
    "accelerator": "GPU"
  },
  "cells": [
    {
      "cell_type": "code",
      "source": [
        "!pip install pyserini -q\n",
        "!pip install evaluate -q\n",
        "!pip install faiss-gpu -q\n",
        "!pip install trectools -q\n",
        "!pip install jsonlines -q\n",
        "!pip install datasets -q\n",
        "!pip install sentence-transformers -q"
      ],
      "metadata": {
        "id": "4DASKTXtQJ_X"
      },
      "execution_count": 94,
      "outputs": []
    },
    {
      "cell_type": "code",
      "execution_count": 95,
      "metadata": {
        "id": "aq8G3Uqs2jlG"
      },
      "outputs": [],
      "source": [
        "import os\n",
        "os.chdir('/content/drive/MyDrive/doutorado/P_IA368DD_2023S/aula9_10')"
      ]
    },
    {
      "cell_type": "code",
      "source": [
        "from pathlib import Path\n",
        "import json\n",
        "import jsonlines\n",
        "\n",
        "from collections import OrderedDict\n",
        "import pickle\n",
        "\n",
        "import numpy as np\n",
        "import pandas as pd\n",
        "\n",
        "from tqdm import tqdm\n",
        "np.random.seed(42)"
      ],
      "metadata": {
        "id": "zGuweUjm36wU"
      },
      "execution_count": 96,
      "outputs": []
    },
    {
      "cell_type": "code",
      "source": [
        "from pyserini.search.lucene import LuceneSearcher\n",
        "from evaluate import load\n",
        "from collections import defaultdict\n",
        "\n",
        "from datasets import load_dataset"
      ],
      "metadata": {
        "id": "Xd-THZXgQF25"
      },
      "execution_count": 97,
      "outputs": []
    },
    {
      "cell_type": "code",
      "source": [
        "from time import time\n",
        "from sentence_transformers import CrossEncoder"
      ],
      "metadata": {
        "id": "eto9zeUBKT4L"
      },
      "execution_count": 98,
      "outputs": []
    },
    {
      "cell_type": "code",
      "source": [
        "import torch\n",
        "device = torch.device('cuda' if torch.cuda.is_available() else 'cpu')\n",
        "device"
      ],
      "metadata": {
        "colab": {
          "base_uri": "https://localhost:8080/"
        },
        "id": "sxx5pQfYNZz3",
        "outputId": "62c8b94f-0284-4a6b-920e-1929a80980e0"
      },
      "execution_count": 99,
      "outputs": [
        {
          "output_type": "execute_result",
          "data": {
            "text/plain": [
              "device(type='cuda')"
            ]
          },
          "metadata": {},
          "execution_count": 99
        }
      ]
    },
    {
      "cell_type": "code",
      "source": [
        "\n",
        "path_data = \"./data/\"\n",
        "\n",
        "# Dados do TREC-COVID\n",
        "url_trec_covid = 'https://public.ukp.informatik.tu-darmstadt.de/thakur/BEIR/datasets/trec-covid.zip'"
      ],
      "metadata": {
        "id": "7hBMCdSy3836"
      },
      "execution_count": 100,
      "outputs": []
    },
    {
      "cell_type": "code",
      "source": [
        "#!wget https://huggingface.co/datasets/BeIR/trec-covid-qrels/raw/main/test.tsv"
      ],
      "metadata": {
        "colab": {
          "base_uri": "https://localhost:8080/"
        },
        "id": "gKOXKk3rV07m",
        "outputId": "31708daa-246a-450d-a510-61e71fcad013"
      },
      "execution_count": null,
      "outputs": [
        {
          "output_type": "stream",
          "name": "stdout",
          "text": [
            "--2023-05-11 00:48:32--  https://huggingface.co/datasets/BeIR/trec-covid-qrels/raw/main/test.tsv\n",
            "Resolving huggingface.co (huggingface.co)... 13.227.219.41, 13.227.219.105, 13.227.219.125, ...\n",
            "Connecting to huggingface.co (huggingface.co)|13.227.219.41|:443... connected.\n",
            "HTTP request sent, awaiting response... 200 OK\n",
            "Length: 980831 (958K) [text/plain]\n",
            "Saving to: ‘test.tsv.3’\n",
            "\n",
            "test.tsv.3          100%[===================>] 957.84K  2.54MB/s    in 0.4s    \n",
            "\n",
            "2023-05-11 00:48:32 (2.54 MB/s) - ‘test.tsv.3’ saved [980831/980831]\n",
            "\n"
          ]
        }
      ]
    },
    {
      "cell_type": "code",
      "source": [
        "\n",
        "if not Path(f'{path_data}trec-covid.zip').is_file():\n",
        "  !wget {url_trec_covid} -P ./data/ # type: ignore\n",
        "  !unzip -o data/trec-covid.zip -d ./data/ # type: ignore\n",
        "\n",
        "if not Path(f'{path_data}trec-covid/expanded_corpus/expanded_corpus.csv').is_file():\n",
        "  with open('/content/drive/MyDrive/doutorado/P_IA368DD_2023S/aula5/TREC_COVID_2020/expanded_corpus/expanded_corpus.jsonl', 'r') as json_file:\n",
        "      json_list = list(json_file)\n",
        "\n",
        "  expanded_corpus_ids = []\n",
        "  expanded_corpus_contents = []\n",
        "  for json_str in tqdm(json_list):\n",
        "      result = json.loads(json_str)\n",
        "      expanded_corpus_ids.append(result['id'])\n",
        "      expanded_corpus_contents.append(result['contents'])\n",
        "\n",
        "  expanded_corpus_df = pd.DataFrame({'id':expanded_corpus_ids,\n",
        "                                    'contents':expanded_corpus_contents})\n",
        "  expanded_corpus_df.to_csv(f'{path_data}trec-covid/expanded_corpus/expanded_corpus.csv')\n",
        "else:\n",
        "  expanded_corpus_df = pd.read_csv(f'{path_data}trec-covid/expanded_corpus/expanded_corpus.csv')\n",
        "  expanded_corpus_df = expanded_corpus_df.rename(columns={'contents':'text'})\n",
        "  expanded_corpus_df = expanded_corpus_df.drop(columns=['Unnamed: 0'])\n",
        "\n",
        "# Converte o qrels que veio no trec-covid.zip pra o formato esperado:\n",
        "with open(f'{path_data}trec-covid/qrels/test.tsv', 'r') as fin:\n",
        "  data = fin.read().splitlines(True)\n",
        "with open(f'{path_data}trec-covid/qrels/test_corrigido.tsv', 'w') as fout:\n",
        "  for linha in data[1:]:\n",
        "    campos = linha.split()\n",
        "    fout.write(f'{campos[0]}\\t0\\t{campos[1]}\\t{campos[2]}\\n')\n",
        "\n",
        "def carrega_corpus_trec_covid():\n",
        "  retorno = []\n",
        "  ids = []\n",
        "  titles = []\n",
        "  texts = []\n",
        "  with open(f'{path_data}trec-covid/corpus.jsonl') as corpus:\n",
        "    for i, line in enumerate(corpus):\n",
        "      doc = json.loads(line)\n",
        "      ids.append(doc['_id'])\n",
        "      titles.append(doc['title'])\n",
        "      texts.append(doc['text'])\n",
        "      retorno.append(\n",
        "          (doc['_id'], f\"{doc['title']} {doc['text']}\")\n",
        "      )\n",
        "      if (i % 10000 == 0):\n",
        "        print(f'Processado {i} documentos')\n",
        "    corpus_df = pd.DataFrame({\"id\":ids,\"title\":titles,\"text\":texts})\n",
        "    return retorno, corpus_df\n",
        "\n",
        "def carrega_queries_trec_covid():\n",
        "  retorno = []\n",
        "  with open(f'{path_data}trec-covid/queries.tsv','w') as f_out:\n",
        "    with open(f'{path_data}trec-covid/queries.jsonl') as queries:\n",
        "      for line in queries:\n",
        "        query = json.loads(line)\n",
        "        # Faz apenas uma pequena tradução de _id para id e text para texto\n",
        "        retorno.append({'id': query['_id'], 'texto': query['text']})\n",
        "        f_out.write(f\"{query['_id']}\\t{query['text']}\\n\")\n",
        "  return retorno\n"
      ],
      "metadata": {
        "id": "RNzNlzEQ39fJ"
      },
      "execution_count": 101,
      "outputs": []
    },
    {
      "cell_type": "code",
      "source": [
        "%%time\n",
        "queries_trec_covid = carrega_queries_trec_covid()\n",
        "corpus_trec_covid, df_corpus_trec_covid = carrega_corpus_trec_covid()\n",
        "\n",
        "\n",
        "os.makedirs(f'{path_data}trec-covid/corpus_original', exist_ok=True)\n",
        "with open(f'{path_data}trec-covid/corpus_original/corpus_original.json', 'w') as f:\n",
        "    json.dump(corpus_trec_covid, f)"
      ],
      "metadata": {
        "colab": {
          "base_uri": "https://localhost:8080/"
        },
        "id": "Voni7FHw39rJ",
        "outputId": "c52b4944-f853-4348-fa79-d4b9b6fe2021"
      },
      "execution_count": 102,
      "outputs": [
        {
          "output_type": "stream",
          "name": "stdout",
          "text": [
            "Processado 0 documentos\n",
            "Processado 10000 documentos\n",
            "Processado 20000 documentos\n",
            "Processado 30000 documentos\n",
            "Processado 40000 documentos\n",
            "Processado 50000 documentos\n",
            "Processado 60000 documentos\n",
            "Processado 70000 documentos\n",
            "Processado 80000 documentos\n",
            "Processado 90000 documentos\n",
            "Processado 100000 documentos\n",
            "Processado 110000 documentos\n",
            "Processado 120000 documentos\n",
            "Processado 130000 documentos\n",
            "Processado 140000 documentos\n",
            "Processado 150000 documentos\n",
            "Processado 160000 documentos\n",
            "Processado 170000 documentos\n",
            "CPU times: user 3.25 s, sys: 622 ms, total: 3.87 s\n",
            "Wall time: 5.36 s\n"
          ]
        }
      ]
    },
    {
      "cell_type": "code",
      "source": [
        "qrel = pd.read_csv(f\"{path_data}trec-covid/test.tsv\", \n",
        "                   sep = \"\\t\",\n",
        "                   header=None, \n",
        "                   skiprows = 1, \n",
        "                   names = [\"query\", \"docid\", \"rel\"])\n",
        "qrel[\"q0\"] = \"q0\"\n",
        "qrel = qrel[[\"query\",\"q0\",\"docid\",\"rel\"]]\n",
        "qrel = qrel.to_dict(orient = \"list\")"
      ],
      "metadata": {
        "id": "RfUl6KfYeqC4"
      },
      "execution_count": 103,
      "outputs": []
    },
    {
      "cell_type": "code",
      "source": [
        "df_queries_trec_covid = pd.DataFrame({})\n",
        "query_ids = []\n",
        "query_texts = []\n",
        "\n",
        "for item in queries_trec_covid:\n",
        "  id = item[\"id\"]\n",
        "  query_ids.append(id)\n",
        "  text = item[\"texto\"]\n",
        "  query_texts.append(text)\n",
        "\n",
        "df_queries_trec_covid[\"query_ids\"] = query_ids\n",
        "df_queries_trec_covid[\"query_texts\"] = query_texts"
      ],
      "metadata": {
        "id": "_NWDl4nCOoyz"
      },
      "execution_count": 104,
      "outputs": []
    },
    {
      "cell_type": "code",
      "source": [
        "def eval_ndcg10(run):\n",
        "  trec_eval = load(\"trec_eval\")\n",
        "  results = trec_eval.compute(predictions=[run], references=[qrel])\n",
        "  return results['NDCG@10'] \n",
        "\n",
        "def run_bm25(searcher,test_ids, test_corpus, top_k = 1000):\n",
        "  run = defaultdict(list)\n",
        "\n",
        "  for id, query in tqdm(zip(test_ids, test_corpus)):\n",
        "    bm25_hits = searcher.search(query, k = top_k)\n",
        "    ids = [json.loads(bm25_hits[i].raw)['_id'] for i in range(len(bm25_hits))]\n",
        "    run[\"query\"] += [id] * top_k\n",
        "    run[\"q0\"] += [\"q0\"] * top_k\n",
        "    run[\"docid\"] += ids\n",
        "    run[\"rank\"] += list(range(1,top_k+1))\n",
        "    run[\"score\"] += [1] * top_k\n",
        "    run[\"system\"] += ['bm25'] * top_k\n",
        "\n",
        "  return run"
      ],
      "metadata": {
        "id": "1nQ3wNyFbk8s"
      },
      "execution_count": null,
      "outputs": []
    },
    {
      "cell_type": "code",
      "source": [
        "searcher = LuceneSearcher.from_prebuilt_index(\"beir-v1.0.0-trec-covid.flat\") #('./data/trec-covid/original_index')\n",
        "\n",
        "_run_bm25 = run_bm25(searcher,query_ids, query_texts)\n",
        "baseline_bm25_ndcg = eval_ndcg10(_run_bm25)\n",
        "baseline_bm25_ndcg"
      ],
      "metadata": {
        "colab": {
          "base_uri": "https://localhost:8080/",
          "height": 118,
          "referenced_widgets": [
            "46f81a204be74c3a9dac42ef86ffb45c",
            "659fad477b7247fdb1d0cf02a1a84bee",
            "6cd257008a1047838cfa8c69bf756dd3",
            "19fe7df97bc34675abda4f07f1f0806e",
            "4fcfabd396824dddaef1b019dbe35b44",
            "4b68822b414d4b5ca747878c2112e11d",
            "3a0cc252753444878468306181df2dbd",
            "7125574f361c4c50b411ae5dd318eaeb",
            "530e1e20c04c421e975e305798af3a33",
            "d40b99adcfa643afa35dc209ecc8b54a",
            "976cf40f42b748b2b8004e015f6752f5"
          ]
        },
        "id": "mM_9Q-GPeT8q",
        "outputId": "9dc1b61e-2e43-4445-df7d-5a0f9252d16a"
      },
      "execution_count": null,
      "outputs": [
        {
          "output_type": "stream",
          "name": "stdout",
          "text": [
            "Downloading index at https://rgw.cs.uwaterloo.ca/pyserini/indexes/lucene-index.beir-v1.0.0-trec-covid.flat.20221116.505594.tar.gz...\n"
          ]
        },
        {
          "output_type": "stream",
          "name": "stderr",
          "text": [
            "lucene-index.beir-v1.0.0-trec-covid.flat.20221116.505594.tar.gz: 216MB [00:08, 26.6MB/s]                           \n",
            "50it [00:09,  5.46it/s]\n"
          ]
        },
        {
          "output_type": "display_data",
          "data": {
            "text/plain": [
              "Downloading builder script:   0%|          | 0.00/5.51k [00:00<?, ?B/s]"
            ],
            "application/vnd.jupyter.widget-view+json": {
              "version_major": 2,
              "version_minor": 0,
              "model_id": "46f81a204be74c3a9dac42ef86ffb45c"
            }
          },
          "metadata": {}
        },
        {
          "output_type": "execute_result",
          "data": {
            "text/plain": [
              "0.5946917010118077"
            ]
          },
          "metadata": {},
          "execution_count": 15
        }
      ]
    },
    {
      "cell_type": "code",
      "source": [
        "%%markdown\n",
        "# Doc2query"
      ],
      "metadata": {
        "id": "ulyE0CoO39_q",
        "colab": {
          "base_uri": "https://localhost:8080/",
          "height": 74
        },
        "outputId": "322d3d10-fe18-4765-cd23-4488042eed13"
      },
      "execution_count": null,
      "outputs": [
        {
          "output_type": "display_data",
          "data": {
            "text/plain": [
              "<IPython.core.display.Markdown object>"
            ],
            "text/markdown": "# Doc2query\n"
          },
          "metadata": {}
        }
      ]
    },
    {
      "cell_type": "code",
      "source": [
        "!python -m pyserini.index.lucene \\\n",
        "  --collection JsonCollection \\\n",
        "  --input /content/drive/MyDrive/doutorado/P_IA368DD_2023S/aula5/TREC_COVID_2020/expanded_corpus/ \\\n",
        "  --index data/indexes/doc2query_expasion_index \\\n",
        "  --generator DefaultLuceneDocumentGenerator \\\n",
        "  --threads 9 \\\n",
        "  --storePositions --storeDocvectors --storeRaw"
      ],
      "metadata": {
        "id": "zKm8IVpm6dNN"
      },
      "execution_count": null,
      "outputs": []
    },
    {
      "cell_type": "code",
      "source": [
        "!python -m pyserini.search.lucene \\\n",
        "  --index data/indexes/doc2query_expasion_index \\\n",
        "  --topics {path_data}trec-covid/queries.tsv \\\n",
        "  --output {path_data}/runs/run.trec-covid.bm25tuned-doc2query_expansion.txt \\\n",
        "  --hits 1000 \\\n",
        "  --bm25"
      ],
      "metadata": {
        "colab": {
          "base_uri": "https://localhost:8080/"
        },
        "id": "pzuDJMeO8yHR",
        "outputId": "3bb2bdb7-74c5-4ae7-8b33-9ac98f7d8298"
      },
      "execution_count": null,
      "outputs": [
        {
          "output_type": "stream",
          "name": "stdout",
          "text": [
            "Running ./data/trec-covid/queries.tsv topics, saving to ./data//runs/run.trec-covid.bm25tuned-doc2query_expansion.txt...\n",
            "100% 50/50 [00:05<00:00,  8.38it/s]\n"
          ]
        }
      ]
    },
    {
      "cell_type": "code",
      "source": [
        "run = pd.read_csv(f\"{path_data}runs/run.trec-covid.bm25tuned-doc2query_expansion.txt\", \n",
        "                  sep=\"\\s+\", \n",
        "                  names=[\"query\", \"q0\", \"docid\", \"rank\", \"score\", \"system\"])\n",
        "run = run.to_dict(orient=\"list\")"
      ],
      "metadata": {
        "id": "FP7yZ34y-Qt5"
      },
      "execution_count": null,
      "outputs": []
    },
    {
      "cell_type": "code",
      "source": [
        "doc2queryndcg = eval_ndcg10(run)\n",
        "doc2queryndcg"
      ],
      "metadata": {
        "colab": {
          "base_uri": "https://localhost:8080/"
        },
        "id": "HWEnOSNH8jax",
        "outputId": "e1121e85-61ac-4451-a93a-907b5b9dcb37"
      },
      "execution_count": null,
      "outputs": [
        {
          "output_type": "execute_result",
          "data": {
            "text/plain": [
              "0.648239216238283"
            ]
          },
          "metadata": {},
          "execution_count": 20
        }
      ]
    },
    {
      "cell_type": "code",
      "source": [
        " searcher = LuceneSearcher('data/indexes/doc2query_expasion_index')"
      ],
      "metadata": {
        "id": "ROJalkqst1iD"
      },
      "execution_count": null,
      "outputs": []
    },
    {
      "cell_type": "code",
      "source": [
        "%%time\n",
        "hits = searcher.search('How much does the COVID-19 test cost')"
      ],
      "metadata": {
        "colab": {
          "base_uri": "https://localhost:8080/"
        },
        "id": "HRwo3Su5hKXw",
        "outputId": "44c1e295-9549-47f1-a910-84de2badc127"
      },
      "execution_count": null,
      "outputs": [
        {
          "output_type": "stream",
          "name": "stdout",
          "text": [
            "CPU times: user 34.4 ms, sys: 2.68 ms, total: 37.1 ms\n",
            "Wall time: 54.9 ms\n"
          ]
        }
      ]
    },
    {
      "cell_type": "code",
      "source": [
        "# Print the first 10 hits:\n",
        "for i in range(0, 10):\n",
        "    print(f'{i+1:2} {hits[i].docid:15} {hits[i].score:.5f}')"
      ],
      "metadata": {
        "colab": {
          "base_uri": "https://localhost:8080/"
        },
        "id": "5uwdUkGn_Kye",
        "outputId": "4226656b-58c3-4bfa-8a2f-618e9f8e8c1c"
      },
      "execution_count": null,
      "outputs": [
        {
          "output_type": "stream",
          "name": "stdout",
          "text": [
            " 1 yanexvt1        9.89990\n",
            " 2 3rblzyry        9.23580\n",
            " 3 3o6aupqz        9.14730\n",
            " 4 8809ay2a        9.14730\n",
            " 5 komiury1        9.10830\n",
            " 6 pcyfx7t4        8.98350\n",
            " 7 tib0g9ok        8.70680\n",
            " 8 ngsstnpr        8.48470\n",
            " 9 7dbbph2i        8.24620\n",
            "10 9dttamtf        8.22900\n"
          ]
        }
      ]
    },
    {
      "cell_type": "code",
      "source": [
        "expanded_corpus_df[expanded_corpus_df['id'] == 'yanexvt1']['text'].values"
      ],
      "metadata": {
        "colab": {
          "base_uri": "https://localhost:8080/"
        },
        "id": "GhQkC6_e_Ptb",
        "outputId": "e27f4918-da1f-46a9-fd9e-79099b727de8"
      },
      "execution_count": null,
      "outputs": [
        {
          "output_type": "execute_result",
          "data": {
            "text/plain": [
              "array(['how much does covid cost. Treatment of coronavirus disease 2019 in Shandong, China: a cost and affordability analysis. BACKGROUND: Coronavirus disease 2019 (COVID-19) is now a global public threat. Given the pandemic of COVID-19, the economic impact of COVID-19 is essential to add value to the policy-making process. We retrospectively conducted a cost and affordability analysis to determine the medical costs of COVID-19 patients in China, and also assess the factors affecting their costs. METHODS: This analysis was retrospectively conducted in Shandong Provincial Chest Hospital between 24 January and 16 March 2020. The total direct medical expenditures were analyzed by cost factors. We also assessed affordability by comparing the simulated out-of-pocket expenditure of COVID-19 cases relative to the per capita disposable income. Differences between groups were tested by student t test and Mann-Whitney test when appropriate. A multiple logistic regression model was built to determine the risk factors associated with high cost. RESULTS: A total of 70 COVID-19 patients were included in the analysis. The overall mean cost was USD 6827 per treated episode. The highest mean cost was observed in drug acquisition, accounting for 45.1% of the overall cost. Total mean cost was significantly higher in patients with pre-existing diseases compared to those without pre-existing diseases. Pre-existing diseases and the advanced disease severity were strongly associated with higher cost. Around USD 0.49 billion were expected for clinical manage of COVID-19 in China. Among rural households, the proportions of health insurance coverage should be increased to 70% for severe cases, and 80% for critically ill cases to avoid catastrophic health expenditure. CONCLUSIONS: Our data demonstrate that clinical management of COVID-19 patients incurs a great financial burden to national health insurance. The cost for drug acquisition is the major contributor to the medical cost, whereas the risk factors for higher cost are pre-existing diseases and severity of COVID-19. Improvement of insurance coverage will need to address the barriers of rural patients to avoid the occurrence of catastrophic health expenditure.'],\n",
              "      dtype=object)"
            ]
          },
          "metadata": {},
          "execution_count": 24
        }
      ]
    },
    {
      "cell_type": "code",
      "source": [
        "%%markdown\n",
        "## Reranking with Cross Encoder"
      ],
      "metadata": {
        "colab": {
          "base_uri": "https://localhost:8080/",
          "height": 64
        },
        "id": "EJlHpTPGDEIr",
        "outputId": "6ec2a4d0-5cca-4e11-c457-c3ff70de4a64"
      },
      "execution_count": null,
      "outputs": [
        {
          "output_type": "display_data",
          "data": {
            "text/plain": [
              "<IPython.core.display.Markdown object>"
            ],
            "text/markdown": "## Reranking with Cross Encoder\n"
          },
          "metadata": {}
        }
      ]
    },
    {
      "cell_type": "code",
      "source": [
        "model_id = \"cross-encoder/ms-marco-MiniLM-L-6-v2\"\n",
        "model_name = \"ms-marco-MiniLM-L-6-v2\"\n",
        "model = CrossEncoder(model_id, max_length=512, num_labels=1)\n",
        "#model = model.to(device)"
      ],
      "metadata": {
        "id": "E5a9gVc7MHIR"
      },
      "execution_count": null,
      "outputs": []
    },
    {
      "cell_type": "code",
      "source": [
        "def eval_ndcg10(run):\n",
        "  trec_eval = load(\"trec_eval\")\n",
        "  results = trec_eval.compute(predictions=[run], references=[qrel])\n",
        "  return results['NDCG@10'] \n",
        "\n",
        "def run_pipeline(passages,searcher,test_ids, test_corpus, top_k = 1000):\n",
        "    docs_reranking = []\n",
        "    for id, query in tqdm(zip(test_ids, test_corpus)):\n",
        "      bm25_hits = searcher.search(query, k = top_k)\n",
        "      docs = []\n",
        "      for doc_id in bm25_hits:\n",
        "        passagens = passages[passages['id']== doc_id.docid][\"text\"].values\n",
        "        if len(passagens) >= 1:\n",
        "          passagens = passagens[0]\n",
        "          #import pdb;\n",
        "          #pdb.set_trace();\n",
        "\n",
        "        doc = {\n",
        "            \"query_id\": id,\n",
        "            \"passage_id\": doc_id.docid,\n",
        "            \"query_text\": query,\n",
        "            \"passage_text\": passagens,\n",
        "        }\n",
        "        docs.append(doc)\n",
        "      # Second stage\n",
        "      #print(\"here\")\n",
        "      aux, _dt = reranking_cross_encoder(docs, 100, 100)\n",
        "      docs_reranking.extend(aux)\n",
        "    return docs_reranking, _dt\n",
        "\n",
        "\n",
        "def reranking_cross_encoder(docs, max=1000, batch_size=500):\n",
        "    scores = []\n",
        "\n",
        "    query_ids = []\n",
        "    passage_ids = []\n",
        "\n",
        "    start = time()\n",
        "    for i in tqdm(range(0, len(docs), batch_size), leave=False):  # tqdm(docs):\n",
        "        i_end = i + batch_size\n",
        "        i_end = len(docs) if i_end > len(docs) else i_end\n",
        "\n",
        "        batch = docs[i:i_end]\n",
        "        \n",
        "        text_pairs = [(sample['query_text'], sample['passage_text']) for sample in batch]\n",
        "        \n",
        "        predictions = model.predict(text_pairs)\n",
        "        \n",
        "        for score, result in zip(predictions, batch):\n",
        "            query_id = result[\"query_id\"]\n",
        "            query_ids.append(query_id)\n",
        "\n",
        "            passage_id = result[\"passage_id\"]\n",
        "            passage_ids.append(passage_id)\n",
        "            scores.append(score)\n",
        "\n",
        "    results = []\n",
        "\n",
        "    for query, passage, score in zip(query_ids, passage_ids, scores):\n",
        "        results.append((query, passage, score))\n",
        "\n",
        "    sorted_list = sorted(results, key=lambda x: x[2], reverse=True)\n",
        "    end = time()\n",
        "    elapsed_time = round(end - start, 3)\n",
        "\n",
        "    #if \"cross_encoder\" not in data:\n",
        "    #    data[\"cross_encoder\"] = {\n",
        "    #        \"reranking\": 0\n",
        "    #    }\n",
        "    data = {\"cross_encoder\": {\"reranking\": 0}}\n",
        "    data[\"cross_encoder\"][\"reranking\"] += elapsed_time\n",
        "\n",
        "    return sorted_list[:max], data"
      ],
      "metadata": {
        "id": "WlQbcPjNDZ62"
      },
      "execution_count": 119,
      "outputs": []
    },
    {
      "cell_type": "code",
      "source": [
        "searcher = LuceneSearcher.from_prebuilt_index(\"beir-v1.0.0-trec-covid.flat\")\n",
        "#_run_bm25 = run_bm25(searcher,query_ids, query_texts)\n",
        "docs_reranking, data = run_pipeline(df_corpus_trec_covid,searcher,query_ids, query_texts)"
      ],
      "metadata": {
        "id": "LZjpTnOZK2a6"
      },
      "execution_count": null,
      "outputs": []
    },
    {
      "cell_type": "code",
      "source": [
        "ranks = np.arange(1,101)\n",
        "all_ranks = np.tile(ranks,50)\n",
        "\n",
        "df_docs_reranking = pd.DataFrame(docs_reranking,columns=[\"query\",\"docid\",\"score\"])\n",
        "df_docs_reranking['q0'] = \"Q0\"\n",
        "df_docs_reranking[\"rank\"] = all_ranks#.reshape(-1,1)\n",
        "df_docs_reranking[\"system\"] = \"CrossEncoder\"\n",
        "df_docs_reranking = df_docs_reranking[[\"query\",\"q0\",\"docid\",\"rank\",\"score\",\"system\"]]\n",
        "df_docs_reranking.to_csv(f\"{path_data}runs/run.trec-covid.crossEncoder.txt\")"
      ],
      "metadata": {
        "id": "-TJqpyxdhHPc"
      },
      "execution_count": null,
      "outputs": []
    },
    {
      "cell_type": "code",
      "source": [
        "run = df_docs_reranking.to_dict(orient=\"list\")\n",
        "doc2queryndcg = eval_ndcg10(run)\n",
        "doc2queryndcg"
      ],
      "metadata": {
        "colab": {
          "base_uri": "https://localhost:8080/"
        },
        "id": "eF2sMmniduMj",
        "outputId": "1e87825b-87bc-4756-f7ea-7cf50f68e829"
      },
      "execution_count": null,
      "outputs": [
        {
          "output_type": "stream",
          "name": "stderr",
          "text": [
            "/usr/local/lib/python3.10/dist-packages/trectools/trec_eval.py:427: FutureWarning: Not prepending group keys to the result index of transform-like apply. In the future, the group keys will be included in the index, regardless of whether the applied function returns a like-indexed object.\n",
            "To preserve the previous behavior, use\n",
            "\n",
            "\t>>> .groupby(..., group_keys=False)\n",
            "\n",
            "To adopt the future behavior and silence this warning, use \n",
            "\n",
            "\t>>> .groupby(..., group_keys=True)\n",
            "  topX = topX.groupby(\"query\").apply(lambda x: x.head(n_relevant_docs.loc[x.name])).reset_index(drop=True)\n"
          ]
        },
        {
          "output_type": "execute_result",
          "data": {
            "text/plain": [
              "0.6388725678226342"
            ]
          },
          "metadata": {},
          "execution_count": 79
        }
      ]
    },
    {
      "cell_type": "code",
      "source": [
        "%%markdown\n",
        "# doc2query + Cross encoder"
      ],
      "metadata": {
        "colab": {
          "base_uri": "https://localhost:8080/",
          "height": 74
        },
        "id": "UP4LZNHllaM0",
        "outputId": "59ff3141-56fc-4e14-9b66-3abe8c932470"
      },
      "execution_count": null,
      "outputs": [
        {
          "output_type": "display_data",
          "data": {
            "text/plain": [
              "<IPython.core.display.Markdown object>"
            ],
            "text/markdown": "# doc2query + Cross encoder\n"
          },
          "metadata": {}
        }
      ]
    },
    {
      "cell_type": "code",
      "source": [
        "model_id = \"cross-encoder/ms-marco-MiniLM-L-6-v2\"\n",
        "model_name = \"ms-marco-MiniLM-L-6-v2\"\n",
        "model = CrossEncoder(model_id, max_length=512, num_labels=1)\n",
        "#model = model.to(device)\n",
        "\n",
        "\n",
        "#searcher = LuceneSearcher.from_prebuilt_index(\"beir-v1.0.0-trec-covid.flat\")\n",
        "searcher = LuceneSearcher('data/indexes/doc2query_expasion_index')\n",
        "#LuceneSearcher('data/indexes/doc2query_expasion_index')\n",
        "#_run_bm25 = run_bm25(searcher,query_ids, query_texts)\n",
        "#docs_expanded_reranking, data_ = run_pipeline(df_corpus_trec_covid,searcher,expanded_corpus_df['id'], expanded_corpus_df['contents'])\n",
        "docs_reranking, data = run_pipeline(expanded_corpus_df,searcher,query_ids, query_texts)"
      ],
      "metadata": {
        "id": "kjaYugW3lfxa"
      },
      "execution_count": null,
      "outputs": []
    },
    {
      "cell_type": "code",
      "source": [
        "ranks = np.arange(1,101)\n",
        "all_ranks = np.tile(ranks,50)\n",
        "\n",
        "df_docs_reranking = pd.DataFrame(docs_reranking,columns=[\"query\",\"docid\",\"score\"])\n",
        "df_docs_reranking['q0'] = \"Q0\"\n",
        "df_docs_reranking[\"rank\"] = all_ranks#.reshape(-1,1)\n",
        "df_docs_reranking[\"system\"] = \"CrossEncoder\"\n",
        "df_docs_reranking = df_docs_reranking[[\"query\",\"q0\",\"docid\",\"rank\",\"score\",\"system\"]]\n",
        "df_docs_reranking.to_csv(f\"{path_data}runs/run.trec-covid.crossEncoder_corpusExpanded.txt\")"
      ],
      "metadata": {
        "id": "xyBf7iKLoJgE"
      },
      "execution_count": 121,
      "outputs": []
    },
    {
      "cell_type": "code",
      "source": [
        "run = df_docs_reranking.to_dict(orient=\"list\")\n",
        "doc2queryndcg = eval_ndcg10(run)\n",
        "doc2queryndcg"
      ],
      "metadata": {
        "id": "0PR2vHxnqAF3",
        "colab": {
          "base_uri": "https://localhost:8080/"
        },
        "outputId": "6f8bcd55-e980-48d1-f73b-a683f68268a3"
      },
      "execution_count": 122,
      "outputs": [
        {
          "output_type": "stream",
          "name": "stderr",
          "text": [
            "/usr/local/lib/python3.10/dist-packages/trectools/trec_eval.py:427: FutureWarning: Not prepending group keys to the result index of transform-like apply. In the future, the group keys will be included in the index, regardless of whether the applied function returns a like-indexed object.\n",
            "To preserve the previous behavior, use\n",
            "\n",
            "\t>>> .groupby(..., group_keys=False)\n",
            "\n",
            "To adopt the future behavior and silence this warning, use \n",
            "\n",
            "\t>>> .groupby(..., group_keys=True)\n",
            "  topX = topX.groupby(\"query\").apply(lambda x: x.head(n_relevant_docs.loc[x.name])).reset_index(drop=True)\n"
          ]
        },
        {
          "output_type": "execute_result",
          "data": {
            "text/plain": [
              "0.7166953809546601"
            ]
          },
          "metadata": {},
          "execution_count": 122
        }
      ]
    },
    {
      "cell_type": "code",
      "source": [
        "!nvidia-smi"
      ],
      "metadata": {
        "colab": {
          "base_uri": "https://localhost:8080/"
        },
        "id": "cr48qpgq27Uj",
        "outputId": "77cd7da8-8570-4bf7-efeb-9dd35854d8f0"
      },
      "execution_count": 125,
      "outputs": [
        {
          "output_type": "stream",
          "name": "stdout",
          "text": [
            "Thu May 11 03:30:13 2023       \n",
            "+-----------------------------------------------------------------------------+\n",
            "| NVIDIA-SMI 525.85.12    Driver Version: 525.85.12    CUDA Version: 12.0     |\n",
            "|-------------------------------+----------------------+----------------------+\n",
            "| GPU  Name        Persistence-M| Bus-Id        Disp.A | Volatile Uncorr. ECC |\n",
            "| Fan  Temp  Perf  Pwr:Usage/Cap|         Memory-Usage | GPU-Util  Compute M. |\n",
            "|                               |                      |               MIG M. |\n",
            "|===============================+======================+======================|\n",
            "|   0  Tesla T4            Off  | 00000000:00:04.0 Off |                    0 |\n",
            "| N/A   77C    P0    32W /  70W |   3321MiB / 15360MiB |      0%      Default |\n",
            "|                               |                      |                  N/A |\n",
            "+-------------------------------+----------------------+----------------------+\n",
            "                                                                               \n",
            "+-----------------------------------------------------------------------------+\n",
            "| Processes:                                                                  |\n",
            "|  GPU   GI   CI        PID   Type   Process name                  GPU Memory |\n",
            "|        ID   ID                                                   Usage      |\n",
            "|=============================================================================|\n",
            "+-----------------------------------------------------------------------------+\n"
          ]
        }
      ]
    },
    {
      "cell_type": "code",
      "source": [
        "with open(f\"{path_data}runs/run.trec-covid.bm25.{model_name}_reranked_st_bl_expanded.trec\", \"w\") as f:\n",
        "    for i, (query_id, passage_id, score) in enumerate(docs_reranking):\n",
        "        f.write(f'{query_id}\\tQ0\\t{passage_id}\\t{i+1}\\t{score}\\t{model_name}_reranked\\n')"
      ],
      "metadata": {
        "id": "MMPAzErdhqfM"
      },
      "execution_count": 123,
      "outputs": []
    },
    {
      "cell_type": "code",
      "source": [
        "!python -m pyserini.eval.trec_eval -c -m map -m recip_rank -m ndcg_cut.10 {path_data}trec-covid/qrels/test_corrigido.tsv {path_data}runs/run.trec-covid.bm25.{model_name}_reranked_st_bl_expanded.trec"
      ],
      "metadata": {
        "colab": {
          "base_uri": "https://localhost:8080/"
        },
        "id": "mVPTGeSoh0M8",
        "outputId": "f3b6b464-9140-42b8-b4f9-61b5f15b90b3"
      },
      "execution_count": 124,
      "outputs": [
        {
          "output_type": "stream",
          "name": "stdout",
          "text": [
            "Downloading https://search.maven.org/remotecontent?filepath=uk/ac/gla/dcs/terrierteam/jtreceval/0.0.5/jtreceval-0.0.5-jar-with-dependencies.jar to /root/.cache/pyserini/eval/jtreceval-0.0.5-jar-with-dependencies.jar...\n",
            "/root/.cache/pyserini/eval/jtreceval-0.0.5-jar-with-dependencies.jar already exists!\n",
            "Skipping download.\n",
            "Running command: ['java', '-jar', '/root/.cache/pyserini/eval/jtreceval-0.0.5-jar-with-dependencies.jar', '-c', '-m', 'map', '-m', 'recip_rank', '-m', 'ndcg_cut.10', './data/trec-covid/qrels/test_corrigido.tsv', './data/runs/run.trec-covid.bm25.ms-marco-MiniLM-L-6-v2_reranked_st_bl_expanded.trec']\n",
            "Results:\n",
            "map                   \tall\t0.0898\n",
            "recip_rank            \tall\t0.9217\n",
            "ndcg_cut_10           \tall\t0.7167\n"
          ]
        }
      ]
    },
    {
      "cell_type": "code",
      "source": [],
      "metadata": {
        "id": "M3m-gJwgLwFf"
      },
      "execution_count": null,
      "outputs": []
    }
  ]
}