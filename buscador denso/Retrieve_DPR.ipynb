{
  "nbformat": 4,
  "nbformat_minor": 0,
  "metadata": {
    "colab": {
      "provenance": []
    },
    "kernelspec": {
      "name": "python3",
      "display_name": "Python 3"
    },
    "language_info": {
      "name": "python"
    },
    "accelerator": "GPU",
    "gpuClass": "standard",
    "widgets": {
      "application/vnd.jupyter.widget-state+json": {
        "4be078698e2d461a814d4c4846fa2ddd": {
          "model_module": "@jupyter-widgets/controls",
          "model_name": "HBoxModel",
          "model_module_version": "1.5.0",
          "state": {
            "_dom_classes": [],
            "_model_module": "@jupyter-widgets/controls",
            "_model_module_version": "1.5.0",
            "_model_name": "HBoxModel",
            "_view_count": null,
            "_view_module": "@jupyter-widgets/controls",
            "_view_module_version": "1.5.0",
            "_view_name": "HBoxView",
            "box_style": "",
            "children": [
              "IPY_MODEL_443e3fbf507347eba75759bcf8491138",
              "IPY_MODEL_bd29dfe9764a4183b6323932dd24ab90",
              "IPY_MODEL_fc71eb7f317c4a23ab51c755095ad9aa"
            ],
            "layout": "IPY_MODEL_bd9f656a4eac44f8893af96a881776b7"
          }
        },
        "443e3fbf507347eba75759bcf8491138": {
          "model_module": "@jupyter-widgets/controls",
          "model_name": "HTMLModel",
          "model_module_version": "1.5.0",
          "state": {
            "_dom_classes": [],
            "_model_module": "@jupyter-widgets/controls",
            "_model_module_version": "1.5.0",
            "_model_name": "HTMLModel",
            "_view_count": null,
            "_view_module": "@jupyter-widgets/controls",
            "_view_module_version": "1.5.0",
            "_view_name": "HTMLView",
            "description": "",
            "description_tooltip": null,
            "layout": "IPY_MODEL_73b503bfde1845f8bdb9e7dcc69bfe51",
            "placeholder": "​",
            "style": "IPY_MODEL_71bd684f917a4002bcb9b622971da8f3",
            "value": "100%"
          }
        },
        "bd29dfe9764a4183b6323932dd24ab90": {
          "model_module": "@jupyter-widgets/controls",
          "model_name": "FloatProgressModel",
          "model_module_version": "1.5.0",
          "state": {
            "_dom_classes": [],
            "_model_module": "@jupyter-widgets/controls",
            "_model_module_version": "1.5.0",
            "_model_name": "FloatProgressModel",
            "_view_count": null,
            "_view_module": "@jupyter-widgets/controls",
            "_view_module_version": "1.5.0",
            "_view_name": "ProgressView",
            "bar_style": "success",
            "description": "",
            "description_tooltip": null,
            "layout": "IPY_MODEL_e65f4d7f906e450f8b702ef04293572c",
            "max": 50,
            "min": 0,
            "orientation": "horizontal",
            "style": "IPY_MODEL_b540d63a5b6143a3822ef1653f02ff1c",
            "value": 50
          }
        },
        "fc71eb7f317c4a23ab51c755095ad9aa": {
          "model_module": "@jupyter-widgets/controls",
          "model_name": "HTMLModel",
          "model_module_version": "1.5.0",
          "state": {
            "_dom_classes": [],
            "_model_module": "@jupyter-widgets/controls",
            "_model_module_version": "1.5.0",
            "_model_name": "HTMLModel",
            "_view_count": null,
            "_view_module": "@jupyter-widgets/controls",
            "_view_module_version": "1.5.0",
            "_view_name": "HTMLView",
            "description": "",
            "description_tooltip": null,
            "layout": "IPY_MODEL_ffae99993c80472c846809b06a3f2066",
            "placeholder": "​",
            "style": "IPY_MODEL_f289fe8363f44ccd89ffdaa2657adb5a",
            "value": " 50/50 [00:01&lt;00:00, 53.76it/s]"
          }
        },
        "bd9f656a4eac44f8893af96a881776b7": {
          "model_module": "@jupyter-widgets/base",
          "model_name": "LayoutModel",
          "model_module_version": "1.2.0",
          "state": {
            "_model_module": "@jupyter-widgets/base",
            "_model_module_version": "1.2.0",
            "_model_name": "LayoutModel",
            "_view_count": null,
            "_view_module": "@jupyter-widgets/base",
            "_view_module_version": "1.2.0",
            "_view_name": "LayoutView",
            "align_content": null,
            "align_items": null,
            "align_self": null,
            "border": null,
            "bottom": null,
            "display": null,
            "flex": null,
            "flex_flow": null,
            "grid_area": null,
            "grid_auto_columns": null,
            "grid_auto_flow": null,
            "grid_auto_rows": null,
            "grid_column": null,
            "grid_gap": null,
            "grid_row": null,
            "grid_template_areas": null,
            "grid_template_columns": null,
            "grid_template_rows": null,
            "height": null,
            "justify_content": null,
            "justify_items": null,
            "left": null,
            "margin": null,
            "max_height": null,
            "max_width": null,
            "min_height": null,
            "min_width": null,
            "object_fit": null,
            "object_position": null,
            "order": null,
            "overflow": null,
            "overflow_x": null,
            "overflow_y": null,
            "padding": null,
            "right": null,
            "top": null,
            "visibility": null,
            "width": null
          }
        },
        "73b503bfde1845f8bdb9e7dcc69bfe51": {
          "model_module": "@jupyter-widgets/base",
          "model_name": "LayoutModel",
          "model_module_version": "1.2.0",
          "state": {
            "_model_module": "@jupyter-widgets/base",
            "_model_module_version": "1.2.0",
            "_model_name": "LayoutModel",
            "_view_count": null,
            "_view_module": "@jupyter-widgets/base",
            "_view_module_version": "1.2.0",
            "_view_name": "LayoutView",
            "align_content": null,
            "align_items": null,
            "align_self": null,
            "border": null,
            "bottom": null,
            "display": null,
            "flex": null,
            "flex_flow": null,
            "grid_area": null,
            "grid_auto_columns": null,
            "grid_auto_flow": null,
            "grid_auto_rows": null,
            "grid_column": null,
            "grid_gap": null,
            "grid_row": null,
            "grid_template_areas": null,
            "grid_template_columns": null,
            "grid_template_rows": null,
            "height": null,
            "justify_content": null,
            "justify_items": null,
            "left": null,
            "margin": null,
            "max_height": null,
            "max_width": null,
            "min_height": null,
            "min_width": null,
            "object_fit": null,
            "object_position": null,
            "order": null,
            "overflow": null,
            "overflow_x": null,
            "overflow_y": null,
            "padding": null,
            "right": null,
            "top": null,
            "visibility": null,
            "width": null
          }
        },
        "71bd684f917a4002bcb9b622971da8f3": {
          "model_module": "@jupyter-widgets/controls",
          "model_name": "DescriptionStyleModel",
          "model_module_version": "1.5.0",
          "state": {
            "_model_module": "@jupyter-widgets/controls",
            "_model_module_version": "1.5.0",
            "_model_name": "DescriptionStyleModel",
            "_view_count": null,
            "_view_module": "@jupyter-widgets/base",
            "_view_module_version": "1.2.0",
            "_view_name": "StyleView",
            "description_width": ""
          }
        },
        "e65f4d7f906e450f8b702ef04293572c": {
          "model_module": "@jupyter-widgets/base",
          "model_name": "LayoutModel",
          "model_module_version": "1.2.0",
          "state": {
            "_model_module": "@jupyter-widgets/base",
            "_model_module_version": "1.2.0",
            "_model_name": "LayoutModel",
            "_view_count": null,
            "_view_module": "@jupyter-widgets/base",
            "_view_module_version": "1.2.0",
            "_view_name": "LayoutView",
            "align_content": null,
            "align_items": null,
            "align_self": null,
            "border": null,
            "bottom": null,
            "display": null,
            "flex": null,
            "flex_flow": null,
            "grid_area": null,
            "grid_auto_columns": null,
            "grid_auto_flow": null,
            "grid_auto_rows": null,
            "grid_column": null,
            "grid_gap": null,
            "grid_row": null,
            "grid_template_areas": null,
            "grid_template_columns": null,
            "grid_template_rows": null,
            "height": null,
            "justify_content": null,
            "justify_items": null,
            "left": null,
            "margin": null,
            "max_height": null,
            "max_width": null,
            "min_height": null,
            "min_width": null,
            "object_fit": null,
            "object_position": null,
            "order": null,
            "overflow": null,
            "overflow_x": null,
            "overflow_y": null,
            "padding": null,
            "right": null,
            "top": null,
            "visibility": null,
            "width": null
          }
        },
        "b540d63a5b6143a3822ef1653f02ff1c": {
          "model_module": "@jupyter-widgets/controls",
          "model_name": "ProgressStyleModel",
          "model_module_version": "1.5.0",
          "state": {
            "_model_module": "@jupyter-widgets/controls",
            "_model_module_version": "1.5.0",
            "_model_name": "ProgressStyleModel",
            "_view_count": null,
            "_view_module": "@jupyter-widgets/base",
            "_view_module_version": "1.2.0",
            "_view_name": "StyleView",
            "bar_color": null,
            "description_width": ""
          }
        },
        "ffae99993c80472c846809b06a3f2066": {
          "model_module": "@jupyter-widgets/base",
          "model_name": "LayoutModel",
          "model_module_version": "1.2.0",
          "state": {
            "_model_module": "@jupyter-widgets/base",
            "_model_module_version": "1.2.0",
            "_model_name": "LayoutModel",
            "_view_count": null,
            "_view_module": "@jupyter-widgets/base",
            "_view_module_version": "1.2.0",
            "_view_name": "LayoutView",
            "align_content": null,
            "align_items": null,
            "align_self": null,
            "border": null,
            "bottom": null,
            "display": null,
            "flex": null,
            "flex_flow": null,
            "grid_area": null,
            "grid_auto_columns": null,
            "grid_auto_flow": null,
            "grid_auto_rows": null,
            "grid_column": null,
            "grid_gap": null,
            "grid_row": null,
            "grid_template_areas": null,
            "grid_template_columns": null,
            "grid_template_rows": null,
            "height": null,
            "justify_content": null,
            "justify_items": null,
            "left": null,
            "margin": null,
            "max_height": null,
            "max_width": null,
            "min_height": null,
            "min_width": null,
            "object_fit": null,
            "object_position": null,
            "order": null,
            "overflow": null,
            "overflow_x": null,
            "overflow_y": null,
            "padding": null,
            "right": null,
            "top": null,
            "visibility": null,
            "width": null
          }
        },
        "f289fe8363f44ccd89ffdaa2657adb5a": {
          "model_module": "@jupyter-widgets/controls",
          "model_name": "DescriptionStyleModel",
          "model_module_version": "1.5.0",
          "state": {
            "_model_module": "@jupyter-widgets/controls",
            "_model_module_version": "1.5.0",
            "_model_name": "DescriptionStyleModel",
            "_view_count": null,
            "_view_module": "@jupyter-widgets/base",
            "_view_module_version": "1.2.0",
            "_view_name": "StyleView",
            "description_width": ""
          }
        },
        "61ac3ba15aab4c498469a05d55d6af42": {
          "model_module": "@jupyter-widgets/controls",
          "model_name": "HBoxModel",
          "model_module_version": "1.5.0",
          "state": {
            "_dom_classes": [],
            "_model_module": "@jupyter-widgets/controls",
            "_model_module_version": "1.5.0",
            "_model_name": "HBoxModel",
            "_view_count": null,
            "_view_module": "@jupyter-widgets/controls",
            "_view_module_version": "1.5.0",
            "_view_name": "HBoxView",
            "box_style": "",
            "children": [
              "IPY_MODEL_31faa1784dec4c07a747db6d9a6b34a4",
              "IPY_MODEL_adb093b5b3834ca6955ff233e7762986",
              "IPY_MODEL_c793b2aa3ab242868ea351aebef800c8"
            ],
            "layout": "IPY_MODEL_a3104f88c84b4722a54652cec128305e"
          }
        },
        "31faa1784dec4c07a747db6d9a6b34a4": {
          "model_module": "@jupyter-widgets/controls",
          "model_name": "HTMLModel",
          "model_module_version": "1.5.0",
          "state": {
            "_dom_classes": [],
            "_model_module": "@jupyter-widgets/controls",
            "_model_module_version": "1.5.0",
            "_model_name": "HTMLModel",
            "_view_count": null,
            "_view_module": "@jupyter-widgets/controls",
            "_view_module_version": "1.5.0",
            "_view_name": "HTMLView",
            "description": "",
            "description_tooltip": null,
            "layout": "IPY_MODEL_b1888a032ce24b0fb7cf227d24716eca",
            "placeholder": "​",
            "style": "IPY_MODEL_99eb639191e641ed8b5381c8a96a6cd9",
            "value": "100%"
          }
        },
        "adb093b5b3834ca6955ff233e7762986": {
          "model_module": "@jupyter-widgets/controls",
          "model_name": "FloatProgressModel",
          "model_module_version": "1.5.0",
          "state": {
            "_dom_classes": [],
            "_model_module": "@jupyter-widgets/controls",
            "_model_module_version": "1.5.0",
            "_model_name": "FloatProgressModel",
            "_view_count": null,
            "_view_module": "@jupyter-widgets/controls",
            "_view_module_version": "1.5.0",
            "_view_name": "ProgressView",
            "bar_style": "success",
            "description": "",
            "description_tooltip": null,
            "layout": "IPY_MODEL_17beeccac8f34dd3b1cbd41d9a1e46d6",
            "max": 171332,
            "min": 0,
            "orientation": "horizontal",
            "style": "IPY_MODEL_99d2c4f6bc6f45efb56fdf110ce4987f",
            "value": 171332
          }
        },
        "c793b2aa3ab242868ea351aebef800c8": {
          "model_module": "@jupyter-widgets/controls",
          "model_name": "HTMLModel",
          "model_module_version": "1.5.0",
          "state": {
            "_dom_classes": [],
            "_model_module": "@jupyter-widgets/controls",
            "_model_module_version": "1.5.0",
            "_model_name": "HTMLModel",
            "_view_count": null,
            "_view_module": "@jupyter-widgets/controls",
            "_view_module_version": "1.5.0",
            "_view_name": "HTMLView",
            "description": "",
            "description_tooltip": null,
            "layout": "IPY_MODEL_bd0f3034c8b34e4688394eed51cfecb1",
            "placeholder": "​",
            "style": "IPY_MODEL_c3ea204c67294270b7ea157cc5c6908f",
            "value": " 171332/171332 [41:40&lt;00:00, 84.09it/s]"
          }
        },
        "a3104f88c84b4722a54652cec128305e": {
          "model_module": "@jupyter-widgets/base",
          "model_name": "LayoutModel",
          "model_module_version": "1.2.0",
          "state": {
            "_model_module": "@jupyter-widgets/base",
            "_model_module_version": "1.2.0",
            "_model_name": "LayoutModel",
            "_view_count": null,
            "_view_module": "@jupyter-widgets/base",
            "_view_module_version": "1.2.0",
            "_view_name": "LayoutView",
            "align_content": null,
            "align_items": null,
            "align_self": null,
            "border": null,
            "bottom": null,
            "display": null,
            "flex": null,
            "flex_flow": null,
            "grid_area": null,
            "grid_auto_columns": null,
            "grid_auto_flow": null,
            "grid_auto_rows": null,
            "grid_column": null,
            "grid_gap": null,
            "grid_row": null,
            "grid_template_areas": null,
            "grid_template_columns": null,
            "grid_template_rows": null,
            "height": null,
            "justify_content": null,
            "justify_items": null,
            "left": null,
            "margin": null,
            "max_height": null,
            "max_width": null,
            "min_height": null,
            "min_width": null,
            "object_fit": null,
            "object_position": null,
            "order": null,
            "overflow": null,
            "overflow_x": null,
            "overflow_y": null,
            "padding": null,
            "right": null,
            "top": null,
            "visibility": null,
            "width": null
          }
        },
        "b1888a032ce24b0fb7cf227d24716eca": {
          "model_module": "@jupyter-widgets/base",
          "model_name": "LayoutModel",
          "model_module_version": "1.2.0",
          "state": {
            "_model_module": "@jupyter-widgets/base",
            "_model_module_version": "1.2.0",
            "_model_name": "LayoutModel",
            "_view_count": null,
            "_view_module": "@jupyter-widgets/base",
            "_view_module_version": "1.2.0",
            "_view_name": "LayoutView",
            "align_content": null,
            "align_items": null,
            "align_self": null,
            "border": null,
            "bottom": null,
            "display": null,
            "flex": null,
            "flex_flow": null,
            "grid_area": null,
            "grid_auto_columns": null,
            "grid_auto_flow": null,
            "grid_auto_rows": null,
            "grid_column": null,
            "grid_gap": null,
            "grid_row": null,
            "grid_template_areas": null,
            "grid_template_columns": null,
            "grid_template_rows": null,
            "height": null,
            "justify_content": null,
            "justify_items": null,
            "left": null,
            "margin": null,
            "max_height": null,
            "max_width": null,
            "min_height": null,
            "min_width": null,
            "object_fit": null,
            "object_position": null,
            "order": null,
            "overflow": null,
            "overflow_x": null,
            "overflow_y": null,
            "padding": null,
            "right": null,
            "top": null,
            "visibility": null,
            "width": null
          }
        },
        "99eb639191e641ed8b5381c8a96a6cd9": {
          "model_module": "@jupyter-widgets/controls",
          "model_name": "DescriptionStyleModel",
          "model_module_version": "1.5.0",
          "state": {
            "_model_module": "@jupyter-widgets/controls",
            "_model_module_version": "1.5.0",
            "_model_name": "DescriptionStyleModel",
            "_view_count": null,
            "_view_module": "@jupyter-widgets/base",
            "_view_module_version": "1.2.0",
            "_view_name": "StyleView",
            "description_width": ""
          }
        },
        "17beeccac8f34dd3b1cbd41d9a1e46d6": {
          "model_module": "@jupyter-widgets/base",
          "model_name": "LayoutModel",
          "model_module_version": "1.2.0",
          "state": {
            "_model_module": "@jupyter-widgets/base",
            "_model_module_version": "1.2.0",
            "_model_name": "LayoutModel",
            "_view_count": null,
            "_view_module": "@jupyter-widgets/base",
            "_view_module_version": "1.2.0",
            "_view_name": "LayoutView",
            "align_content": null,
            "align_items": null,
            "align_self": null,
            "border": null,
            "bottom": null,
            "display": null,
            "flex": null,
            "flex_flow": null,
            "grid_area": null,
            "grid_auto_columns": null,
            "grid_auto_flow": null,
            "grid_auto_rows": null,
            "grid_column": null,
            "grid_gap": null,
            "grid_row": null,
            "grid_template_areas": null,
            "grid_template_columns": null,
            "grid_template_rows": null,
            "height": null,
            "justify_content": null,
            "justify_items": null,
            "left": null,
            "margin": null,
            "max_height": null,
            "max_width": null,
            "min_height": null,
            "min_width": null,
            "object_fit": null,
            "object_position": null,
            "order": null,
            "overflow": null,
            "overflow_x": null,
            "overflow_y": null,
            "padding": null,
            "right": null,
            "top": null,
            "visibility": null,
            "width": null
          }
        },
        "99d2c4f6bc6f45efb56fdf110ce4987f": {
          "model_module": "@jupyter-widgets/controls",
          "model_name": "ProgressStyleModel",
          "model_module_version": "1.5.0",
          "state": {
            "_model_module": "@jupyter-widgets/controls",
            "_model_module_version": "1.5.0",
            "_model_name": "ProgressStyleModel",
            "_view_count": null,
            "_view_module": "@jupyter-widgets/base",
            "_view_module_version": "1.2.0",
            "_view_name": "StyleView",
            "bar_color": null,
            "description_width": ""
          }
        },
        "bd0f3034c8b34e4688394eed51cfecb1": {
          "model_module": "@jupyter-widgets/base",
          "model_name": "LayoutModel",
          "model_module_version": "1.2.0",
          "state": {
            "_model_module": "@jupyter-widgets/base",
            "_model_module_version": "1.2.0",
            "_model_name": "LayoutModel",
            "_view_count": null,
            "_view_module": "@jupyter-widgets/base",
            "_view_module_version": "1.2.0",
            "_view_name": "LayoutView",
            "align_content": null,
            "align_items": null,
            "align_self": null,
            "border": null,
            "bottom": null,
            "display": null,
            "flex": null,
            "flex_flow": null,
            "grid_area": null,
            "grid_auto_columns": null,
            "grid_auto_flow": null,
            "grid_auto_rows": null,
            "grid_column": null,
            "grid_gap": null,
            "grid_row": null,
            "grid_template_areas": null,
            "grid_template_columns": null,
            "grid_template_rows": null,
            "height": null,
            "justify_content": null,
            "justify_items": null,
            "left": null,
            "margin": null,
            "max_height": null,
            "max_width": null,
            "min_height": null,
            "min_width": null,
            "object_fit": null,
            "object_position": null,
            "order": null,
            "overflow": null,
            "overflow_x": null,
            "overflow_y": null,
            "padding": null,
            "right": null,
            "top": null,
            "visibility": null,
            "width": null
          }
        },
        "c3ea204c67294270b7ea157cc5c6908f": {
          "model_module": "@jupyter-widgets/controls",
          "model_name": "DescriptionStyleModel",
          "model_module_version": "1.5.0",
          "state": {
            "_model_module": "@jupyter-widgets/controls",
            "_model_module_version": "1.5.0",
            "_model_name": "DescriptionStyleModel",
            "_view_count": null,
            "_view_module": "@jupyter-widgets/base",
            "_view_module_version": "1.2.0",
            "_view_name": "StyleView",
            "description_width": ""
          }
        }
      }
    }
  },
  "cells": [
    {
      "cell_type": "code",
      "source": [
        "!pip install transformers -q\n",
        "!pip install faiss-gpu -q\n",
        "!pip install -q ftfy\n",
        "!pip install pyserini -q"
      ],
      "metadata": {
        "id": "mfzTif2at9eV"
      },
      "execution_count": 1,
      "outputs": []
    },
    {
      "cell_type": "code",
      "execution_count": 2,
      "metadata": {
        "id": "4MaKIchGtj1F"
      },
      "outputs": [],
      "source": [
        "import os\n",
        "os.chdir('/content/drive/MyDrive/doutorado/P_IA368DD_2023S/aula6')\n",
        "\n",
        "\n",
        "import pandas as pd\n",
        "import numpy as np\n",
        "from pathlib import Path\n",
        "from tqdm.auto import tqdm\n",
        "\n",
        "import json\n",
        "import pickle\n",
        "\n",
        "import gc\n",
        "\n",
        "import faiss"
      ]
    },
    {
      "cell_type": "code",
      "source": [
        "import torch\n",
        "\n",
        "from transformers import AutoTokenizer,  AutoModel"
      ],
      "metadata": {
        "id": "LgZ8lAYDe0M3"
      },
      "execution_count": 3,
      "outputs": []
    },
    {
      "cell_type": "code",
      "source": [
        "if not os.path.exists(\"pyserini\"):\n",
        "    os.environ[\"JAVA_HOME\"] = \"/usr/lib/jvm/java-11-openjdk-amd64\"\n",
        "\n",
        "    !pip install pyserini -q\n",
        "    !git clone --recurse-submodules https://github.com/castorini/pyserini.git\n",
        "    !cd pyserini\n",
        "    !cd tools/eval && tar xvfz trec_eval.9.0.4.tar.gz && cd trec_eval.9.0.4 && make && cd ../../..\n",
        "    !cd tools/eval/ndeval && make && cd ../../..\n",
        "else:\n",
        "    !chmod +x pyserini/tools/eval/trec_eval.9.0.4/trec_eval\n",
        "\n",
        "    print(\"Pyserini already installed...\")"
      ],
      "metadata": {
        "colab": {
          "base_uri": "https://localhost:8080/"
        },
        "id": "6uMqNv6StzVf",
        "outputId": "5b701da4-805a-488d-c6e5-eccf4b5d7f7d"
      },
      "execution_count": 4,
      "outputs": [
        {
          "output_type": "stream",
          "name": "stdout",
          "text": [
            "chmod: cannot access 'pyserini/tools/eval/trec_eval.9.0.4/trec_eval': No such file or directory\n",
            "Pyserini already installed...\n"
          ]
        }
      ]
    },
    {
      "cell_type": "code",
      "source": [
        "device = torch.device('cuda' if torch.cuda.is_available() else 'cpu')\n",
        "MODEL_NAME = 'microsoft/MiniLM-L12-H384-uncased'"
      ],
      "metadata": {
        "id": "uWknYup7t633"
      },
      "execution_count": 5,
      "outputs": []
    },
    {
      "cell_type": "code",
      "source": [
        "%%markdown\n",
        "# Download and prepare validation dataset (trec-covid)"
      ],
      "metadata": {
        "colab": {
          "base_uri": "https://localhost:8080/",
          "height": 74
        },
        "id": "16yJfOamwDDU",
        "outputId": "4feeccdd-3223-4732-b1ad-14c4ed2ab795"
      },
      "execution_count": 6,
      "outputs": [
        {
          "output_type": "display_data",
          "data": {
            "text/plain": [
              "<IPython.core.display.Markdown object>"
            ],
            "text/markdown": "# Download and prepare validation dataset (trec-covid)\n"
          },
          "metadata": {}
        }
      ]
    },
    {
      "cell_type": "code",
      "source": [
        "url_trec_covid = 'https://public.ukp.informatik.tu-darmstadt.de/thakur/BEIR/datasets/trec-covid.zip'\n",
        "if not Path('./data/trec-covid.zip').is_file():\n",
        "  !wget {url_trec_covid} -P data/ # type: ignore\n",
        "  !unzip -o collections/trec-covid.zip -d ./data # type: ignore\n",
        "\n",
        "# Converte o qrels que veio no trec-covid.zip pra o formato esperado:\n",
        "with open('./data/trec-covid/qrels/test.tsv', 'r') as fin:\n",
        "  data = fin.read().splitlines(True)\n",
        "with open('./data/trec-covid/qrels/test_corrigido.tsv', 'w') as fout:\n",
        "  for linha in data[1:]:\n",
        "    campos = linha.split()\n",
        "    fout.write(f'{campos[0]}\\t0\\t{campos[1]}\\t{campos[2]}\\n')"
      ],
      "metadata": {
        "id": "SsOG69gHwJqu"
      },
      "execution_count": 7,
      "outputs": []
    },
    {
      "cell_type": "code",
      "source": [
        "def load_queries():\n",
        "  if not Path(\"./data/trec-covid/queries.csv\").is_file():\n",
        "\n",
        "    topics = []\n",
        "    with open(\"./data/trec-covid/queries.jsonl\", \"r\") as fin:\n",
        "      for line in fin:\n",
        "        query = json.loads(line)\n",
        "        topics.append((query[\"_id\"], query[\"text\"]))\n",
        "    topics_df = pd.DataFrame(topics,columns=[\"id\",\"text\"])\n",
        "    topics_df.to_csv(\"./data/trec-covid/queries.csv\",index=False)\n",
        "  else:\n",
        "    aux = pd.read_csv(\"./data/trec-covid/queries.csv\")\n",
        "    topics = aux.values.tolist()\n",
        "  return topics\n",
        "\n",
        "def load_corpus():\n",
        "  corpus = {}\n",
        "  #with open(\"TREC_COVID_2020/corpus_original/corpus_original.jsonl\", \"w\") as fout:\n",
        "  with open(\"./data/trec-covid/corpus.jsonl\", \"r\") as fin:\n",
        "    for line in fin:\n",
        "      doc = json.loads(line)\n",
        "      corpus[doc[\"_id\"]] = f\"{doc['title']}. {doc['text']}\"\n",
        "      \n",
        "  return corpus\n",
        "  #fout.write(json.dumps(doc_dict) + \"\\n\")"
      ],
      "metadata": {
        "id": "iiLEGl1MxYq7"
      },
      "execution_count": 8,
      "outputs": []
    },
    {
      "cell_type": "code",
      "source": [
        "corpus = load_corpus()\n",
        "topics = load_queries()"
      ],
      "metadata": {
        "id": "yPb6VO_W-FKd"
      },
      "execution_count": 9,
      "outputs": []
    },
    {
      "cell_type": "code",
      "source": [
        "%%markdown\n",
        "# Geração de embeddings"
      ],
      "metadata": {
        "colab": {
          "base_uri": "https://localhost:8080/",
          "height": 74
        },
        "id": "xf4kL2VBA1bx",
        "outputId": "1894f789-fcc3-4fa8-f190-b052a5eaf8b6"
      },
      "execution_count": 10,
      "outputs": [
        {
          "output_type": "display_data",
          "data": {
            "text/plain": [
              "<IPython.core.display.Markdown object>"
            ],
            "text/markdown": "# Geração de embeddings\n"
          },
          "metadata": {}
        }
      ]
    },
    {
      "cell_type": "code",
      "source": [
        "def generate_embeddings(model,tokenizer, sentence,device):\n",
        "  # Tokenize sentences\n",
        "  #encoded_input = tokenizer(sentence, padding=True, truncation=True, return_tensors='pt')\n",
        "  encoded_input = tokenizer(sentence,return_length=False,return_tensors='pt', truncation=True,max_length=512)\n",
        "  encoded_input = {key: value.to(device) for key, value in encoded_input.items()}\n",
        "  with torch.no_grad():\n",
        "        # Desativa o cálculo de gradientes para economizar memória e acelerar a inferência\n",
        "        model_output = model(**encoded_input)\n",
        "        # Passa os inputs tokenizados para o modelo e obtém a saída do modelo\n",
        "  embeddings = model_output.last_hidden_state[:, 0, :].cpu().numpy()# to('cpu').numpy()\n",
        "  return embeddings"
      ],
      "metadata": {
        "id": "5YhxROeteWvs"
      },
      "execution_count": 11,
      "outputs": []
    },
    {
      "cell_type": "code",
      "source": [
        "%%markdown\n",
        "## Gerando enconding para queries"
      ],
      "metadata": {
        "colab": {
          "base_uri": "https://localhost:8080/",
          "height": 64
        },
        "id": "oUY57Sj3gkNH",
        "outputId": "d0d29756-1198-4ae7-a2f5-683598e8cb74"
      },
      "execution_count": 12,
      "outputs": [
        {
          "output_type": "display_data",
          "data": {
            "text/plain": [
              "<IPython.core.display.Markdown object>"
            ],
            "text/markdown": "## Gerando enconding para queries\n"
          },
          "metadata": {}
        }
      ]
    },
    {
      "cell_type": "code",
      "source": [
        "def generate_encode(model_name,topics,corpus,tokenizer_name=\"microsoft/MiniLM-L12-H384-uncased\",device=device):\n",
        "    # Load model from HuggingFace Hub\n",
        "  tokenizer = AutoTokenizer.from_pretrained(tokenizer_name)\n",
        "  passages_model = AutoModel.from_pretrained(os.path.join(\"fine_tuned/checkpoints_seiti_loss\", \"checkpoint_epoch_2_loss_0.2808033227920532\", \"_passages\")).to(device)\n",
        "  queries_model = AutoModel.from_pretrained(os.path.join(\"fine_tuned/checkpoints_seiti_loss\", \"checkpoint_epoch_2_loss_0.2808033227920532\", \"_topics\")).to(device)\n",
        "\n",
        "  #%%time\n",
        "  queries_encoded = {}\n",
        "  queries_encoded_ids = []\n",
        "  queries_encoded_list = []\n",
        "  for id, value in tqdm(topics):\n",
        "      encoded_text = generate_embeddings(queries_model, tokenizer, [value], device)#[0]\n",
        "      queries_encoded_list.append(encoded_text)\n",
        "      queries_encoded_ids.append(id)\n",
        "      queries_encoded[id] = encoded_text\n",
        "\n",
        "  corpus_encoded = {}\n",
        "  corpus_encoded_ids = []\n",
        "  corpus_encoded_list = []\n",
        "  for corpo_id in tqdm(corpus):\n",
        "      encoded_text = generate_embeddings(passages_model, tokenizer, [corpus[corpo_id]], device)\n",
        "      corpus_encoded_list.append(encoded_text)\n",
        "      corpus_encoded_ids.append(corpo_id)\n",
        "      corpus_encoded[corpo_id] = encoded_text\n",
        "\n",
        "  save_model_name = model_name.split(\"/\")[-1]\n",
        "  with open(f\"./encodeds/{save_model_name}_data_index_checkpoints_seiti_loss.pickle\", 'wb') as outputFile:\n",
        "    pickle.dump({'queries_encoded': queries_encoded,\n",
        "                 'corpus_encoded': corpus_encoded}, outputFile, pickle.HIGHEST_PROTOCOL)\n",
        "  #print(len(queries_encoded_ids))\n",
        "  #print(len(queries_encoded_list))\n",
        "  #print(len(corpus_encoded_ids))\n",
        "  #print(len(corpus_encoded_list))\n",
        "  return (queries_encoded_ids,\n",
        "          np.concatenate(queries_encoded_list, axis=0),\n",
        "          corpus_encoded_ids,\n",
        "          np.concatenate(corpus_encoded_list, axis=0)\n",
        "          )\n",
        "  #return queries_encoded, corpus_encoded #np.concatenate(queries_encoded_list, axis=0), np.concatenate(corpus_encoded_list, axis=0)"
      ],
      "metadata": {
        "id": "7GfRdMb2kV8Q"
      },
      "execution_count": 13,
      "outputs": []
    },
    {
      "cell_type": "code",
      "source": [
        "MODEL_NAME = 'microsoft/MiniLM-L12-H384-uncased'\n",
        "queries_encoded_ids, queries_encoded_list,corpus_encoded_ids,corpus_encoded_list = generate_encode(MODEL_NAME, topics, corpus,device=device)\n",
        "#queries_encoded_ids, queries_encoded_list,corpus_encoded_ids,corpus_encoded_list = generate_encode(MODEL_NAME, topics[:50], out,tokenizer_name=MODEL_NAME,device=device)"
      ],
      "metadata": {
        "colab": {
          "base_uri": "https://localhost:8080/",
          "height": 81,
          "referenced_widgets": [
            "4be078698e2d461a814d4c4846fa2ddd",
            "443e3fbf507347eba75759bcf8491138",
            "bd29dfe9764a4183b6323932dd24ab90",
            "fc71eb7f317c4a23ab51c755095ad9aa",
            "bd9f656a4eac44f8893af96a881776b7",
            "73b503bfde1845f8bdb9e7dcc69bfe51",
            "71bd684f917a4002bcb9b622971da8f3",
            "e65f4d7f906e450f8b702ef04293572c",
            "b540d63a5b6143a3822ef1653f02ff1c",
            "ffae99993c80472c846809b06a3f2066",
            "f289fe8363f44ccd89ffdaa2657adb5a",
            "61ac3ba15aab4c498469a05d55d6af42",
            "31faa1784dec4c07a747db6d9a6b34a4",
            "adb093b5b3834ca6955ff233e7762986",
            "c793b2aa3ab242868ea351aebef800c8",
            "a3104f88c84b4722a54652cec128305e",
            "b1888a032ce24b0fb7cf227d24716eca",
            "99eb639191e641ed8b5381c8a96a6cd9",
            "17beeccac8f34dd3b1cbd41d9a1e46d6",
            "99d2c4f6bc6f45efb56fdf110ce4987f",
            "bd0f3034c8b34e4688394eed51cfecb1",
            "c3ea204c67294270b7ea157cc5c6908f"
          ]
        },
        "id": "AJGRvzdOmo6c",
        "outputId": "ba9cf754-f9ac-41b8-c4b7-1188da4e3434"
      },
      "execution_count": 14,
      "outputs": [
        {
          "output_type": "display_data",
          "data": {
            "text/plain": [
              "  0%|          | 0/50 [00:00<?, ?it/s]"
            ],
            "application/vnd.jupyter.widget-view+json": {
              "version_major": 2,
              "version_minor": 0,
              "model_id": "4be078698e2d461a814d4c4846fa2ddd"
            }
          },
          "metadata": {}
        },
        {
          "output_type": "display_data",
          "data": {
            "text/plain": [
              "  0%|          | 0/171332 [00:00<?, ?it/s]"
            ],
            "application/vnd.jupyter.widget-view+json": {
              "version_major": 2,
              "version_minor": 0,
              "model_id": "61ac3ba15aab4c498469a05d55d6af42"
            }
          },
          "metadata": {}
        }
      ]
    },
    {
      "cell_type": "code",
      "source": [
        "%%markdown\n",
        "## create an search index"
      ],
      "metadata": {
        "colab": {
          "base_uri": "https://localhost:8080/",
          "height": 64
        },
        "id": "GaAOFuNqh3tK",
        "outputId": "5f292393-518d-4cb8-f34b-9000c4cd01af"
      },
      "execution_count": 15,
      "outputs": [
        {
          "output_type": "display_data",
          "data": {
            "text/plain": [
              "<IPython.core.display.Markdown object>"
            ],
            "text/markdown": "## create an search index\n"
          },
          "metadata": {}
        }
      ]
    },
    {
      "cell_type": "code",
      "source": [
        "corpus_index = faiss.IndexFlatIP(384)\n",
        "corpus_index.add(corpus_encoded_list)\n",
        "score_search_results, index_search_results = corpus_index.search(queries_encoded_list, 1000)"
      ],
      "metadata": {
        "id": "Trod-b5NrZA7"
      },
      "execution_count": 92,
      "outputs": []
    },
    {
      "cell_type": "code",
      "source": [
        "def trec_run(save_path, \n",
        "             score_search_results,index_search_results, \n",
        "             queries_encoded_ids, queries_encoded_list,\n",
        "             corpus_encoded_ids):\n",
        "  with open(save_path, 'w') as outputFile:\n",
        "    for query_index, query_scores in enumerate(score_search_results):\n",
        "      document_descending_order = np.argsort(query_scores)[::-1]\n",
        "      tokenized_documents_ordered_indexes = index_search_results[query_index][document_descending_order]\n",
        "      corpus_encoded_ids = np.array(corpus_encoded_ids)\n",
        "      original_documents_ordered_indexes = tokenized_documents_ordered_indexes\n",
        "\n",
        "      remaining_query_scores = []\n",
        "      remaining_original_documents_indexes = []\n",
        "      \n",
        "      \"\"\"doc_counts = np.unique(original_documents_ordered_indexes, return_counts=True)\n",
        "      if np.sum(doc_counts[1] > 1) > 0:\n",
        "        for document_index, document_count in zip(doc_counts[0], doc_counts[1]):\n",
        "          document_pos = np.where(original_documents_ordered_indexes == document_index)[0]\n",
        "          if document_count > 1:\n",
        "            remaining_query_scores.append(np.mean(query_scores[document_descending_order[document_pos]]))\n",
        "          else:\n",
        "            remaining_query_scores.append(query_scores[document_descending_order[document_pos]][0])\n",
        "          remaining_original_documents_indexes.append(document_index)\n",
        "\n",
        "        query_scores = remaining_query_scores\n",
        "        document_descending_order = np.argsort(remaining_query_scores)[::-1]\n",
        "        original_documents_ordered_indexes = np.array(remaining_original_documents_indexes)[document_descending_order]\"\"\"\n",
        "\n",
        "\n",
        "      included_docs = set()\n",
        "      for i, document_index in enumerate(original_documents_ordered_indexes):\n",
        "        if document_index not in included_docs:\n",
        "          included_docs.add(document_index)\n",
        "          outputFile.write(f\"{queries_encoded_ids[query_index]}\\tQ0\\t{corpus_encoded_ids[document_index]}\\t{i+1}\\t{query_scores[document_descending_order][i]}\\tcheckpoints_seiti_loss\\n\")"
      ],
      "metadata": {
        "id": "fkl_KktG0kf1"
      },
      "execution_count": 93,
      "outputs": []
    },
    {
      "cell_type": "code",
      "source": [
        "trec_run(save_path = 'runs/checkpoints_seiti_loss.tsv',\n",
        "         score_search_results = score_search_results, index_search_results= index_search_results,\n",
        "         queries_encoded_ids = queries_encoded_ids, queries_encoded_list = queries_encoded_list,\n",
        "         corpus_encoded_ids = corpus_encoded_ids)"
      ],
      "metadata": {
        "id": "6OcsOoAe89Wn"
      },
      "execution_count": 94,
      "outputs": []
    },
    {
      "cell_type": "code",
      "source": [
        "!python -m pyserini.eval.trec_eval -c -mrecall.1000 -mmap -mndcg_cut.10 -mrecip_rank.100 data/trec-covid/qrels/test_corrigido.tsv runs/checkpoints_seiti_loss.tsv"
      ],
      "metadata": {
        "colab": {
          "base_uri": "https://localhost:8080/"
        },
        "id": "w6O3v_-t-Dob",
        "outputId": "0928fc69-d54d-42dc-a96a-7ec2cf94df65"
      },
      "execution_count": 95,
      "outputs": [
        {
          "output_type": "stream",
          "name": "stdout",
          "text": [
            "Downloading https://search.maven.org/remotecontent?filepath=uk/ac/gla/dcs/terrierteam/jtreceval/0.0.5/jtreceval-0.0.5-jar-with-dependencies.jar to /root/.cache/pyserini/eval/jtreceval-0.0.5-jar-with-dependencies.jar...\n",
            "/root/.cache/pyserini/eval/jtreceval-0.0.5-jar-with-dependencies.jar already exists!\n",
            "Skipping download.\n",
            "Running command: ['java', '-jar', '/root/.cache/pyserini/eval/jtreceval-0.0.5-jar-with-dependencies.jar', '-c', '-mrecall.1000', '-mmap', '-mndcg_cut.10', '-mrecip_rank.100', 'data/trec-covid/qrels/test_corrigido.tsv', 'runs/checkpoints_seiti_loss.tsv']\n",
            "Results:\n",
            "map                   \tall\t0.0007\n",
            "recip_rank            \tall\t0.0288\n",
            "recall_1000           \tall\t0.0221\n",
            "ndcg_cut_10           \tall\t0.0084\n"
          ]
        }
      ]
    },
    {
      "cell_type": "code",
      "source": [],
      "metadata": {
        "id": "wduQf9nUt9qX"
      },
      "execution_count": null,
      "outputs": []
    }
  ]
}